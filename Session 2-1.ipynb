{
 "cells": [
  {
   "cell_type": "markdown",
   "metadata": {},
   "source": [
    "# Python Strings"
   ]
  },
  {
   "cell_type": "markdown",
   "metadata": {},
   "source": [
    "## What is a String?\n",
    "\n",
    "In Python, a **string** (`str`) is a sequence of characters.\n",
    "\n",
    "Strings are created by enclosing characters within either **single quotes (`'`)** or **double quotes (`\"`)**."
   ]
  },
  {
   "cell_type": "code",
   "execution_count": 1,
   "metadata": {},
   "outputs": [
    {
     "name": "stdout",
     "output_type": "stream",
     "text": [
      "Thank you so much for choosing our store!\n",
      "Thank you so much for choosing our store!\n"
     ]
    }
   ],
   "source": [
    "msg_single = 'Thank you so much for choosing our store!'\n",
    "print(msg_single)\n",
    "msg_double = \"Thank you so much for choosing our store!\"\n",
    "print(msg_double)"
   ]
  },
  {
   "cell_type": "markdown",
   "metadata": {},
   "source": [
    "## Handling Quotes Inside Strings\n",
    "\n",
    "What if you need to include a quote character within the string itself? For example, the word \"Don't\" contains a single quote.\n",
    "\n",
    "If you use the same type of quote for the string literal and inside the string, Python gets confused:"
   ]
  },
  {
   "cell_type": "code",
   "execution_count": 2,
   "metadata": {
    "tags": [
     "raises-exception"
    ]
   },
   "outputs": [
    {
     "ename": "SyntaxError",
     "evalue": "unterminated string literal (detected at line 1) (2602066153.py, line 1)",
     "output_type": "error",
     "traceback": [
      "\u001b[0;36m  Cell \u001b[0;32mIn[2], line 1\u001b[0;36m\u001b[0m\n\u001b[0;31m    promo_msg='Don't miss this offer'\u001b[0m\n\u001b[0m                                    ^\u001b[0m\n\u001b[0;31mSyntaxError\u001b[0m\u001b[0;31m:\u001b[0m unterminated string literal (detected at line 1)\n"
     ]
    }
   ],
   "source": [
    "promo_msg='Don't miss this offer'"
   ]
  },
  {
   "cell_type": "markdown",
   "metadata": {},
   "source": [
    "The code above results in a `SyntaxError` because Python thinks the string ends after `Don`.\n",
    "\n",
    "There are two main ways to solve this:"
   ]
  },
  {
   "cell_type": "markdown",
   "metadata": {},
   "source": [
    "### 1. Use a Different Type of Quote\n",
    "\n",
    "If your string contains single quotes, enclose the entire string in double quotes, and vice versa."
   ]
  },
  {
   "cell_type": "code",
   "execution_count": 3,
   "metadata": {},
   "outputs": [
    {
     "name": "stdout",
     "output_type": "stream",
     "text": [
      "Don't miss this offer\n",
      "He said, \"Hello!\"\n"
     ]
    }
   ],
   "source": [
    "promo_msg = \"Don't miss this offer\"\n",
    "print(promo_msg)\n",
    "quote = 'He said, \"Hello!\"'\n",
    "print(quote)"
   ]
  },
  {
   "cell_type": "markdown",
   "metadata": {},
   "source": [
    "### 2. Use Escape Characters\n",
    "\n",
    "An **escape character** tells Python that the character immediately following it should be treated differently or has a special meaning. The escape character in Python is the backslash (`\\`).\n",
    "\n",
    "To include a quote character that's the same as the delimiter, precede it with a backslash."
   ]
  },
  {
   "cell_type": "code",
   "execution_count": 4,
   "metadata": {},
   "outputs": [
    {
     "name": "stdout",
     "output_type": "stream",
     "text": [
      "Don't miss this offer\n",
      "She replied, \"Hi!\"\n"
     ]
    }
   ],
   "source": [
    "promo_message = 'Don\\'t miss this offer'\n",
    "print(promo_message)\n",
    "another_quote = \"She replied, \\\"Hi!\\\"\"\n",
    "print(another_quote)"
   ]
  },
  {
   "cell_type": "markdown",
   "metadata": {},
   "source": [
    "## Common Escape Sequences\n",
    "\n",
    "The backslash (`\\`) is used to create several special character sequences:\n",
    "\n",
    "| Sequence | Meaning                  |\n",
    "| :------- | :----------------------- |\n",
    "| `\\'`     | Single quote (')         |\n",
    "| `\\\"`     | Double quote (\")         |\n",
    "| `\\\\`     | Backslash (\\)          |\n",
    "| `\\n`     | Newline                  |\n",
    "| `\\t`     | Tab                      |"
   ]
  },
  {
   "cell_type": "markdown",
   "metadata": {},
   "source": [
    "### Example: Using Escape Sequences\n",
    "\n",
    "Let's generate a message that includes newlines, tabs, double quotes, and a backslash."
   ]
  },
  {
   "cell_type": "code",
   "execution_count": 5,
   "metadata": {},
   "outputs": [
    {
     "name": "stdout",
     "output_type": "stream",
     "text": [
      "Limited-time offer!\n",
      "\n",
      "\t\"SUMMER\\25\"\n"
     ]
    }
   ],
   "source": [
    "promo_msg_dc = 'Limited-time offer!\\n\\n\\t\"SUMMER\\\\25\"'\n",
    "print(promo_msg_dc)"
   ]
  },
  {
   "cell_type": "markdown",
   "metadata": {},
   "source": [
    "## Multi-line Strings\n",
    "\n",
    "To create strings that span multiple lines while preserving the line breaks and indentation, you can enclose the text within **three single quotes (`'''`)** or **three double quotes (`\"\"\"`)**."
   ]
  },
  {
   "cell_type": "code",
   "execution_count": 6,
   "metadata": {},
   "outputs": [
    {
     "name": "stdout",
     "output_type": "stream",
     "text": [
      "Limited-time offer!\n",
      "\t\"SUMMER\u0015\"\n"
     ]
    }
   ],
   "source": [
    "multi_line_msg = '''Limited-time offer!\n",
    "\t\"SUMMER\\25\"'''\n",
    "print(multi_line_msg)"
   ]
  },
  {
   "cell_type": "code",
   "execution_count": 7,
   "metadata": {},
   "outputs": [
    {
     "name": "stdout",
     "output_type": "stream",
     "text": [
      "Limited-time offer!\n",
      "\n",
      "\t\"SUMMER\u0015\n"
     ]
    }
   ],
   "source": [
    "promo_msg_dc = \"\"\"Limited-time offer!\n",
    "\n",
    "\t\"SUMMER\\25\"\"\"\n",
    "print(promo_msg_dc)"
   ]
  },
  {
   "cell_type": "markdown",
   "metadata": {},
   "source": [
    "## String Concatenation\n",
    "\n",
    "The **plus operator (`+`)** can be used to combine (concatenate) two or more strings together."
   ]
  },
  {
   "cell_type": "code",
   "execution_count": 8,
   "metadata": {},
   "outputs": [
    {
     "name": "stdout",
     "output_type": "stream",
     "text": [
      "James, Don't miss this offer!\n"
     ]
    }
   ],
   "source": [
    "name = \"James\"\n",
    "promo_msg = \"Don't miss this offer!\"\n",
    "promo_msg_nm = name + ', ' + promo_msg\n",
    "print(promo_msg_nm)"
   ]
  },
  {
   "cell_type": "markdown",
   "metadata": {},
   "source": [
    "### Concatenation Type Error\n",
    "\n",
    "You **cannot** directly concatenate a string with a non-string type, like an integer, using the `+` operator. This will result in a `TypeError`."
   ]
  },
  {
   "cell_type": "code",
   "execution_count": 9,
   "metadata": {
    "tags": [
     "raises-exception"
    ]
   },
   "outputs": [
    {
     "ename": "TypeError",
     "evalue": "can only concatenate str (not \"int\") to str",
     "output_type": "error",
     "traceback": [
      "\u001b[0;31m---------------------------------------------------------------------------\u001b[0m",
      "\u001b[0;31mTypeError\u001b[0m                                 Traceback (most recent call last)",
      "Cell \u001b[0;32mIn[9], line 2\u001b[0m\n\u001b[1;32m      1\u001b[0m dc_rate \u001b[38;5;241m=\u001b[39m \u001b[38;5;241m25\u001b[39m\n\u001b[0;32m----> 2\u001b[0m dc_code \u001b[38;5;241m=\u001b[39m \u001b[38;5;124;43m\"\u001b[39;49m\u001b[38;5;124;43mSUMMERSALE\u001b[39;49m\u001b[38;5;130;43;01m\\\\\u001b[39;49;00m\u001b[38;5;124;43m\"\u001b[39;49m\u001b[43m \u001b[49m\u001b[38;5;241;43m+\u001b[39;49m\u001b[43m \u001b[49m\u001b[43mdc_rate\u001b[49m\n\u001b[1;32m      3\u001b[0m \u001b[38;5;28mprint\u001b[39m(dc_code)\n",
      "\u001b[0;31mTypeError\u001b[0m: can only concatenate str (not \"int\") to str"
     ]
    }
   ],
   "source": [
    "dc_rate = 25\n",
    "dc_code = \"SUMMERSALE\\\\\" + dc_rate\n",
    "print(dc_code)"
   ]
  },
  {
   "cell_type": "markdown",
   "metadata": {},
   "source": [
    "### Converting Numbers to Strings for Concatenation\n",
    "\n",
    "To combine a number with a string using `+`, you first need to convert the number to its string representation using the `str()` function."
   ]
  },
  {
   "cell_type": "code",
   "execution_count": 10,
   "metadata": {},
   "outputs": [
    {
     "name": "stdout",
     "output_type": "stream",
     "text": [
      "SUMMERSALE\\25\n",
      "SUMMERSALE\\10\n"
     ]
    }
   ],
   "source": [
    "dc_rate = 25\n",
    "dc_code = \"SUMMERSALE\\\\\" + str(dc_rate)\n",
    "print(dc_code)\n",
    "dc_rate = 10\n",
    "dc_code = \"SUMMERSALE\\\\\" + str(dc_rate)\n",
    "print(dc_code)"
   ]
  },
  {
   "cell_type": "markdown",
   "metadata": {},
   "source": [
    "## f-Strings (Formatted String Literals)\n",
    "\n",
    "f-strings provide a more modern, concise, and readable way to embed expressions (like variables) directly inside string literals.\n",
    "\n",
    "*   Start the string literal with the letter `f` or `F` immediately before the opening quote (`f\"...\"` or `f'...'`).\n",
    "*   Inside the string, enclose variables or expressions in curly braces `{}`.\n",
    "*   Python will evaluate the expressions inside the braces and insert their resulting values into the string."
   ]
  },
  {
   "cell_type": "code",
   "execution_count": 11,
   "metadata": {},
   "outputs": [
    {
     "name": "stdout",
     "output_type": "stream",
     "text": [
      "SUMMERSALE\\25\n"
     ]
    }
   ],
   "source": [
    "dc_rate = 25\n",
    "dc_code = f\"SUMMERSALE\\\\{dc_rate}\"\n",
    "print(dc_code)"
   ]
  },
  {
   "cell_type": "markdown",
   "metadata": {},
   "source": [
    "## Practice: Order Confirmation Email\n",
    "\n",
    "Let's use f-strings (combined with multi-line strings) to create a formatted email message using variables.\n",
    "\n",
    "**Goal:** Generate an email like this:\n",
    "```\n",
    "Dear James,\n",
    "\n",
    "Thank you for your recent purchase.\n",
    "Please find the details below:\n",
    "\n",
    "Order ID: 12345\n",
    "Product Name: Shirt (Price: $30, Quantity: 2)\n",
    "Total: $60\n",
    "\n",
    "If you have any questions, please reach out to us.\n",
    "```\n",
    "\n",
    "**Given Variables:**"
   ]
  },
  {
   "cell_type": "code",
   "execution_count": 12,
   "metadata": {},
   "outputs": [],
   "source": [
    "name = \"James\"\n",
    "OrderID = 12345\n",
    "ProductName = \"Shirt\"\n",
    "Price = 30\n",
    "Quantity = 2"
   ]
  },
  {
   "cell_type": "markdown",
   "metadata": {},
   "source": [
    "**Solution using f-string:**\n",
    "\n",
    "Notice how we can directly include variables and even calculations (`Price*Quantity`) within the curly braces `{}`."
   ]
  },
  {
   "cell_type": "code",
   "execution_count": 13,
   "metadata": {},
   "outputs": [
    {
     "name": "stdout",
     "output_type": "stream",
     "text": [
      "Dear James,\n",
      "\n",
      "Thank you for your recent purchase.\n",
      "Please find the details below:\n",
      "\n",
      "Order ID: 12345\n",
      "Product Name: Shirt (Price: $30, Quantity: 2)\n",
      "Total: $60\n",
      "\n",
      "If you have any questions, please reach out to us.\n",
      "\n"
     ]
    }
   ],
   "source": [
    "e_mail = f\"\"\"Dear {name},\n",
    "\n",
    "Thank you for your recent purchase.\n",
    "Please find the details below:\n",
    "\n",
    "Order ID: {OrderID}\n",
    "Product Name: {ProductName} (Price: ${Price}, Quantity: {Quantity})\n",
    "Total: ${Price * Quantity}\n",
    "\n",
    "If you have any questions, please reach out to us.\n",
    "\"\"\"\n",
    "print(e_mail)"
   ]
  },
  {
   "cell_type": "markdown",
   "metadata": {},
   "source": [
    "## Accessing Specific Characters: Indexing\n",
    "\n",
    "**Indexing** is the process of accessing individual elements (characters in the case of strings) using their position or **index number**.\n",
    "\n",
    "Python uses a **zero-based index system**: \n",
    "*   The first element has an index of `0`.\n",
    "*   The second element has an index of `1`.\n",
    "*   And so on...\n",
    "\n",
    "```\n",
    " String:   G  o  o  d     M  o  r  n  i  n  g\n",
    " Index:    0  1  2  3  4  5  6  7  8  9 10 11 \n",
    "```\n",
    "\n",
    "To access a character, use the variable name followed by square brackets `[]` containing the index number."
   ]
  },
  {
   "cell_type": "code",
   "execution_count": 14,
   "metadata": {},
   "outputs": [
    {
     "name": "stdout",
     "output_type": "stream",
     "text": [
      "The first character is: J\n"
     ]
    }
   ],
   "source": [
    "first_name = \"James\"\n",
    "first_char = first_name[0]\n",
    "print(f\"The first character is: {first_char}\")"
   ]
  },
  {
   "cell_type": "markdown",
   "metadata": {},
   "source": [
    "### Negative Indexing\n",
    "\n",
    "You can also access elements starting from the end of the string using **negative indices**:\n",
    "*   The last element has an index of `-1`.\n",
    "*   The second-to-last element has an index of `-2`.\n",
    "*   And so on...\n",
    "\n",
    "```\n",
    " String:      J  a  m  e  s\n",
    " Pos. Index:  0  1  2  3  4\n",
    " Neg. Index: -5 -4 -3 -2 -1 \n",
    "```"
   ]
  },
  {
   "cell_type": "code",
   "execution_count": 15,
   "metadata": {},
   "outputs": [
    {
     "name": "stdout",
     "output_type": "stream",
     "text": [
      "The last character is: s\n"
     ]
    }
   ],
   "source": [
    "first_name = \"James\"\n",
    "last_char = first_name[-1]\n",
    "print(f\"The last character is: {last_char}\")"
   ]
  },
  {
   "cell_type": "markdown",
   "metadata": {},
   "source": [
    "### Practice: First and Last Characters\n",
    "\n",
    "Using the `first_name` variable (\"James\"), let's retrieve the first and last characters using both positive and negative indexing."
   ]
  },
  {
   "cell_type": "code",
   "execution_count": 16,
   "metadata": {},
   "outputs": [
    {
     "name": "stdout",
     "output_type": "stream",
     "text": [
      "First Character:\n",
      "J\n",
      "J\n",
      "Last Character:\n",
      "s\n",
      "s\n"
     ]
    }
   ],
   "source": [
    "first_name = \"James\"\n",
    "print(\"First Character:\")\n",
    "print(first_name[0])\n",
    "print(first_name[-5])\n",
    "print(\"Last Character:\")\n",
    "print(first_name[4])\n",
    "print(first_name[-1])"
   ]
  },
  {
   "cell_type": "markdown",
   "metadata": {},
   "source": [
    "## Extracting Portions of a String: Slicing\n",
    "\n",
    "**Slicing** is a technique to extract a subsequence (a portion) of a string.\n",
    "\n",
    "The syntax uses square brackets with a colon (`:`):\n",
    "\n",
    "`sequence[start:end]`\n",
    "\n",
    "*   `start`: The index of the first character **included** in the slice. If omitted, defaults to the beginning (index 0).\n",
    "*   `end`: The index of the first character **excluded** from the slice. If omitted, defaults to the end of the sequence.\n",
    "\n",
    "The slice goes from `start` up to (but not including) `end`."
   ]
  },
  {
   "cell_type": "markdown",
   "metadata": {},
   "source": [
    "### Practice: Discount Coupon Code\n",
    "\n",
    "Given the discount code `dc_code = \"SUMMERSALE_25\"`:\n",
    "1.  Extract the season part (\"SUMMER\").\n",
    "2.  Extract the discount rate part (\"25\")."
   ]
  },
  {
   "cell_type": "code",
   "execution_count": 17,
   "metadata": {},
   "outputs": [
    {
     "name": "stdout",
     "output_type": "stream",
     "text": [
      "Original code: SUMMERSALE_25\n"
     ]
    }
   ],
   "source": [
    "dc_code = \"SUMMERSALE_25\"\n",
    "print(f\"Original code: {dc_code}\")"
   ]
  },
  {
   "cell_type": "markdown",
   "metadata": {},
   "source": [
    "#### Extracting the Season (\"SUMMER\")\n",
    "\n",
    "We want characters from index 0 up to (but not including) index 6.\n",
    "```\n",
    " String:      S  U  M  M  E  R  S  A  L  E  _  2  5\n",
    " Index:       0  1  2  3  4  5  6  7  8  9 10 11 12\n",
    " Neg. Index: -13..............................-2 -1\n",
    "```"
   ]
  },
  {
   "cell_type": "code",
   "execution_count": 18,
   "metadata": {},
   "outputs": [
    {
     "name": "stdout",
     "output_type": "stream",
     "text": [
      "Season part: SUMMER\n"
     ]
    }
   ],
   "source": [
    "season = dc_code[0:6]\n",
    "print(f\"Season part: {season}\")"
   ]
  },
  {
   "cell_type": "markdown",
   "metadata": {},
   "source": [
    "##### Alternative using `find()`\n",
    "The `find()` string method searches for a substring and returns the starting index of its first occurrence. We can use it to find where \"SALE\" starts (index 6) and use that as the `end` index for our slice."
   ]
  },
  {
   "cell_type": "code",
   "execution_count": 19,
   "metadata": {},
   "outputs": [
    {
     "name": "stdout",
     "output_type": "stream",
     "text": [
      "Index of 'SALE': 6\n",
      "Season part (dynamic): SUMMER\n"
     ]
    }
   ],
   "source": [
    "sale_index = dc_code.find('SALE')\n",
    "print(f\"Index of 'SALE': {sale_index}\")\n",
    "season_dynamic = dc_code[0:sale_index]\n",
    "print(f\"Season part (dynamic): {season_dynamic}\")"
   ]
  },
  {
   "cell_type": "markdown",
   "metadata": {},
   "source": [
    "#### Extracting the Discount Rate (\"25\")\n",
    "\n",
    "We want characters starting from index 11 to the end.\n",
    "```\n",
    " String:      S  U  M  M  E  R  S  A  L  E  _  2  5\n",
    " Index:       0  1  2  3  4  5  6  7  8  9 10 11 12\n",
    " Neg. Index: -13..............................-2 -1\n",
    "```\n",
    "The length of the string is 13. We want indices 11 and 12. So the slice is `[11:13]`."
   ]
  },
  {
   "cell_type": "code",
   "execution_count": 20,
   "metadata": {},
   "outputs": [
    {
     "name": "stdout",
     "output_type": "stream",
     "text": [
      "Discount rate: 25\n"
     ]
    }
   ],
   "source": [
    "discount_rate = dc_code[11:13]\n",
    "print(f\"Discount rate: {discount_rate}\")"
   ]
  },
  {
   "cell_type": "markdown",
   "metadata": {},
   "source": [
    "##### Alternative using `len()`\n",
    "The `len()` function returns the length of a sequence. We can use it to specify the end of the slice, especially if the length might vary."
   ]
  },
  {
   "cell_type": "code",
   "execution_count": 21,
   "metadata": {},
   "outputs": [
    {
     "name": "stdout",
     "output_type": "stream",
     "text": [
      "Length of dc_code: 13\n",
      "Discount rate (using len): 25\n"
     ]
    }
   ],
   "source": [
    "length = len(dc_code)\n",
    "print(f\"Length of dc_code: {length}\")\n",
    "discount_rate_len = dc_code[11:len(dc_code)]\n",
    "print(f\"Discount rate (using len): {discount_rate_len}\")"
   ]
  },
  {
   "cell_type": "markdown",
   "metadata": {},
   "source": [
    "### Omitting Slice Indices\n",
    "\n",
    "If you want to slice from the beginning or up to the end, you can omit the `start` or `end` index, respectively.\n",
    "\n",
    "*   `sequence[:end]` : Slice from the beginning up to (not including) `end`.\n",
    "*   `sequence[start:]`: Slice from `start` included, all the way to the end.\n",
    "\n",
    "This also works with negative indices."
   ]
  },
  {
   "cell_type": "code",
   "execution_count": 22,
   "metadata": {},
   "outputs": [
    {
     "name": "stdout",
     "output_type": "stream",
     "text": [
      "From beginning to index 6 (exclusive): SUMMER\n",
      "From beginning up to index -7 (exclusive): SUMMER\n",
      "From index 11 to end: 25\n",
      "From index -2 to end: 25\n"
     ]
    }
   ],
   "source": [
    "print(f\"From beginning to index 6 (exclusive): {dc_code[:6]}\")\n",
    "print(f\"From beginning up to index -7 (exclusive): {dc_code[:-7]}\")\n",
    "print(f\"From index 11 to end: {dc_code[11:]}\")\n",
    "print(f\"From index -2 to end: {dc_code[-2:]}\")"
   ]
  },
  {
   "cell_type": "markdown",
   "metadata": {},
   "source": [
    "## Useful String Methods\n",
    "\n",
    "Strings come with built-in **methods** (functions associated with an object) to perform common operations."
   ]
  },
  {
   "cell_type": "markdown",
   "metadata": {},
   "source": [
    "### `in` Operator\n",
    "\n",
    "Checks if a substring exists within a larger string. Returns `True` or `False`."
   ]
  },
  {
   "cell_type": "code",
   "execution_count": 23,
   "metadata": {},
   "outputs": [
    {
     "name": "stdout",
     "output_type": "stream",
     "text": [
      "'SALE' in dc_code: True\n",
      "'WINTER' in dc_code: False\n"
     ]
    }
   ],
   "source": [
    "dc_code = \"SUMMERSALE_25\"\n",
    "print(f\"'SALE' in dc_code: {'SALE' in dc_code}\")\n",
    "print(f\"'WINTER' in dc_code: {'WINTER' in dc_code}\")"
   ]
  },
  {
   "cell_type": "markdown",
   "metadata": {},
   "source": [
    "### `rfind(substring)`\n",
    "\n",
    "Searches for the *last* occurrence of `substring` and returns the starting index. Returns `-1` if not found. (There's also `find()` for the first occurrence)."
   ]
  },
  {
   "cell_type": "code",
   "execution_count": 24,
   "metadata": {},
   "outputs": [
    {
     "name": "stdout",
     "output_type": "stream",
     "text": [
      "Index of last 'S': 6\n",
      "Index of '25': 11\n",
      "Index of 'X': -1\n"
     ]
    }
   ],
   "source": [
    "dc_code = \"SUMMERSALE_25\"\n",
    "print(f\"Index of last 'S': {dc_code.rfind('S')}\")\n",
    "print(f\"Index of '25': {dc_code.rfind('25')}\")\n",
    "print(f\"Index of 'X': {dc_code.rfind('X')}\")"
   ]
  },
  {
   "cell_type": "markdown",
   "metadata": {},
   "source": [
    "### `replace(old, new)`\n",
    "\n",
    "Returns a *new* string where all occurrences of the `old` substring are replaced with the `new` substring. The original string remains unchanged."
   ]
  },
  {
   "cell_type": "code",
   "execution_count": 25,
   "metadata": {},
   "outputs": [
    {
     "name": "stdout",
     "output_type": "stream",
     "text": [
      "Original code: SUMMERSALE_25\n",
      "Replaced code: SUMMERSALE_30\n",
      "Replaced msg: heXXo worXd\n"
     ]
    }
   ],
   "source": [
    "dc_code = \"SUMMERSALE_25\"\n",
    "new_code = dc_code.replace('25', '30')\n",
    "print(f\"Original code: {dc_code}\")\n",
    "print(f\"Replaced code: {new_code}\")\n",
    "msg = \"hello world\"\n",
    "new_msg = msg.replace('l', 'X')\n",
    "print(f\"Replaced msg: {new_msg}\")"
   ]
  },
  {
   "cell_type": "markdown",
   "metadata": {},
   "source": [
    "## String Summary\n",
    "\n",
    "*   **Definition:** Sequence of characters in single (`'`) or double (`\"`) quotes.\n",
    "*   **Escape Characters:** Backslash (`\\`) used to include special characters (`\\'`, `\\\"`, `\\\\`, `\\n`, `\\t`).\n",
    "*   **Multi-line Strings:** Use triple quotes (`'''` or `\"\"\"`) to preserve formatting.\n",
    "*   **Concatenation:** Use `+` to combine strings (convert numbers with `str()` first).\n",
    "*   **f-strings:** Use `f\"...{expression}...\"` for easy embedding of variables/expressions.\n",
    "*   **Indexing:** Access single characters using `[]` and zero-based index (positive or negative).\n",
    "*   **Slicing:** Extract portions using `[start:end]`. Indices can be omitted.\n",
    "*   **Length:** Use `len()` to find the number of characters.\n",
    "*   **Methods:** Built-in functions like `find()`, `rfind()`, `replace()`, and operators like `in` provide powerful ways to manipulate and inspect strings."
   ]
  }
 ],
 "metadata": {
  "kernelspec": {
   "display_name": "McGill",
   "language": "python",
   "name": "python3"
  },
  "language_info": {
   "codemirror_mode": {
    "name": "ipython",
    "version": 3
   },
   "file_extension": ".py",
   "mimetype": "text/x-python",
   "name": "python",
   "nbconvert_exporter": "python",
   "pygments_lexer": "ipython3",
   "version": "3.12.4"
  }
 },
 "nbformat": 4,
 "nbformat_minor": 2
}
