{
  "cells": [
    {
      "cell_type": "markdown",
      "metadata": {},
      "source": [
        "# Functions in Python"
      ]
    },
    {
      "cell_type": "markdown",
      "metadata": {},
      "source": [
        "## What is a Function?\n",
        "\n",
        "A **function** is a named block of reusable code designed to perform a specific task. Using functions helps organize code, makes it more readable, and avoids repetition (following the DRY principle - Don't Repeat Yourself).\n",
        "\n",
        "Key concepts:\n",
        "*   **Define:** The process of creating a function, giving it a name, specifying any inputs it needs (parameters), and writing the code block it will execute.\n",
        "*   **Call:** The action of executing or running a function at a specific point in the program.\n",
        "*   **Return:** (Optional) A function can send a value or result back to the part of the program that called it using the `return` statement. If a function doesn't have an explicit `return` statement that returns a value, it implicitly returns `None`."
      ]
    },
    {
      "cell_type": "markdown",
      "metadata": {},
      "source": [
        "### Why Use Functions?\n",
        "\n",
        "The main idea is to **organize** and **encapsulate** a set of instructions so they can be easily reused multiple times within a program just by calling the function's name."
      ]
    },
    {
      "cell_type": "markdown",
      "metadata": {},
      "source": [
        "## Defining a Function\n",
        "\n",
        "Defining a function describes specifically how a named block of code behaves.\n",
        "\n",
        "**Syntax:**\n",
        "```python\n",
        "def function_name(parameter1, parameter2, ...):\n",
        "    \"\"\"Optional docstring explaining what the function does.\"\"\"\n",
        "    # Code Block: Indented statements that perform the task\n",
        "    statement1\n",
        "    statement2\n",
        "    # ...\n",
        "    return result # Optional: returns a value back to the caller\n",
        "```\n",
        "*   **`def`**: Keyword indicating the start of a function definition.\n",
        "*   **`function_name`**: A unique name following standard variable naming rules.\n",
        "*   **`()`**: Parentheses are required. They contain the parameters.\n",
        "*   **`parameter1, parameter2, ...`** (Optional): Variables representing the input values the function expects to receive. If a function doesn't need input, the parentheses are empty: `def my_function():`.\n",
        "*   **`:`**: Colon marks the end of the function definition line.\n",
        "*   **Docstring** (Optional but recommended): A string literal (`\"\"\"...\"\"\"`) right after the `def` line explaining the function's purpose.\n",
        "*   **Code Block**: One or more indented statements that make up the function's body.\n",
        "*   **`return result`** (Optional): Sends the `result` value back to where the function was called. If omitted, the function implicitly returns `None`."
      ]
    },
    {
      "cell_type": "markdown",
      "metadata": {},
      "source": [
        "## Function Examples"
      ]
    },
    {
      "cell_type": "markdown",
      "metadata": {},
      "source": [
        "### Case 1: Function without Parameters and Return Values\n",
        "\n",
        "This function performs a fixed action (printing a message) every time it's called. It doesn't need any input and doesn't send any result back (other than performing the print action)."
      ]
    },
    {
      "cell_type": "code",
      "execution_count": 1,
      "metadata": {},
      "outputs": [
        {
          "name": "stdout",
          "output_type": "stream",
          "text": [
            "Calling promo() the first time:\n",
            "Spend over $50 for a 10% discount coupon.\n",
            "\n",
            "Calling promo() the second time:\n",
            "Spend over $50 for a 10% discount coupon.\n"
          ]
        }
      ],
      "source": [
        "# Define the function\n",
        "def promo():\n",
        "    print(\"Spend over $50 for a 10% discount coupon.\")\n",
        "\n",
        "# Call the function (multiple times)\n",
        "print(\"Calling promo() the first time:\")\n",
        "promo()\n",
        "print(\"\\nCalling promo() the second time:\")\n",
        "promo()"
      ]
    },
    {
      "cell_type": "markdown",
      "metadata": {},
      "source": [
        "### Case 2: Function with Parameters, No Explicit Return Value\n",
        "\n",
        "This function takes inputs (parameters `min_amount`, `discount_rate`) to customize its action (the printed message). It still doesn't explicitly `return` a value."
      ]
    },
    {
      "cell_type": "code",
      "execution_count": 2,
      "metadata": {},
      "outputs": [
        {
          "name": "stdout",
          "output_type": "stream",
          "text": [
            "Calling promo(50, 30):\n",
            "Spend over $50 for a 30% discount coupon.\n",
            "\n",
            "Calling promo(30, 10):\n",
            "Spend over $30 for a 10% discount coupon.\n"
          ]
        }
      ],
      "source": [
        "# Define the function with parameters\n",
        "def promo(min_amount, discount_rate):\n",
        "    print(f\"Spend over ${min_amount} for a {discount_rate}% discount coupon.\")\n",
        "\n",
        "# Call the function with different arguments\n",
        "print(\"Calling promo(50, 30):\")\n",
        "promo(50, 30)\n",
        "\n",
        "print(\"\\nCalling promo(30, 10):\")\n",
        "promo(30, 10)"
      ]
    },
    {
      "cell_type": "markdown",
      "metadata": {},
      "source": [
        "### Case 3: Function with Parameters and a Return Value\n",
        "\n",
        "This function takes inputs, performs a calculation based on a condition, and uses `return` to send the calculated result (`pay_amount`) back to the caller. The caller can then store this returned value in a variable or use it directly in further calculations."
      ]
    },
    {
      "cell_type": "code",
      "execution_count": 3,
      "metadata": {},
      "outputs": [],
      "source": [
        "# Define the function with parameters and return\n",
        "def promo_order_pay(order_amount, min_amount, discount_rate):\n",
        "    if order_amount > min_amount:\n",
        "        # Apply discount\n",
        "        pay_amount = order_amount * (100 - discount_rate) / 100\n",
        "    else:\n",
        "        # No discount\n",
        "        pay_amount = order_amount\n",
        "    return pay_amount"
      ]
    },
    {
      "cell_type": "markdown",
      "metadata": {},
      "source": [
        "#### Calling Case 3 Function and Using the Return Value"
      ]
    },
    {
      "cell_type": "code",
      "execution_count": 4,
      "metadata": {},
      "outputs": [
        {
          "name": "stdout",
          "output_type": "stream",
          "text": [
            "Amount after potential discount: $90.0\n",
            "Final amount including tax: $103.4775\n",
            "\n",
            "Amount for a $40 order: $40\n"
          ]
        }
      ],
      "source": [
        "# Call the function and store the returned value\n",
        "amount_after_discount = promo_order_pay(100, 50, 10) # Qualifies for 10% discount\n",
        "print(f\"Amount after potential discount: ${amount_after_discount}\")\n",
        "\n",
        "# Use the returned value in another calculation\n",
        "sales_tax_rate = 14.975\n",
        "pay_amount_tax = amount_after_discount * (1 + (sales_tax_rate / 100))\n",
        "\n",
        "print(f\"Final amount including tax: ${pay_amount_tax:.4f}\") \n",
        "\n",
        "# Example where discount is not applied\n",
        "amount_no_discount = promo_order_pay(40, 50, 10) # Doesn't meet min_amount\n",
        "print(f\"\\nAmount for a $40 order: ${amount_no_discount}\")"
      ]
    },
    {
      "cell_type": "markdown",
      "metadata": {},
      "source": [
        "## Discussion: `return` vs. `print`\n",
        "\n",
        "What's the difference between using `return` and `print` inside a function?\n",
        "\n",
        "*   **`print()`:** Displays information to the console/output. It's for showing things to the user. It does *not* send a value back to the part of the code that called the function. The function implicitly returns `None` if it only contains `print` and no `return` statement.\n",
        "*   **`return`:** Sends a value back from the function to the calling code. This returned value can be stored in a variable, used in calculations, passed to another function, etc. It does *not* automatically display anything to the console."
      ]
    },
    {
      "cell_type": "markdown",
      "metadata": {},
      "source": [
        "### Example: `abs` with `return`"
      ]
    },
    {
      "cell_type": "code",
      "execution_count": 5,
      "metadata": {},
      "outputs": [
        {
          "name": "stdout",
          "output_type": "stream",
          "text": [
            "Result from abs_with_return(-10): 10\n",
            "Can use the result: 20\n"
          ]
        }
      ],
      "source": [
        "def abs_with_return(arg):\n",
        "    if arg < 0:\n",
        "        result = -1 * arg\n",
        "    else:\n",
        "        result = arg\n",
        "    return result\n",
        "\n",
        "# Call and store the returned value\n",
        "value = abs_with_return(-10)\n",
        "print(f\"Result from abs_with_return(-10): {value}\") \n",
        "print(f\"Can use the result: {value * 2}\")"
      ]
    },
    {
      "cell_type": "markdown",
      "metadata": {},
      "source": [
        "### Example: `abs` with `print`"
      ]
    },
    {
      "cell_type": "code",
      "execution_count": 6,
      "metadata": {},
      "outputs": [
        {
          "name": "stdout",
          "output_type": "stream",
          "text": [
            "Calling abs_with_print(-10):\n",
            "10\n",
            "\n",
            "Value stored in value2: None\n",
            "Type of value2: <class 'NoneType'>\n"
          ]
        }
      ],
      "source": [
        "def abs_with_print(arg):\n",
        "    if arg < 0:\n",
        "        result = -1 * arg\n",
        "    else:\n",
        "        result = arg\n",
        "    print(result) # Prints directly, doesn't return the value\n",
        "\n",
        "# Call the function\n",
        "print(\"Calling abs_with_print(-10):\")\n",
        "value2 = abs_with_print(-10) # Function executes and prints 10\n",
        "\n",
        "# Check what value2 holds\n",
        "print(f\"\\nValue stored in value2: {value2}\")\n",
        "print(f\"Type of value2: {type(value2)}\")"
      ]
    },
    {
      "cell_type": "markdown",
      "metadata": {},
      "source": [
        "As you can see, `abs_with_print` displays the result (10), but the variable `value2` that tried to capture the result actually holds `None`. This is because the function didn't explicitly `return` the calculated `result`. Trying to use `value2` in a calculation would likely cause an error (e.g., `value2 * 2` would fail)."
      ]
    }
  ],
  "metadata": {
    "kernelspec": {
      "display_name": "McGill",
      "language": "python",
      "name": "python3"
    },
    "language_info": {
      "codemirror_mode": {
        "name": "ipython",
        "version": 3
      },
      "file_extension": ".py",
      "mimetype": "text/x-python",
      "name": "python",
      "nbconvert_exporter": "python",
      "pygments_lexer": "ipython3",
      "version": "3.12.4"
    }
  },
  "nbformat": 4,
  "nbformat_minor": 2
}
