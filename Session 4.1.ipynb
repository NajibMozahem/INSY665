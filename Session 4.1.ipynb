{
 "cells": [
  {
   "cell_type": "markdown",
   "metadata": {},
   "source": [
    "# Loop (I): The `for` Statement\n",
    "\n",
    "Based on slides by Hyunji So, McGill Desautels."
   ]
  },
  {
   "cell_type": "markdown",
   "metadata": {},
   "source": [
    "## Loops: Repeating Code\n",
    "\n",
    "**Loops** are control flow structures that allow a block of code to be executed **repeatedly**. This repetition is often based on iterating over a sequence or continuing as long as a certain condition remains true.\n",
    "\n",
    "Python provides two main types of loops:\n",
    "\n",
    "1.  **`for` Statement:** Used for iterating over a sequence (like a list, tuple, dictionary, string) or other iterable object.\n",
    "2.  **`while` Statement:** Used for repeating a block of code as long as a specific condition is `True` (covered later)."
   ]
  },
  {
   "cell_type": "markdown",
   "metadata": {},
   "source": [
    "## The `for` Statement\n",
    "\n",
    "The `for` loop is designed to **traverse** (iterate over) the items in a sequence or any other iterable object (like lists, strings, dictionaries, range objects).\n",
    "\n",
    "**Syntax:**\n",
    "```python\n",
    "for item in sequence:\n",
    "    # Code Block to execute for each item\n",
    "    # Use the 'item' variable here\n",
    "    statement_1\n",
    "    statement_2\n",
    "    ...\n",
    "```\n",
    "*   **`sequence`**: The iterable object (e.g., a list, string) you want to loop through.\n",
    "*   **`item`**: A variable that takes on the value of each element in the `sequence`, one at a time, during each iteration of the loop.\n",
    "*   **`:`**: A colon marks the end of the `for` statement line.\n",
    "*   **Indentation**: The code block *must* be indented. It's executed once for each item in the sequence.\n",
    "*   The loop automatically stops after the last item in the sequence has been processed."
   ]
  },
  {
   "cell_type": "markdown",
   "metadata": {},
   "source": [
    "## Practice: Printing All Elements of a List\n",
    "\n",
    "Instead of printing each element by its index manually, we can use a `for` loop to iterate through the list and print each item."
   ]
  },
  {
   "cell_type": "code",
   "execution_count": null,
   "metadata": {},
   "outputs": [],
   "source": [
    "website_list=['google','youtube','instagram']\n",
    "\n",
    "# Manual way (less efficient for long lists)\n",
    "# print(website_list[0])\n",
    "# print(website_list[1])\n",
    "# print(website_list[2])\n",
    "\n",
    "# Using a for loop\n",
    "print(\"Using a for loop:\")\n",
    "for website in website_list:\n",
    "    print(website)"
   ]
  },
  {
   "cell_type": "markdown",
   "metadata": {},
   "source": [
    "## Practice: Finding All Positive Numbers\n",
    "\n",
    "**Task:** Use a `for` loop to iterate through a list of numbers. If a number is positive, add it to a new list. Finally, print the new list containing only the positive numbers.\n",
    "\n",
    "**Input List:** `price_list = [-3, 10, 20, -5, 15, 25]`"
   ]
  },
  {
   "cell_type": "code",
   "execution_count": null,
   "metadata": {},
   "outputs": [],
   "source": [
    "price_list = [-3, 10, 20, -5, 15, 25]\n",
    "\n",
    "filtered_dataset = []\n",
    "\n",
    "for price in price_list:\n",
    "    if price > 0:\n",
    "        filtered_dataset.append(price)\n",
    "\n",
    "print(filtered_dataset)"
   ]
  },
  {
   "cell_type": "markdown",
   "metadata": {},
   "source": [
    "## `for` Loop Flow\n",
    "\n",
    "1.  **Initialization:** The loop variable (`item`) takes the value of the *first* element in the sequence.\n",
    "2.  **Execution:** The indented code block is executed using the current value of `item`.\n",
    "3.  **Iteration:** The loop variable (`item`) moves to the *next* element in the sequence.\n",
    "4.  **Continuation:** Steps 2 and 3 are repeated.\n",
    "5.  **Termination:** The loop stops *after* the code block has been executed for the *last* element in the sequence."
   ]
  },
  {
   "cell_type": "markdown",
   "metadata": {},
   "source": [
    "## `for` Loop with the `range()` Function\n",
    "\n",
    "Often, you need to execute a loop a specific number of times or iterate over a sequence of numbers. The `range()` function is perfect for this.\n",
    "\n",
    "`range()` generates a sequence of numbers.\n",
    "\n",
    "**Common Uses:**\n",
    "1.  **Repeating a block N times:** `for i in range(N):`\n",
    "2.  **Generating a sequence of numbers:** `for num in range(start, stop, step):`"
   ]
  },
  {
   "cell_type": "markdown",
   "metadata": {},
   "source": [
    "### The `range()` Function Details\n",
    "\n",
    "`range(start, stop, step)`\n",
    "\n",
    "*   `start` (optional, default=0): The starting value of the sequence (inclusive).\n",
    "*   `stop` (required): The sequence goes up to, but **does not include**, this value (exclusive).\n",
    "*   `step` (optional, default=1): The increment (or decrement if negative) between values."
   ]
  },
  {
   "cell_type": "markdown",
   "metadata": {},
   "source": [
    "#### `range()` with 3 Parameters: `range(A, B, C)`\n",
    "\n",
    "*   Starts at `A`.\n",
    "*   Increments by `C`.\n",
    "*   Ends *before* reaching `B`."
   ]
  },
  {
   "cell_type": "code",
   "execution_count": null,
   "metadata": {},
   "outputs": [],
   "source": [
    "# Print numbers from 0 up to (not including) 5, step 1 (default step)\n",
    "print(\"Numbers from 0 to 4:\")\n",
    "for num in range(0, 5, 1):\n",
    "    print(num)\n",
    "\n",
    "# Print odd numbers from 1 up to (not including) 10\n",
    "print(\"\\nOdd numbers from 1 to 9:\")\n",
    "for num in range(1, 10, 2):\n",
    "    print(num)"
   ]
  },
  {
   "cell_type": "markdown",
   "metadata": {},
   "source": [
    "#### `range()` with 2 Parameters: `range(A, B)`\n",
    "\n",
    "*   Equivalent to `range(A, B, 1)`.\n",
    "*   Starts at `A`.\n",
    "*   Increments by 1 (default).\n",
    "*   Ends *before* reaching `B`.\n",
    "\n",
    "Useful for iterating through list indices."
   ]
  },
  {
   "cell_type": "code",
   "execution_count": null,
   "metadata": {},
   "outputs": [],
   "source": [
    "website_list=['google','youtube','instagram']\n",
    "print(\"Accessing elements by index using range(0, 3):\")\n",
    "# range(0, 3) generates numbers 0, 1, 2\n",
    "for i in range(0, 3):\n",
    "    print(f\"Index {i}: {website_list[i]}\")"
   ]
  },
  {
   "cell_type": "markdown",
   "metadata": {},
   "source": [
    "#### `range()` with 1 Parameter: `range(B)`\n",
    "\n",
    "*   Equivalent to `range(0, B, 1)`.\n",
    "*   Starts at 0 (default).\n",
    "*   Increments by 1 (default).\n",
    "*   Ends *before* reaching `B`.\n",
    "\n",
    "Often used with `len()` to iterate over indices, or simply to repeat a block `B` times."
   ]
  },
  {
   "cell_type": "code",
   "execution_count": null,
   "metadata": {},
   "outputs": [],
   "source": [
    "website_list=['google','youtube','instagram']\n",
    "list_length = len(website_list) # list_length is 3\n",
    "\n",
    "print(f\"Accessing elements using range(len(website_list)) which is range({list_length}):\")\n",
    "# range(3) generates numbers 0, 1, 2\n",
    "for i in range(list_length):\n",
    "    print(f\"Index {i}: {website_list[i]}\")\n",
    "\n",
    "print(\"\\nRepeating 'Hello!' 5 times using range(5):\")\n",
    "# range(5) generates 0, 1, 2, 3, 4 (loop runs 5 times)\n",
    "for num in range(5):\n",
    "    print(\"Hello!\")"
   ]
  },
  {
   "cell_type": "markdown",
   "metadata": {},
   "source": [
    "## Summary of `for` Loops\n",
    "\n",
    "*   The **`for` loop** is a control flow statement used to **repeat** a code block.\n",
    "*   It provides syntax for **iterating over elements** in a **sequence** (lists, strings, etc.) or other iterables.\n",
    "    *   The loop variable automatically takes the value of each element, simplifying iteration.\n",
    "*   The `for` loop is often used with the **`range()` function** to generate a sequence of numbers to control the iteration.\n",
    "    *   `range()` can specify start, stop, and step values for flexibility."
   ]
  }
 ],
 "metadata": {
  "kernelspec": {
   "display_name": "Python 3 (ipykernel)",
   "language": "python",
   "name": "python3"
  },
  "language_info": {
   "codemirror_mode": {
    "name": "ipython",
    "version": 3
   },
   "file_extension": ".py",
   "mimetype": "text/x-python",
   "name": "python",
   "nbconvert_exporter": "python",
   "pygments_lexer": "ipython3",
   "version": "3.11.7"
  }
 },
 "nbformat": 4,
 "nbformat_minor": 2
}