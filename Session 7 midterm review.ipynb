{
  "cells": [
    {
      "cell_type": "markdown",
      "metadata": {},
      "source": [
        "# Midterm Review: Python Programming Essentials"
      ]
    },
    {
      "cell_type": "markdown",
      "metadata": {},
      "source": [
        "This notebook provides a summary of key Python concepts covered in Sessions 1 through 5, to help you prepare for your midterm."
      ]
    },
    {
      "cell_type": "markdown",
      "metadata": {},
      "source": [
        "## 1. Python Fundamentals (from Session 1)"
      ]
    },
    {
      "cell_type": "markdown",
      "metadata": {},
      "source": [
        "### 1.1. Variables\n",
        "\n",
        "*   Named containers for storing data values.\n",
        "*   Assignment: `variable_name = value`.\n",
        "*   Naming Rules: Must start with a letter (a-z, A-Z) or an underscore (`_`). Can contain alphanumeric characters and underscores. Case-sensitive (`age`, `Age`, `AGE` are different)."
      ]
    },
    {
      "cell_type": "code",
      "execution_count": null,
      "metadata": {},
      "outputs": [
        {
          "name": "stdout",
          "output_type": "stream",
          "text": [
            "Hello, Reviewer! 10 3.14159 True\n"
          ]
        }
      ],
      "source": [
        "message = \"Hello, Reviewer!\"\n",
        "count = 10\n",
        "pi_value = 3.14159\n",
        "is_ready = True\n",
        "print(message, count, pi_value, is_ready)"
      ]
    },
    {
      "cell_type": "markdown",
      "metadata": {},
      "source": [
        "### 1.2. Data Types\n",
        "\n",
        "*   **Integer (`int`):** Whole numbers (e.g., `100`, `-5`).\n",
        "*   **Float (`float`):** Numbers with a decimal point (e.g., `3.14`, `-0.001`).\n",
        "*   **String (`str`):** Sequence of characters, for text (e.g., `\"Hello\"`, `'Python123'`).\n",
        "*   **Boolean (`bool`):** Truth values, `True` or `False` (case-sensitive).\n",
        "*   Python uses **dynamic typing**: you don't declare a variable's type.\n",
        "*   The `type()` function shows a variable's data type."
      ]
    },
    {
      "cell_type": "code",
      "execution_count": null,
      "metadata": {},
      "outputs": [
        {
          "name": "stdout",
          "output_type": "stream",
          "text": [
            "<class 'int'> <class 'float'> <class 'str'> <class 'bool'>\n"
          ]
        }
      ],
      "source": [
        "num_int = 100\n",
        "num_float = 25.5\n",
        "text_str = \"Midterm\"\n",
        "flag_bool = False\n",
        "print(type(num_int), type(num_float), type(text_str), type(flag_bool))"
      ]
    },
    {
      "cell_type": "markdown",
      "metadata": {},
      "source": [
        "### 1.3. Basic Input/Output: `print()` and `input()`\n",
        "\n",
        "*   **`print()`:** Displays output to the console.\n",
        "    *   Can print multiple items: `print(\"Value:\", x)`.\n",
        "*   **`input(prompt_message)`:** Pauses execution, waits for user to type input, and returns the input as a **string**.\n",
        "    *   Example: `name = input(\"Enter your name: \")`."
      ]
    },
    {
      "cell_type": "code",
      "execution_count": null,
      "metadata": {},
      "outputs": [
        {
          "name": "stdout",
          "output_type": "stream",
          "text": [
            "This is a print example.\n",
            "Hello, TestUser!\n"
          ]
        }
      ],
      "source": [
        "print(\"This is a print example.\")\n",
        "# user_name = input(\"Enter your name: \") # Example, commented out for non-interactive run\n",
        "user_name = \"TestUser\" # Placeholder for review notebook\n",
        "print(f\"Hello, {user_name}!\") # Using f-string for formatted output"
      ]
    },
    {
      "cell_type": "markdown",
      "metadata": {},
      "source": [
        "### 1.4. Comments\n",
        "\n",
        "*   Notes in your code ignored by Python.\n",
        "*   Start with `#` for single-line comments.\n",
        "*   Used to explain code or temporarily disable lines."
      ]
    },
    {
      "cell_type": "code",
      "execution_count": null,
      "metadata": {},
      "outputs": [
        {
          "name": "stdout",
          "output_type": "stream",
          "text": [
            "5\n"
          ]
        }
      ],
      "source": [
        "# This is a full-line comment\n",
        "x = 5 # This is an inline comment\n",
        "print(x)\n",
        "# print(\"This line won't execute\")"
      ]
    },
    {
      "cell_type": "markdown",
      "metadata": {},
      "source": [
        "### 1.5. Numerical Operations & Type Conversion\n",
        "\n",
        "*   **Arithmetic Operators:** `+` (addition), `-` (subtraction), `*` (multiplication), `/` (float division), `//` (integer/floor division), `%` (modulus/remainder), `**` (exponentiation).\n",
        "*   **Type Conversion:**\n",
        "    *   `int(value)`: Converts to integer (e.g., `int(\"123\")`, `int(3.9)` which truncates to `3`).\n",
        "    *   `float(value)`: Converts to float (e.g., `float(\"3.14\")`, `float(10)` which becomes `10.0`).\n",
        "    *   `str(value)`: Converts to string (e.g., `str(100)`, `str(3.14)`).\n",
        "    *   Crucial when using `input()` for numerical calculations."
      ]
    },
    {
      "cell_type": "code",
      "execution_count": null,
      "metadata": {},
      "outputs": [
        {
          "name": "stdout",
          "output_type": "stream",
          "text": [
            "10 + 3 = 13\n",
            "10 / 3 = 3.3333333333333335\n",
            "10 // 3 = 3\n",
            "10 % 3 = 1\n",
            "2 ** 3 = 8\n",
            "String '42' converted to int: 42, its square: 1764\n"
          ]
        }
      ],
      "source": [
        "a = 10\n",
        "b = 3\n",
        "print(f\"{a} + {b} = {a + b}\")\n",
        "print(f\"{a} / {b} = {a / b}\")\n",
        "print(f\"{a} // {b} = {a // b}\")\n",
        "print(f\"{a} % {b} = {a % b}\")\n",
        "print(f\"2 ** 3 = {2**3}\")\n",
        "\n",
        "num_str = \"42\" # Simulating input()\n",
        "num_int = int(num_str) # Convert string to integer\n",
        "print(f\"String '{num_str}' converted to int: {num_int}, its square: {num_int ** 2}\")"
      ]
    },
    {
      "cell_type": "markdown",
      "metadata": {},
      "source": [
        "## 2. Strings (from Session 2.1)"
      ]
    },
    {
      "cell_type": "markdown",
      "metadata": {},
      "source": [
        "### 2.1. Creating Strings\n",
        "\n",
        "*   Enclosed in single (`'`) or double (`\"`) quotes.\n",
        "*   **Escape Characters:** `\\` allows special characters:\n",
        "    *   `\\'`: Single quote\n",
        "    *   `\\\"`: Double quote\n",
        "    *   `\\\\`: Backslash\n",
        "    *   `\\n`: Newline\n",
        "    *   `\\t`: Tab\n",
        "*   **Multi-line Strings:** Use triple quotes (`'''` or `\"\"\"`) to span multiple lines and preserve formatting."
      ]
    },
    {
      "cell_type": "code",
      "execution_count": null,
      "metadata": {},
      "outputs": [
        {
          "name": "stdout",
          "output_type": "stream",
          "text": [
            "Hello, Python!\n",
            "It's a review with a newline:\n",
            "and a tab\t here.\n",
            "This is a\n",
            "multi-line string.\n"
          ]
        }
      ],
      "source": [
        "my_string1 = \"Hello, Python!\"\n",
        "my_string2 = 'It\\'s a review with a newline:\\nand a tab\\t here.'\n",
        "multi_line_string = \"\"\"This is a\n",
        "multi-line string.\"\"\"\n",
        "print(my_string1)\n",
        "print(my_string2)\n",
        "print(multi_line_string)"
      ]
    },
    {
      "cell_type": "markdown",
      "metadata": {},
      "source": [
        "### 2.2. String Concatenation and f-Strings\n",
        "\n",
        "*   **Concatenation (`+`):** Joins strings. Non-strings must be converted to `str()` first.\n",
        "    *   `\"Hello\" + \" \" + \"World\"` results in `\"Hello World\"`.\n",
        "*   **f-Strings (Formatted String Literals):** A concise way to embed expressions inside string literals. Prefix string with `f` or `F`.\n",
        "    *   `name = \"Alice\"; age = 30; f\"My name is {name} and I am {age}.\"`"
      ]
    },
    {
      "cell_type": "code",
      "execution_count": null,
      "metadata": {},
      "outputs": [
        {
          "name": "stdout",
          "output_type": "stream",
          "text": [
            "Welcome Student!\n",
            "Welcome, Student! Your score is 95.\n"
          ]
        }
      ],
      "source": [
        "greeting = \"Welcome\"\n",
        "name = \"Student\"\n",
        "year = 2024\n",
        "\n",
        "# Concatenation\n",
        "full_greeting_concat = greeting + \" \" + name + \"!\"\n",
        "print(full_greeting_concat)\n",
        "\n",
        "# f-string\n",
        "score = 95\n",
        "full_greeting_fstring = f\"{greeting}, {name}! Your score is {score}.\"\n",
        "print(full_greeting_fstring)"
      ]
    },
    {
      "cell_type": "markdown",
      "metadata": {},
      "source": [
        "### 2.3. Indexing and Slicing\n",
        "\n",
        "*   **Indexing:** Access individual characters. Zero-based (`string[0]` is first char). Negative indexing (`string[-1]` is last char).\n",
        "*   **Slicing:** Extract a subsequence (substring). `string[start:end:step]`.\n",
        "    *   `start`: Included (default: beginning).\n",
        "    *   `end`: Excluded (default: end).\n",
        "    *   `step`: Interval (default: 1)."
      ]
    },
    {
      "cell_type": "code",
      "execution_count": null,
      "metadata": {},
      "outputs": [
        {
          "name": "stdout",
          "output_type": "stream",
          "text": [
            "Original: Python Rocks\n",
            "First char: P\n",
            "Last char: s\n",
            "Slice [0:6]: Python\n",
            "Slice [7:]: Rocks\n",
            "Slice every 2nd char: Pto oc\n",
            "Reversed: skcoR nohtyP\n"
          ]
        }
      ],
      "source": [
        "text = \"Python Rocks\"\n",
        "print(f\"Original: {text}\")\n",
        "print(f\"First char: {text[0]}\")\n",
        "print(f\"Last char: {text[-1]}\")\n",
        "print(f\"Slice [0:6]: {text[0:6]}\") # or text[:6]\n",
        "print(f\"Slice [7:]: {text[7:]}\")\n",
        "print(f\"Slice every 2nd char: {text[::2]}\")\n",
        "print(f\"Reversed: {text[::-1]}\")"
      ]
    },
    {
      "cell_type": "markdown",
      "metadata": {},
      "source": [
        "### 2.4. Common String Methods (from Session 2.1)\n",
        "\n",
        "*   `len(string)`: Returns the length of the string.\n",
        "*   `substring in string`: Boolean check if `substring` exists in `string`.\n",
        "*   `string.find(substring)`: Returns the starting index of the first occurrence of `substring`. Returns -1 if not found.\n",
        "*   `string.rfind(substring)`: Returns the starting index of the last occurrence of `substring`. Returns -1 if not found.\n",
        "*   `string.replace(old, new)`: Returns a *new* string with all occurrences of `old` replaced by `new`. The original string is unchanged."
      ]
    },
    {
      "cell_type": "code",
      "execution_count": null,
      "metadata": {},
      "outputs": [
        {
          "name": "stdout",
          "output_type": "stream",
          "text": [
            "s: Midterm Review Session\n",
            "Length: 22\n",
            "'Review' in s: True\n",
            "Index of 'Review': 8\n",
            "Index of last 'e': 18\n",
            "Replaced 'Session' with 'Time': Midterm Review Time\n",
            "Original s is unchanged: Midterm Review Session\n"
          ]
        }
      ],
      "source": [
        "s = \"Midterm Review Session\"\n",
        "print(f\"s: {s}\")\n",
        "print(f\"Length: {len(s)}\")\n",
        "print(f\"'Review' in s: {'Review' in s}\")\n",
        "print(f\"Index of 'Review': {s.find('Review')}\")\n",
        "print(f\"Index of last 'e': {s.rfind('e')}\")\n",
        "s_replaced = s.replace(\"Session\", \"Time\")\n",
        "print(f\"Replaced 'Session' with 'Time': {s_replaced}\")\n",
        "print(f\"Original s is unchanged: {s}\")"
      ]
    },
    {
      "cell_type": "markdown",
      "metadata": {},
      "source": [
        "## 3. Conditional Statements (from Session 2.2)"
      ]
    },
    {
      "cell_type": "markdown",
      "metadata": {},
      "source": [
        "Conditional statements allow programs to make decisions and execute different code paths based on whether specific conditions are `True` or `False`."
      ]
    },
    {
      "cell_type": "markdown",
      "metadata": {},
      "source": [
        "### 3.1. `if`, `elif`, `else`\n",
        "\n",
        "*   `if condition:`: Executes block if `condition` is `True`.\n",
        "*   `elif another_condition:`: (Else if) Executes block if previous `if`/`elif` conditions were `False` and `another_condition` is `True`.\n",
        "*   `else:`: Executes block if all preceding `if`/`elif` conditions were `False`.\n",
        "*   Indentation is crucial for defining code blocks."
      ]
    },
    {
      "cell_type": "markdown",
      "metadata": {},
      "source": [
        "### 3.2. Comparison and Logical Operators\n",
        "\n",
        "*   **Comparison Operators:** `==` (equal), `!=` (not equal), `>` (greater than), `<` (less than), `>=` (greater or equal), `<=` (less or equal).\n",
        "*   **Logical Operators:** `and` (both true), `or` (at least one true), `not` (inverts boolean)."
      ]
    },
    {
      "cell_type": "code",
      "execution_count": null,
      "metadata": {},
      "outputs": [
        {
          "name": "stdout",
          "output_type": "stream",
          "text": [
            "It's nice and sunny.\n"
          ]
        }
      ],
      "source": [
        "temperature = 25\n",
        "is_raining = False\n",
        "\n",
        "if temperature > 30:\n",
        "    print(\"It's very hot!\")\n",
        "elif temperature > 20 and not is_raining:\n",
        "    print(\"It's nice and sunny.\")\n",
        "elif temperature < 10 or is_raining:\n",
        "    print(\"It's cold or raining. Stay warm!\")\n",
        "else:\n",
        "    print(\"Weather is moderate.\")"
      ]
    },
    {
      "cell_type": "markdown",
      "metadata": {},
      "source": [
        "### 3.3. Nested Conditions\n",
        "\n",
        "You can place `if`/`elif`/`else` statements inside the blocks of other conditional statements for more complex logic."
      ]
    },
    {
      "cell_type": "code",
      "execution_count": null,
      "metadata": {},
      "outputs": [
        {
          "name": "stdout",
          "output_type": "stream",
          "text": [
            "Welcome to the event!\n"
          ]
        }
      ],
      "source": [
        "age = 20\n",
        "has_ticket = True\n",
        "\n",
        "if age >= 18:\n",
        "    print(\"Adult detected.\")\n",
        "    if has_ticket:\n",
        "        print(\"Welcome to the event!\")\n",
        "    else:\n",
        "        print(\"You need a ticket to enter.\")\n",
        "else:\n",
        "    print(\"You are too young for this event.\")"
      ]
    },
    {
      "cell_type": "markdown",
      "metadata": {},
      "source": [
        "## 4. Data Structures"
      ]
    },
    {
      "cell_type": "markdown",
      "metadata": {},
      "source": [
        "### 4.1. Lists (from Session 3.1)\n",
        "\n",
        "*   Ordered, mutable (changeable) collection of items. Defined with `[]`.\n",
        "*   Can contain items of various data types, including other lists."
      ]
    },
    {
      "cell_type": "markdown",
      "metadata": {},
      "source": [
        "#### 4.1.1. Indexing and Slicing (similar to strings)"
      ]
    },
    {
      "cell_type": "code",
      "execution_count": null,
      "metadata": {},
      "outputs": [
        {
          "name": "stdout",
          "output_type": "stream",
          "text": [
            "Original: ['red', 'green', 'blue', 'yellow']\n",
            "First color: red\n",
            "Last color: yellow\n",
            "Slice [1:3]: ['green', 'blue']\n",
            "Modified list (colors[1] = 'lime'): ['red', 'lime', 'blue', 'yellow']\n"
          ]
        }
      ],
      "source": [
        "colors = [\"red\", \"green\", \"blue\", \"yellow\"]\n",
        "print(f\"Original: {colors}\")\n",
        "print(f\"First color: {colors[0]}\")\n",
        "print(f\"Last color: {colors[-1]}\")\n",
        "print(f\"Slice [1:3]: {colors[1:3]}\")\n",
        "\n",
        "# Modify element\n",
        "colors[1] = \"lime\"\n",
        "print(f\"Modified list (colors[1] = 'lime'): {colors}\")"
      ]
    },
    {
      "cell_type": "markdown",
      "metadata": {},
      "source": [
        "#### 4.1.2. Common List Methods & Operations\n",
        "\n",
        "*   `list.append(item)`: Adds `item` to the end.\n",
        "*   `list.insert(index, item)`: Inserts `item` at `index`.\n",
        "*   `list.pop(index)`: Removes and returns item at `index` (default: last item). \n",
        "*   `list.remove(value)`: Removes the first occurrence of `value`. Raises `ValueError` if not found.\n",
        "*   `len(list)`: Returns the number of items.\n",
        "*   `+` (concatenation): `list1 + list2` creates a new list.\n",
        "*   `*` (repetition): `list * n` creates a new list with items repeated `n` times.\n",
        "*   `item in list`: Boolean check for membership."
      ]
    },
    {
      "cell_type": "code",
      "execution_count": null,
      "metadata": {},
      "outputs": [
        {
          "name": "stdout",
          "output_type": "stream",
          "text": [
            "Numbers: [1, 2, 3]\n",
            "Appended 4: [1, 2, 3, 4]\n",
            "Inserted 1.5 at index 1: [1, 1.5, 2, 3, 4]\n",
            "Popped item (last): 4. List is now: [1, 1.5, 2, 3]\n",
            "Removed 1.5: [1, 2, 3]\n",
            "Length: 3\n",
            "Concatenated with [5, 6]: [1, 2, 3, 5, 6]\n",
            "Repeated twice: [1, 2, 3, 1, 2, 3]\n",
            "Is 2 in numbers? True\n"
          ]
        }
      ],
      "source": [
        "numbers = [1, 2, 3]\n",
        "print(f\"Numbers: {numbers}\")\n",
        "\n",
        "numbers.append(4)\n",
        "print(f\"Appended 4: {numbers}\")\n",
        "\n",
        "numbers.insert(1, 1.5)\n",
        "print(f\"Inserted 1.5 at index 1: {numbers}\")\n",
        "\n",
        "popped_item = numbers.pop() \n",
        "print(f\"Popped item (last): {popped_item}. List is now: {numbers}\")\n",
        "\n",
        "numbers.remove(1.5)\n",
        "print(f\"Removed 1.5: {numbers}\")\n",
        "\n",
        "print(f\"Length: {len(numbers)}\")\n",
        "print(f\"Concatenated with [5, 6]: {numbers + [5, 6]}\")\n",
        "print(f\"Repeated twice: {numbers * 2}\")\n",
        "print(f\"Is 2 in numbers? {2 in numbers}\")"
      ]
    },
    {
      "cell_type": "markdown",
      "metadata": {},
      "source": [
        "### 4.2. Dictionaries (from Session 3.2)\n",
        "\n",
        "*   Collection of **key-value pairs**. Defined with `{}`: `my_dict = {key1: value1, key2: value2}`.\n",
        "*   Keys must be unique and immutable (e.g., strings, numbers, tuples).\n",
        "*   Values can be of any data type and can be duplicated.\n",
        "*   Mutable.\n",
        "*   Unordered (before Python 3.7) or insertion-ordered (Python 3.7+)."
      ]
    },
    {
      "cell_type": "markdown",
      "metadata": {},
      "source": [
        "#### 4.2.1. Accessing, Adding, Modifying, Deleting Key-Value Pairs\n",
        "\n",
        "*   **Access value:** `my_dict[key]` (Raises `KeyError` if key not found).\n",
        "*   **Add new pair / Modify existing value:** `my_dict[key] = new_value`.\n",
        "*   **Delete pair:** `del my_dict[key]` (Raises `KeyError` if key not found)."
      ]
    },
    {
      "cell_type": "code",
      "execution_count": null,
      "metadata": {},
      "outputs": [
        {
          "name": "stdout",
          "output_type": "stream",
          "text": [
            "Student: {'name': 'Alice', 'age': 20, 'major': 'CS'}\n",
            "Name: Alice\n",
            "Updated student (age to 21, added year 3): {'name': 'Alice', 'age': 21, 'major': 'CS', 'year': 3}\n",
            "After deleting 'major': {'name': 'Alice', 'age': 21, 'year': 3}\n"
          ]
        }
      ],
      "source": [
        "student = {\"name\": \"Alice\", \"age\": 20, \"major\": \"CS\"}\n",
        "print(f\"Student: {student}\")\n",
        "\n",
        "print(f\"Name: {student['name']}\")\n",
        "\n",
        "student[\"age\"] = 21 # Modify existing value\n",
        "student[\"year\"] = 3  # Add new key-value pair\n",
        "print(f\"Updated student (age to 21, added year 3): {student}\")\n",
        "\n",
        "del student[\"major\"]\n",
        "print(f\"After deleting 'major': {student}\")"
      ]
    },
    {
      "cell_type": "markdown",
      "metadata": {},
      "source": [
        "#### 4.2.2. Checking Key Existence & Other Operations\n",
        "\n",
        "*   `key in my_dict`: Boolean check if `key` exists in the dictionary.\n",
        "*   `my_dict.keys()`: Returns a view object displaying a list of all the keys.\n",
        "*   `len(my_dict)`: Returns the number of key-value pairs."
      ]
    },
    {
      "cell_type": "code",
      "execution_count": null,
      "metadata": {},
      "outputs": [
        {
          "name": "stdout",
          "output_type": "stream",
          "text": [
            "Config: {'host': 'localhost', 'port': 8080}\n",
            "Is 'port' a key? True\n",
            "Is 'user' a key? False\n",
            "Keys: dict_keys(['host', 'port'])\n",
            "Length: 2\n"
          ]
        }
      ],
      "source": [
        "config = {\"host\": \"localhost\", \"port\": 8080}\n",
        "print(f\"Config: {config}\")\n",
        "\n",
        "print(f\"Is 'port' a key? {'port' in config}\")\n",
        "print(f\"Is 'user' a key? {'user' in config}\")\n",
        "\n",
        "print(f\"Keys: {config.keys()}\")\n",
        "print(f\"Length: {len(config)}\")"
      ]
    },
    {
      "cell_type": "markdown",
      "metadata": {},
      "source": [
        "## 5. Loops"
      ]
    },
    {
      "cell_type": "markdown",
      "metadata": {},
      "source": [
        "Loops allow code to be executed repeatedly."
      ]
    },
    {
      "cell_type": "markdown",
      "metadata": {},
      "source": [
        "### 5.1. `for` Loops (from Session 4.1)\n",
        "\n",
        "*   Used for iterating over a sequence (like a list, tuple, dictionary, string) or other iterable objects.\n",
        "*   Syntax: `for item in sequence:`"
      ]
    },
    {
      "cell_type": "markdown",
      "metadata": {},
      "source": [
        "#### 5.1.1. Iterating over Sequences"
      ]
    },
    {
      "cell_type": "code",
      "execution_count": null,
      "metadata": {},
      "outputs": [
        {
          "name": "stdout",
          "output_type": "stream",
          "text": [
            "Apple\n",
            "Banana\n",
            "Cherry\n",
            "l\n",
            "o\n",
            "o\n",
            "p\n"
          ]
        }
      ],
      "source": [
        "fruits = [\"apple\", \"banana\", \"cherry\"]\n",
        "for fruit in fruits:\n",
        "    print(fruit.capitalize()) # Example of doing something with each item\n",
        "\n",
        "for char in \"loop\":\n",
        "    print(char)"
      ]
    },
    {
      "cell_type": "markdown",
      "metadata": {},
      "source": [
        "#### 5.1.2. `range()` Function\n",
        "\n",
        "Generates a sequence of numbers, often used with `for` loops.\n",
        "*   `range(stop)`: Generates numbers from `0` up to (but not including) `stop`.\n",
        "    *   Example: `range(5)` -> `0, 1, 2, 3, 4`.\n",
        "*   `range(start, stop)`: Generates numbers from `start` up to `stop`.\n",
        "    *   Example: `range(2, 5)` -> `2, 3, 4`.\n",
        "*   `range(start, stop, step)`: Generates numbers from `start` up to `stop`, incrementing by `step`.\n",
        "    *   Example: `range(1, 10, 2)` -> `1, 3, 5, 7, 9`."
      ]
    },
    {
      "cell_type": "code",
      "execution_count": null,
      "metadata": {},
      "outputs": [
        {
          "name": "stdout",
          "output_type": "stream",
          "text": [
            "range(4):\n",
            "0 1 2 3 \n",
            "range(1, 5):\n",
            "1 2 3 4 \n",
            "range(0, 10, 3):\n",
            "0 3 6 9 \n"
          ]
        }
      ],
      "source": [
        "print(\"range(4):\")\n",
        "for i in range(4):\n",
        "    print(i, end=\" \")\n",
        "print(\"\\nrange(1, 5):\")\n",
        "for i in range(1, 5):\n",
        "    print(i, end=\" \")\n",
        "print(\"\\nrange(0, 10, 3):\")\n",
        "for i in range(0, 10, 3):\n",
        "    print(i, end=\" \")\n",
        "print()"
      ]
    },
    {
      "cell_type": "markdown",
      "metadata": {},
      "source": [
        "### 5.2. `while` Loops (from Session 4.2)\n",
        "\n",
        "*   Repeatedly executes a block of code as long as a given condition remains `True`.\n",
        "*   Syntax: `while condition:`\n",
        "*   **Important:** The loop body must contain code that can eventually make the `condition` `False` to avoid infinite loops."
      ]
    },
    {
      "cell_type": "code",
      "execution_count": null,
      "metadata": {},
      "outputs": [
        {
          "name": "stdout",
          "output_type": "stream",
          "text": [
            "While loop iteration: 0\n",
            "While loop iteration: 1\n",
            "While loop iteration: 2\n",
            "While loop finished.\n"
          ]
        }
      ],
      "source": [
        "count = 0\n",
        "while count < 3:\n",
        "    print(f\"While loop iteration: {count}\")\n",
        "    count += 1 # Crucial update step\n",
        "print(\"While loop finished.\")"
      ]
    },
    {
      "cell_type": "markdown",
      "metadata": {},
      "source": [
        "### 5.3. `for` vs `while`\n",
        "\n",
        "*   **`for` loop:** Use when you know the number of iterations beforehand (e.g., iterating over all items in a list, or using `range()`).\n",
        "*   **`while` loop:** Use when the number of iterations is unknown and depends on a condition becoming false (e.g., user input, waiting for an event)."
      ]
    },
    {
      "cell_type": "markdown",
      "metadata": {},
      "source": [
        "### 5.4. `break` and `continue` (from Session 4.2)\n",
        "\n",
        "*   **`break` Statement:** Immediately terminates the entire innermost loop (`for` or `while`). Execution continues at the first statement after the loop.\n",
        "*   **`continue` Statement:** Immediately skips the rest of the code in the current iteration and jumps to the beginning of the next iteration of the loop."
      ]
    },
    {
      "cell_type": "code",
      "execution_count": null,
      "metadata": {},
      "outputs": [
        {
          "name": "stdout",
          "output_type": "stream",
          "text": [
            "Break example (stops at 3):\n",
            "0\n",
            "1\n",
            "2\n",
            "Breaking loop now.\n",
            "\n",
            "Continue example (skips 2):\n",
            "0\n",
            "1\n",
            "Skipping iteration for 2\n",
            "3\n",
            "4\n"
          ]
        }
      ],
      "source": [
        "print(\"Break example (stops at 3):\")\n",
        "for i in range(10):\n",
        "    if i == 3:\n",
        "        print(\"Breaking loop now.\")\n",
        "        break\n",
        "    print(i)\n",
        "\n",
        "print(\"\\nContinue example (skips 2):\")\n",
        "for i in range(5):\n",
        "    if i == 2:\n",
        "        print(f\"Skipping iteration for {i}\")\n",
        "        continue\n",
        "    print(i)"
      ]
    },
    {
      "cell_type": "markdown",
      "metadata": {},
      "source": [
        "## 6. Functions (from Session 5.1)"
      ]
    },
    {
      "cell_type": "markdown",
      "metadata": {},
      "source": [
        "A function is a named block of reusable code designed to perform a specific task."
      ]
    },
    {
      "cell_type": "markdown",
      "metadata": {},
      "source": [
        "### 6.1. Defining and Calling Functions\n",
        "\n",
        "*   **Definition:** Uses the `def` keyword.\n",
        "  ```python\n",
        "  def function_name(parameter1, parameter2, ...):\n",
        "      \"\"\"Optional docstring explaining the function.\"\"\"\n",
        "      # Code block\n",
        "      # ...\n",
        "      return result # Optional\n",
        "  ```\n",
        "*   **Calling:** Execute the function by using its name followed by parentheses `()` containing arguments.\n",
        "  `function_name(argument1, argument2, ...)`"
      ]
    },
    {
      "cell_type": "markdown",
      "metadata": {},
      "source": [
        "### 6.2. Parameters and Arguments\n",
        "\n",
        "*   **Parameters:** Variables listed inside the parentheses in the function definition. They are placeholders for the values that will be passed to the function.\n",
        "*   **Arguments:** The actual values that are passed to the function when it is called."
      ]
    },
    {
      "cell_type": "markdown",
      "metadata": {},
      "source": [
        "### 6.3. `return` Statement\n",
        "\n",
        "*   Used to send a value (or result) back from the function to the caller.\n",
        "*   A function can have multiple `return` statements (e.g., in different `if`/`elif` branches).\n",
        "*   If a function doesn't have an explicit `return` statement that returns a value, or if it has `return` without an expression, it implicitly returns `None`."
      ]
    },
    {
      "cell_type": "markdown",
      "metadata": {},
      "source": [
        "#### `return` vs. `print` within a Function\n",
        "\n",
        "*   **`print()`:** Displays information to the console/output. It's for showing things to the user. It does *not* send a value back to the part of the code that called the function for further processing.\n",
        "*   **`return`:** Sends a value back from the function to the calling code. This returned value can be stored in a variable, used in calculations, passed to another function, etc. It does *not* automatically display anything."
      ]
    },
    {
      "cell_type": "markdown",
      "metadata": {},
      "source": [
        "### 6.4. Docstrings\n",
        "\n",
        "*   A string literal (`\"\"\"...\"\"\"` or `'''...'''`) placed as the first statement in a function's body.\n",
        "*   Used to explain what the function does, its parameters, and what it returns.\n",
        "*   Accessible via `function_name.__doc__`."
      ]
    },
    {
      "cell_type": "code",
      "execution_count": null,
      "metadata": {},
      "outputs": [
        {
          "name": "stdout",
          "output_type": "stream",
          "text": [
            "Greeting: Hello, Midterm Taker!\n",
            "Area 1 (5x4): 20\n",
            "Area 2 (7x3): 21\n",
            "Invalid Area (-5x4): None\n",
            "\n",
            "Docstring for greet: Greets the person passed in as a parameter.\n",
            "\n",
            "Calling print_sum(10, 5):\n",
            "15\n",
            "Result from print_sum_func: None (because it only prints)\n",
            "\n",
            "Result from return_sum_func(10, 5): 15\n",
            "This result can be used: 30\n"
          ]
        }
      ],
      "source": [
        "def greet(name):\n",
        "    \"\"\"Greets the person passed in as a parameter.\"\"\"\n",
        "    message = f\"Hello, {name}!\"\n",
        "    return message\n",
        "\n",
        "def calculate_area(length, width):\n",
        "    \"\"\"Calculates the area of a rectangle.\n",
        "    Returns None if length or width is negative.\n",
        "    \"\"\"\n",
        "    if length < 0 or width < 0:\n",
        "        return None # Indicate invalid input\n",
        "    return length * width\n",
        "\n",
        "# Calling functions and using their return values\n",
        "greeting_msg = greet(\"Midterm Taker\")\n",
        "print(f\"Greeting: {greeting_msg}\")\n",
        "\n",
        "area1 = calculate_area(5, 4)\n",
        "area2 = calculate_area(7, 3)\n",
        "invalid_area = calculate_area(-5, 4)\n",
        "\n",
        "print(f\"Area 1 (5x4): {area1}\")\n",
        "print(f\"Area 2 (7x3): {area2}\")\n",
        "print(f\"Invalid Area (-5x4): {invalid_area}\")\n",
        "\n",
        "print(f\"\\nDocstring for greet: {greet.__doc__}\")\n",
        "\n",
        "# print vs return example\n",
        "def print_sum_func(a, b):\n",
        "    print(a + b) # Prints the sum, returns None implicitly\n",
        "\n",
        "def return_sum_func(a, b):\n",
        "    return a + b # Returns the sum\n",
        "\n",
        "print(\"\\nCalling print_sum(10, 5):\")\n",
        "result_p = print_sum_func(10, 5) \n",
        "print(f\"Result from print_sum_func: {result_p} (because it only prints)\")\n",
        "\n",
        "result_r = return_sum_func(10, 5)\n",
        "print(f\"\\nResult from return_sum_func(10, 5): {result_r}\")\n",
        "print(f\"This result can be used: {result_r * 2}\")"
      ]
    },
    {
      "cell_type": "markdown",
      "metadata": {},
      "source": [
        "## 7. Quick Review Exercises (Self-Assessment)"
      ]
    },
    {
      "cell_type": "markdown",
      "metadata": {},
      "source": [
        "*   **Q1:** What is the data type of `x` after `x = \"5\" + \"3\"`? What is its value?\n",
        "    *   *Answer: `str`, value is `\"53\"` (string concatenation).*\n",
        "\n",
        "*   **Q2:** Write a slice to get the last 3 characters of a string `s`.\n",
        "    *   *Answer: `s[-3:]`*\n",
        "\n",
        "*   **Q3:** What will the following code print?\n",
        "    ```python\n",
        "    my_list = [10, 20, 30, 40]\n",
        "    if 25 in my_list:\n",
        "        print(\"Found\")\n",
        "    elif my_list[1] > 15:\n",
        "        print(\"Second item is large\")\n",
        "    else:\n",
        "        print(\"Not found\")\n",
        "    ```\n",
        "    *   *Answer: `\"Second item is large\"` (25 is not in list, `my_list[1]` is 20, which is > 15).*\n",
        "\n",
        "*   **Q4:** How do you add a key-value pair `(\"status\", \"active\")` to an existing dictionary `user_profile`?\n",
        "    *   *Answer: `user_profile[\"status\"] = \"active\"`*\n",
        "\n",
        "*   **Q5:** Write a `for` loop that prints numbers from 10 down to 1 (inclusive).\n",
        "    *   *Answer: `for i in range(10, 0, -1): print(i)`*\n",
        "\n",
        "*   **Q6:** When would you use a `while` loop instead of a `for` loop?\n",
        "    *   *Answer: When the number of iterations is not known beforehand and depends on a condition becoming false (e.g., user input, event handling).*\n",
        "\n",
        "*   **Q7:** What is the main difference between `return` and `print` in a function?\n",
        "    *   *Answer: `print()` displays output to the console for the user. `return` sends a value back from the function to the calling code, allowing that value to be stored, used in calculations, or passed to other functions.*"
      ]
    }
  ],
  "metadata": {
    "kernelspec": {
      "display_name": "Python 3 (ipykernel)",
      "language": "python",
      "name": "python3"
    },
    "language_info": {
      "codemirror_mode": {
        "name": "ipython",
        "version": 3
      },
      "file_extension": ".py",
      "mimetype": "text/x-python",
      "name": "python",
      "nbconvert_exporter": "python",
      "pygments_lexer": "ipython3",
      "version": "3.11.7"
    }
  },
  "nbformat": 4,
  "nbformat_minor": 5
}
