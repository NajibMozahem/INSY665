{
  "cells": [
    {
      "cell_type": "markdown",
      "metadata": {},
      "source": [
        "# Pandas Fundamentals: MovieLens Data Exploration Lab"
      ]
    },
    {
      "cell_type": "markdown",
      "metadata": {},
      "source": [
        "## Introduction\n",
        "\n",
        "Welcome to the Pandas Fundamentals Lab. In this lab, you will apply the concepts you've learned to explore and analyze the MovieLens dataset. You'll be working with three files:\n",
        "\n",
        "1.  `movies.csv`: Contains movie information (movieId, title, genres).\n",
        "2.  `ratings.csv`: Contains ratings given by users to movies (userId, movieId, rating, timestamp).\n",
        "3.  `tags.csv`: Contains tags applied by users to movies (userId, movieId, tag, timestamp).\n",
        "\n",
        "**Your Goal:** Answer the questions and complete the tasks in each section. Use the Pandas skills you've learned, including loading data, inspecting DataFrames, selecting data, filtering, sorting, and basic descriptive statistics.\n",
        "\n",
        "**Remember to:**\n",
        "*   Read the questions carefully.\n",
        "*   Use the hints if you get stuck.\n",
        "*   Experiment. Pandas is best learned by doing."
      ]
    },
    {
      "cell_type": "markdown",
      "metadata": {},
      "source": [
        "## Setup\n",
        "\n",
        "First, let's import the Pandas library."
      ]
    },
    {
      "cell_type": "code",
      "execution_count": 1,
      "metadata": {},
      "outputs": [],
      "source": [
        "# your code here"
      ]
    },
    {
      "cell_type": "markdown",
      "metadata": {},
      "source": [
        "## Part 1: Exploring `movies.csv`"
      ]
    },
    {
      "cell_type": "markdown",
      "metadata": {},
      "source": [
        "### 1.1: Load the `movies.csv` dataset\n",
        "Load the `movies.csv` file into a Pandas DataFrame called `movies_df`.\n",
        "\n",
        "**Hint:** The URL for the file is `https://files.grouplens.org/datasets/movielens/ml-latest-small/movies.csv`"
      ]
    },
    {
      "cell_type": "code",
      "execution_count": null,
      "metadata": {},
      "outputs": [],
      "source": [
        "movies_url = 'https://drive.google.com/uc?export=download&id=1Uztnn449pnDBDn1XGJPF6uzV34jrP1Te'\n",
        "# Your code here to load the data into movies_df\n",
        "# your code here\n",
        "\n",
        "# Display the first few rows to confirm loading\n",
        "# your code here"
      ]
    },
    {
      "cell_type": "markdown",
      "metadata": {},
      "source": [
        "### 1.2: Inspect the `movies_df` DataFrame\n",
        "\n",
        "a. How many movies are in this dataset? (i.e., how many rows and columns?)\n",
        "   **Hint:** Use the `.shape` attribute.\n",
        "\n",
        "b. Display the column names of `movies_df`.\n",
        "   **Hint:** Use the `.columns` attribute.\n",
        "\n",
        "c. What are the data types of each column in `movies_df`?\n",
        "   **Hint:** Use the `.dtypes` attribute or `.info()` method.\n",
        "\n",
        "d. Display the first 10 movies in the DataFrame.\n",
        "   **Hint:** Use the `.head()` method.\n",
        "\n",
        "e. Display the last 7 movies in the DataFrame.\n",
        "   **Hint:** Use the `.tail()` method."
      ]
    },
    {
      "cell_type": "code",
      "execution_count": null,
      "metadata": {},
      "outputs": [],
      "source": [
        "# a. Number of movies (rows and columns)\n",
        "print(\"Shape of movies_df:\") \n",
        "# your code here\n",
        "\n",
        "# b. Column names\n",
        "print(\"\\nColumn names:\")\n",
        "# your code here) \n",
        "\n",
        "# c. Data types\n",
        "print(\"\\nData types:\")\n",
        "# your code here)\n",
        "\n",
        "# d. First 10 movies\n",
        "print(\"\\nFirst 10 movies:\")\n",
        "# your code here)\n",
        "\n",
        "# e. Last 7 movies\n",
        "print(\"\\nLast 7 movies:\")\n",
        "# your code here)"
      ]
    },
    {
      "cell_type": "markdown",
      "metadata": {},
      "source": [
        "### 1.3: Selecting Data from `movies_df`\n",
        "\n",
        "a. Select and display only the `title` column for all movies. What is the type of this selection?\n",
        "   **Hint:** `df['column_name']`.\n",
        "\n",
        "b. Select and display the `title` and `genres` columns for all movies. What is the type of this selection?\n",
        "   **Hint:** `df[['col1', 'col2']]`.\n",
        "\n",
        "c. Using `iloc`, select and display the movie at the 100th row (integer position 99).\n",
        "\n",
        "d. Using `iloc`, select and display the `title` (which is at column index 1) of the movie at the 100th row (integer position 99).\n",
        "\n",
        "e. Using `loc`, select and display all information for the movie with `movieId` 1. (First, you might need to set `movieId` as the index, or filter for it).\n",
        "   *Alternative for now if you don't want to change index:* Filter the DataFrame for `movieId == 1` and display it.\n",
        "\n",
        "f. Using `loc` (and assuming `movieId` is NOT the index yet), select the `genres` of the movie at index position 5.\n",
        "   **Hint:** `df.loc[index_label, column_label]`"
      ]
    },
    {
      "cell_type": "code",
      "execution_count": null,
      "metadata": {},
      "outputs": [],
      "source": [
        "# a. Select 'title' column\n",
        "# Your code here\n",
        "print(\"Titles Series (first 5):\")\n",
        "# your code here\n",
        "print(\"Type of selection:\")\n",
        "# your code here\n",
        "\n",
        "# b. Select 'title' and 'genres' columns\n",
        "# your code here\n",
        "print(\"\\nTitle and Genres DataFrame (first 5):\")\n",
        "# your code here\n",
        "print(\"Type of selection:\")\n",
        "# your code here\n",
        "\n",
        "# c. Movie at 100th row using iloc\n",
        "# your code here\n",
        "\n",
        "# d. Title of the movie at 100th row using iloc\n",
        "# your code here\n",
        "\n",
        "# e. Movie with movieId 1 (using filtering, as index is not movieId yet)\n",
        "# your code here\n",
        "\n",
        "# f. Genres of the movie at index position 5 using loc\n",
        "# your code here"
      ]
    },
    {
      "cell_type": "markdown",
      "metadata": {},
      "source": [
        "### 1.4: Filtering `movies_df`\n",
        "\n",
        "a. Find and display all movies that have 'Animation' in their `genres`.\n",
        "   **Hint:** Use `.str.contains()`.\n",
        "\n",
        "b. Find and display all movies that are 'Comedy' AND 'Romance'.\n",
        "   **Hint:** Use `&` and parentheses for conditions: `(condition1) & (condition2)`.\n",
        "\n",
        "c. Find and display all movies that are 'Horror' OR 'Sci-Fi'.\n",
        "   **Hint:** Use `|`.\n",
        "\n",
        "d. Find and display all 'Drama' movies that do NOT contain 'Romance' in their genres.\n",
        "   **Hint:** Use `~` for NOT.\n",
        "\n",
        "e. **Challenge:** Extract the year from the `title` string (e.g., \"Toy Story (1995)\" -> 1995). Create a new column called `year`. Then, find all movies released in 1995.\n",
        "   **Hints:** \n",
        "     *   `movies_df['title'].str.extract(r'\\(\\d{4}\\)$')` can extract the 4 digits in parentheses at the end.\n",
        "     *   The result of `extract` might be a string; convert it to numeric using `pd.to_numeric()`.\n",
        "     *   Handle potential `NaN` values if some titles don't have a year in that format."
      ]
    },
    {
      "cell_type": "code",
      "execution_count": null,
      "metadata": {},
      "outputs": [],
      "source": [
        "# a. Animation movies\n",
        "# your code here\n",
        "\n",
        "# b. Comedy AND Romance movies\n",
        "# your code here\n",
        "\n",
        "# c. Horror OR Sci-Fi movies\n",
        "# your code here\n",
        "\n",
        "# d. Drama movies WITHOUT Romance\n",
        "# your code here\n",
        "\n",
        "# e. Challenge: Movies from 1995\n",
        "# your code here\n",
        "\n",
        "# your code here\n",
        "\n",
        "# Display info to see the new 'year' column and its type\n",
        "# your code here"
      ]
    },
    {
      "cell_type": "markdown",
      "metadata": {},
      "source": [
        "### 1.5: Sorting `movies_df`\n",
        "\n",
        "a. Sort the `movies_df` by `title` alphabetically (A-Z). Display the head of the sorted DataFrame.\n",
        "   **Hint:** Use `.sort_values(by='column_name')`.\n",
        "\n",
        "b. Sort the `movies_df` by `movieId` in descending order. Display the head of this sorted DataFrame.\n",
        "   **Hint:** Use `ascending=False`.\n",
        "\n",
        "c. If you created the `year` column in 1.4e, sort the movies by `year` (most recent first), and then by `title` (alphabetically) for movies released in the same year. Display the head.\n",
        "   **Hint:** Pass a list to `by`: `by=['col1', 'col2']` and a list to `ascending`: `ascending=[False, True]`."
      ]
    },
    {
      "cell_type": "code",
      "execution_count": null,
      "metadata": {},
      "outputs": [],
      "source": [
        "# a. Sort by title alphabetically\n",
        "# your code here\n",
        "\n",
        "# b. Sort by movieId descending\n",
        "# your code here\n",
        "\n",
        "# c. Sort by year (desc) then title (asc)\n",
        "# your code here"
      ]
    },
    {
      "cell_type": "markdown",
      "metadata": {},
      "source": [
        "### 1.6: Basic Descriptive Statistics for `movies_df`\n",
        "\n",
        "a. How many unique genre combinations are there in the `genres` column?\n",
        "   **Hint:** Use `.nunique()` on the `genres` Series.\n",
        "\n",
        "b. What are the top 10 most common genre combinations and their counts?\n",
        "   **Hint:** Use `.value_counts()`.\n",
        "\n",
        "c. Use the `.describe()` method on `movies_df`. What does it tell you about the `movieId` column? If you created the `year` column, what does it tell you about movie release years?"
      ]
    },
    {
      "cell_type": "code",
      "execution_count": null,
      "metadata": {},
      "outputs": [],
      "source": [
        "# a. Number of unique genre combinations\n",
        "# your code here\n",
        "\n",
        "# b. Top 10 most common genre combinations\n",
        "# your code here\n",
        "\n",
        "# c. Describe movies_df\n",
        "# your code here"
      ]
    },
    {
      "cell_type": "markdown",
      "metadata": {},
      "source": [
        "---"
      ]
    },
    {
      "cell_type": "markdown",
      "metadata": {},
      "source": [
        "## Part 2: Exploring `ratings.csv`"
      ]
    },
    {
      "cell_type": "markdown",
      "metadata": {},
      "source": [
        "### 2.1: Load the `ratings.csv` dataset\n",
        "Load the `ratings.csv` file into a Pandas DataFrame called `ratings_df`.\n",
        "\n",
        "**Hint:** The URL is `https://files.grouplens.org/datasets/movielens/ml-latest-small/ratings.csv`"
      ]
    },
    {
      "cell_type": "code",
      "execution_count": null,
      "metadata": {},
      "outputs": [],
      "source": [
        "ratings_url = 'https://drive.google.com/uc?export=download&id=15IOZXK7f8nvfxhUXap9VEnZDzBTyu2xI'\n",
        "\n",
        "# Your code here to load the data into ratings_df\n"
      ]
    },
    {
      "cell_type": "markdown",
      "metadata": {},
      "source": [
        "### 2.2: Inspect the `ratings_df` DataFrame\n",
        "\n",
        "a. How many ratings are in this dataset?\n",
        "b. What are the data types of each column?\n",
        "c. Get a statistical summary of the `rating` column. What are the minimum, maximum, and average ratings?\n",
        "   **Hint:** Use `.describe()` on the 'rating' column or the whole DataFrame."
      ]
    },
    {
      "cell_type": "code",
      "execution_count": null,
      "metadata": {},
      "outputs": [],
      "source": [
        "# a. Number of ratings\n",
        "# your code here\n",
        "\n",
        "# b. Data types\n",
        "print(\"\\nData types:\")\n",
        "# your code here\n",
        "\n",
        "# c. Statistical summary of 'rating' column\n",
        "print(\"\\nStatistical summary of 'rating' column:\")\n",
        "# your code here"
      ]
    },
    {
      "cell_type": "markdown",
      "metadata": {},
      "source": [
        "### 2.3: Filtering `ratings_df`\n",
        "\n",
        "a. Find and display all ratings given by `userId` 1.\n",
        "\n",
        "b. Find and display all ratings for `movieId` 318 (The Shawshank Redemption).\n",
        "\n",
        "c. Find and display all ratings that are exactly 5.0.\n",
        "\n",
        "d. Find and display all ratings that are less than or equal to 2.0.\n",
        "\n",
        "e. Find and display all ratings given by `userId` 50 for movies with a rating of 4.0 or higher."
      ]
    },
    {
      "cell_type": "code",
      "execution_count": null,
      "metadata": {},
      "outputs": [],
      "source": [
        "# a. Ratings by userId 1\n",
        "# your code here\n",
        "\n",
        "# b. Ratings for movieId 318\n",
        "# your code here\n",
        "\n",
        "# c. Ratings of 5.0\n",
        "# your code here\n",
        "\n",
        "# d. Ratings <= 2.0\n",
        "# your code here\n",
        "\n",
        "# e. Ratings by userId 50 that are >= 4.0\n",
        "# your code here"
      ]
    },
    {
      "cell_type": "markdown",
      "metadata": {},
      "source": [
        "### 2.4: Sorting `ratings_df`\n",
        "\n",
        "a. Sort `ratings_df` by the `rating` column in descending order. Display the head.\n",
        "\n",
        "b. Sort `ratings_df` first by `userId` (ascending) and then by `timestamp` (ascending) for ratings from the same user. Display the head."
      ]
    },
    {
      "cell_type": "code",
      "execution_count": null,
      "metadata": {},
      "outputs": [],
      "source": [
        "# a. Sort by rating descending\n",
        "# your code here\n",
        "\n",
        "# b. Sort by userId (asc) then timestamp (asc)\n",
        "# your code here"
      ]
    },
    {
      "cell_type": "markdown",
      "metadata": {},
      "source": [
        "### 2.5: Basic Descriptive Statistics for `ratings_df`\n",
        "\n",
        "a. How many unique users are there in the dataset?\n",
        "   **Hint:** Use `.nunique()` on `userId`.\n",
        "\n",
        "b. What is the distribution of ratings? (i.e., how many 0.5, 1.0, 1.5 ... 5.0 ratings are there?)\n",
        "   **Hint:** Use `.value_counts()` on the `rating` column. Sort the index for better readability if needed (`.sort_index()`).\n",
        "\n",
        "c. Which user (`userId`) has given the most ratings? How many ratings did they give?\n",
        "   **Hint:** Use `.value_counts()` on `userId`."
      ]
    },
    {
      "cell_type": "code",
      "execution_count": null,
      "metadata": {},
      "outputs": [],
      "source": [
        "# a. Number of unique users\n",
        "# your code here\n",
        "\n",
        "# b. Distribution of ratings\n",
        "# your code here\n",
        "\n",
        "# c. User with the most ratings\n",
        "# your code here"
      ]
    },
    {
      "cell_type": "markdown",
      "metadata": {},
      "source": [
        "---"
      ]
    },
    {
      "cell_type": "markdown",
      "metadata": {},
      "source": [
        "## Part 3: Exploring `tags.csv`"
      ]
    },
    {
      "cell_type": "markdown",
      "metadata": {},
      "source": [
        "### 3.1: Load the `tags.csv` dataset\n",
        "Load the `tags.csv` file into a Pandas DataFrame called `tags_df`.\n",
        "\n",
        "**Hint:** The URL is `https://files.grouplens.org/datasets/movielens/ml-latest-small/tags.csv`"
      ]
    },
    {
      "cell_type": "code",
      "execution_count": null,
      "metadata": {},
      "outputs": [],
      "source": [
        "tags_url = 'https://drive.google.com/uc?export=download&id=1nsxkCNkl64CBCVqDu2kdqII63i0EMBoS'\n",
        "\n",
        "# Your code here to load the data into tags_df\n"
      ]
    },
    {
      "cell_type": "markdown",
      "metadata": {},
      "source": [
        "### 3.2: Inspect the `tags_df` DataFrame\n",
        "\n",
        "a. How many tags are in this dataset?\n",
        "b. What are the data types? Are there any columns you might want to convert later (e.g., 'tag' to lowercase)?\n",
        "c. How many unique tags are there (case-sensitive for now)?\n",
        "   **Hint:** `.nunique()` on the `tag` column."
      ]
    },
    {
      "cell_type": "code",
      "execution_count": null,
      "metadata": {},
      "outputs": [],
      "source": [
        "# a. Number of tags\n",
        "# your code here\n",
        "\n",
        "# b. Data types\n",
        "print(\"\\nData types:\")\n",
        "# your code here\n",
        "\n",
        "# c. Number of unique tags (case-sensitive)\n",
        "# your code here"
      ]
    },
    {
      "cell_type": "markdown",
      "metadata": {},
      "source": [
        "### 3.3: Filtering and Manipulating `tags_df`\n",
        "\n",
        "a. Create a new column `tag_lower` which is the lowercase version of the `tag` column.\n",
        "   **Hint:** Use `.str.lower()`.\n",
        "\n",
        "b. Now, how many unique tags are there if we consider them case-insensitively (using `tag_lower`)?\n",
        "\n",
        "c. Find and display all tags applied by `userId` 2 for `movieId` 60756.\n",
        "\n",
        "d. Find and display all tags that contain the word 'funny' (case-insensitive search on `tag_lower`).\n",
        "\n",
        "e. What are the top 10 most frequently applied tags (case-insensitive, using `tag_lower`)?"
      ]
    },
    {
      "cell_type": "code",
      "execution_count": null,
      "metadata": {},
      "outputs": [],
      "source": [
        "# a. Create 'tag_lower' column\n",
        "# your code here\n",
        "\n",
        "# b. Number of unique tags (case-insensitive)\n",
        "# your code here\n",
        "\n",
        "# c. Tags by userId 2 for movieId 60756\n",
        "# your code here\n",
        "\n",
        "# d. Tags containing 'funny' (case-insensitive)\n",
        "# your code here\n",
        "\n",
        "# e. Top 10 most frequent tags (case-insensitive)\n",
        "# your code here"
      ]
    },
    {
      "cell_type": "markdown",
      "metadata": {},
      "source": [
        "---"
      ]
    },
    {
      "cell_type": "markdown",
      "metadata": {},
      "source": [
        "--- End of Lab ---"
      ]
    }
  ],
  "metadata": {
    "kernelspec": {
      "display_name": "McGill",
      "language": "python",
      "name": "python3"
    },
    "language_info": {
      "codemirror_mode": {
        "name": "ipython",
        "version": 3
      },
      "file_extension": ".py",
      "mimetype": "text/x-python",
      "name": "python",
      "nbconvert_exporter": "python",
      "pygments_lexer": "ipython3",
      "version": "3.12.4"
    }
  },
  "nbformat": 4,
  "nbformat_minor": 5
}
