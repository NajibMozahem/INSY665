{
 "cells": [
  {
   "cell_type": "markdown",
   "metadata": {},
   "source": [
    "# Conditional Statements in Python\n",
    "\n",
    "Based on slides by Hyunji So, McGill Desautels."
   ]
  },
  {
   "cell_type": "markdown",
   "metadata": {},
   "source": [
    "## Control Flow\n",
    "\n",
    "**Control flow** refers to the order in which statements and instructions are executed in a program.\n",
    "\n",
    "By default, Python executes code sequentially, line by line. However, we often need to alter this flow based on certain conditions or repeat blocks of code.\n",
    "\n",
    "Two main ways to control the flow are:\n",
    "\n",
    "1.  **Conditional Statements:** Execute different blocks of code based on whether a condition is true or false (using `if`, `else`, `elif`).\n",
    "2.  **Loop Statements:** Repeat a block of code multiple times (using `for` loops and `while` loops - covered later)."
   ]
  },
  {
   "cell_type": "markdown",
   "metadata": {},
   "source": [
    "## Conditional Statements\n",
    "\n",
    "Conditional statements allow a program to make decisions and execute different code paths based on whether specific conditions evaluate to `True` or `False`.\n",
    "\n",
    "Python provides the following conditional structures:\n",
    "\n",
    "*   **`if` statement:** Executes a block of code *only if* a certain condition is `True`.\n",
    "*   **`if-else` statement:** Executes one block of code if a condition is `True`, and a *different* block if the condition is `False`.\n",
    "*   **`if-elif-else` statement:** Tests *multiple* conditions in sequence. It executes the block associated with the *first* condition that evaluates to `True`. An optional `else` block at the end executes if *none* of the preceding `if` or `elif` conditions are `True`."
   ]
  },
  {
   "cell_type": "markdown",
   "metadata": {},
   "source": [
    "## The `if` Statement\n",
    "\n",
    "The simplest conditional statement. It executes a block of code only when its condition is met (evaluates to `True`).\n",
    "\n",
    "**Syntax:**\n",
    "```python\n",
    "if condition:\n",
    "    # Code block to execute if condition is True\n",
    "    statement_1\n",
    "    statement_2\n",
    "    ...\n",
    "```\n",
    "*   **`condition`**: An expression that evaluates to a Boolean value (`True` or `False`).\n",
    "*   **`:`**: A colon marks the end of the `if` condition line.\n",
    "*   **Indentation**: The code block *must* be indented (usually 4 spaces). All indented lines following the `if` statement belong to its code block."
   ]
  },
  {
   "cell_type": "markdown",
   "metadata": {},
   "source": [
    "### Conditions: Comparison and Logical Operators\n",
    "\n",
    "Conditions often involve:\n",
    "*   **Comparison Operators:** To compare values.\n",
    "*   **Logical Operators:** To combine multiple Boolean expressions."
   ]
  },
  {
   "cell_type": "markdown",
   "metadata": {},
   "source": [
    "#### Comparison Operators\n",
    "\n",
    "These operators compare two values and return `True` or `False`.\n",
    "\n",
    "| Operator | Description                       | Example (`a=5`, `b=10`) | Result |\n",
    "| :------- | :-------------------------------- | :---------------------- | :----- |\n",
    "| `==`     | Equal to                          | `a == 5`                | `True`   |\n",
    "| `!=`     | Not equal to                      | `a != b`                | `True`   |\n",
    "| `>`      | Greater than                      | `b > a`                 | `True`   |\n",
    "| `<`      | Less than                         | `a < b`                 | `True`   |\n",
    "| `>=`     | Greater than or equal to        | `a >= 5`                | `True`   |\n",
    "| `<=`     | Less than or equal to           | `b <= 10`               | `True`   |"
   ]
  },
  {
   "cell_type": "markdown",
   "metadata": {},
   "source": [
    "#### Logical Operators\n",
    "\n",
    "These operators combine or modify Boolean values.\n",
    "\n",
    "| Operator | Description                                                     | Example (`x=True`, `y=False`) | Result |\n",
    "| :------- | :-------------------------------------------------------------- | :---------------------------- | :----- |\n",
    "| `and`    | Returns `True` if **both** operands are `True`                  | `x and y`                     | `False`  |\n",
    "| `or`     | Returns `True` if **at least one** operand is `True`            | `x or y`                      | `True`   |\n",
    "| `not`    | Returns the **opposite** Boolean value (inverts `True`/`False`) | `not y`                       | `True`   |"
   ]
  },
  {
   "cell_type": "markdown",
   "metadata": {},
   "source": [
    "### `if` Statement Practice\n",
    "\n",
    "Print a message indicating a special discount for new customers (tenure <= 7 days)."
   ]
  },
  {
   "cell_type": "code",
   "execution_count": null,
   "metadata": {},
   "outputs": [],
   "source": [
    "user_tenure = int(input(\"Enter the user's tenure (in days): \"))\n",
    "if (user_tenure <= 7):\n",
    "    print(\"New customers: Special discount!\")"
   ]
  },
  {
   "cell_type": "markdown",
   "metadata": {},
   "source": [
    "## The `if-else` Statement\n",
    "\n",
    "Provides an alternative block of code to execute when the `if` condition is `False`.\n",
    "\n",
    "**Syntax:**\n",
    "```python\n",
    "if condition:\n",
    "    # Code block if condition is True\n",
    "    statement_A1\n",
    "    statement_A2\n",
    "else:\n",
    "    # Code block if condition is False\n",
    "    statement_B1\n",
    "    statement_B2\n",
    "```\n",
    "*   The `else` block executes only if the `if` condition is `False`.\n",
    "*   The `else` keyword is aligned with the `if` keyword and also ends with a colon `:`. Its code block is indented."
   ]
  },
  {
   "cell_type": "markdown",
   "metadata": {},
   "source": [
    "### `if-else` Statement Practice\n",
    "\n",
    "Send a message to both new and existing customers. \n",
    "*   New customers (tenure <= 7 days) get a special discount message.\n",
    "*   Existing customers get a summer sale message."
   ]
  },
  {
   "cell_type": "code",
   "execution_count": null,
   "metadata": {},
   "outputs": [],
   "source": [
    "user_tenure = int(input(\"Enter the user's tenure (in days): \"))\n",
    "if user_tenure <= 7:\n",
    "    print(\"New customers: Special discount!\")\n",
    "else:\n",
    "    print(\"Our summer sale starts!\")"
   ]
  },
  {
   "cell_type": "markdown",
   "metadata": {},
   "source": [
    "## The `if-elif-else` Statement\n",
    "\n",
    "Used to check multiple conditions in sequence.\n",
    "\n",
    "**Syntax:**\n",
    "```python\n",
    "if condition_1:\n",
    "    # Block A (if condition_1 is True)\n",
    "    ...\n",
    "elif condition_2:\n",
    "    # Block B (if condition_1 is False AND condition_2 is True)\n",
    "    ...\n",
    "elif condition_3:\n",
    "    # Block C (if condition_1 & 2 are False AND condition_3 is True)\n",
    "    ...\n",
    "# You can have more elif blocks\n",
    "else:\n",
    "    # Block D (if ALL preceding conditions are False)\n",
    "    ...\n",
    "```\n",
    "*   Python checks the conditions from top to bottom.\n",
    "*   The code block associated with the **first** `True` condition is executed.\n",
    "*   Once a block is executed, the rest of the `elif`/`else` structure is skipped.\n",
    "*   The `else` block is optional and acts as a fallback if no `if` or `elif` condition is met."
   ]
  },
  {
   "cell_type": "markdown",
   "metadata": {},
   "source": [
    "### `if-elif-else` Statement Practice\n",
    "\n",
    "Based on the chosen membership status (gold or silver), display the corresponding discount rate.\n",
    "*   Gold: 20%\n",
    "*   Silver: 10%\n",
    "*   Handle invalid input."
   ]
  },
  {
   "cell_type": "code",
   "execution_count": null,
   "metadata": {},
   "outputs": [],
   "source": [
    "mem_status = input(\"Choose your membership status: gold or silver: \").lower()\n",
    "\n",
    "if mem_status == 'gold':\n",
    "    print(\"You will receive a 20% discount coupon!\")\n",
    "elif mem_status == 'silver':\n",
    "    print(\"You will receive a 10% discount coupon!\")\n",
    "else:\n",
    "    print(\"Sorry, please try again!\")"
   ]
  },
  {
   "cell_type": "markdown",
   "metadata": {},
   "source": [
    "## Nested Conditions\n",
    "\n",
    "You can place conditional statements (`if`, `if-else`, `if-elif-else`) inside the code block of another conditional statement. This is called **nesting** and allows for more complex decision-making logic.\n",
    "\n",
    "**Example Structure:**\n",
    "```python\n",
    "if outer_condition:\n",
    "    # Code for outer condition being True\n",
    "    if inner_condition_1:\n",
    "        # Code for inner condition 1 being True\n",
    "        ...\n",
    "    else:\n",
    "        # Code for inner condition 1 being False\n",
    "        ...\n",
    "else:\n",
    "    # Code for outer condition being False\n",
    "    ...\n",
    "```"
   ]
  },
  {
   "cell_type": "markdown",
   "metadata": {},
   "source": [
    "### Nested Conditions Practice\n",
    "\n",
    "Modify the previous membership discount example. First, ask if the user is a registered member (Y/N). \n",
    "*   If 'N', tell them to register for an additional discount.\n",
    "*   If 'Y', *then* ask for their membership status (gold/silver) and display the corresponding discount (or error message), as before."
   ]
  },
  {
   "cell_type": "code",
   "execution_count": null,
   "metadata": {},
   "outputs": [],
   "source": [
    "mem_yn = input(\"Are you a registered member on our website? Y/N \\n\").upper()\n",
    "\n",
    "if mem_yn == \"N\":\n",
    "    print(\"Register on our website! You will get an additional discount!\")\n",
    "else: \n",
    "    mem_status = input(\"Choose your membership status: gold or silver: \").lower()\n",
    "    \n",
    "    if mem_status == 'gold':\n",
    "        print(\"You will receive a 20% discount coupon!\")\n",
    "    elif mem_status == 'silver':\n",
    "        print(\"You will receive a 10% discount coupon!\")\n",
    "    else:\n",
    "        print(\"Sorry, invalid membership status entered.\")"
   ]
  },
  {
   "cell_type": "markdown",
   "metadata": {},
   "source": [
    "## Summary of Conditional Statements\n",
    "\n",
    "*   Conditional statements allow programs to make decisions.\n",
    "*   **`if`**: Executes code only if a condition is `True`.\n",
    "*   **`if-else`**: Executes one block if `True`, another if `False`.\n",
    "*   **`if-elif-else`**: Checks multiple conditions sequentially, executing the block for the first `True` condition, with an optional `else` for when none are `True`.\n",
    "*   **Nested Conditions**: Placing conditional statements inside others enables complex logic.\n",
    "*   **Conditions**: Use comparison (`==`, `!=`, `<`, `>`, `<=`, `>=`) and logical (`and`, `or`, `not`) operators to create expressions that evaluate to `True` or `False`.\n",
    "*   **Indentation**: Crucial for defining code blocks associated with `if`, `elif`, and `else`."
   ]
  }
 ],
 "metadata": {
  "kernelspec": {
   "display_name": "Python 3 (ipykernel)",
   "language": "python",
   "name": "python3"
  },
  "language_info": {
   "codemirror_mode": {
    "name": "ipython",
    "version": 3
   },
   "file_extension": ".py",
   "mimetype": "text/x-python",
   "name": "python",
   "nbconvert_exporter": "python",
   "pygments_lexer": "ipython3",
   "version": "3.11.7"
  }
 },
 "nbformat": 4,
 "nbformat_minor": 2
}