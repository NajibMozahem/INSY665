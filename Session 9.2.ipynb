{
  "cells": [
    {
      "cell_type": "markdown",
      "id": "e6514f27",
      "metadata": {},
      "source": [
        "# Pandas Fundamentals: Working with Movie Data"
      ]
    },
    {
      "cell_type": "markdown",
      "id": "6eedb0a3",
      "metadata": {},
      "source": [
        "## What is Pandas?\n",
        "\n",
        "**Pandas** is a powerful and popular open-source Python library for data manipulation and analysis. It provides high-performance, easy-to-use data structures and data analysis tools.\n",
        "\n",
        "The two primary data structures in Pandas are:\n",
        "1.  **Series:** A one-dimensional labeled array capable of holding any data type (integers, strings, floating point numbers, Python objects, etc.). Think of it as a single column in a spreadsheet.\n",
        "2.  **DataFrame:** A two-dimensional, size-mutable, and potentially heterogeneous tabular data structure with labeled axes (rows and columns). Think of it as a spreadsheet, an SQL table, or a dictionary of Series objects.\n",
        "\n",
        "We'll be primarily working with DataFrames.\n",
        "\n",
        "First, let's import Pandas. The common convention is to import it with the alias `pd`."
      ]
    },
    {
      "cell_type": "code",
      "execution_count": 1,
      "id": "a9e9f2b7",
      "metadata": {},
      "outputs": [],
      "source": [
        "import pandas as pd"
      ]
    },
    {
      "cell_type": "markdown",
      "id": "56bfa892",
      "metadata": {},
      "source": [
        "## Creating a Series\n",
        "\n",
        "While we'll focus on DataFrames, understanding Series is helpful as DataFrames are composed of them.\n",
        "\n",
        "### From a list (default index):"
      ]
    },
    {
      "cell_type": "code",
      "execution_count": 2,
      "id": "52468ea4",
      "metadata": {},
      "outputs": [
        {
          "name": "stdout",
          "output_type": "stream",
          "text": [
            "0    8.5\n",
            "1    7.9\n",
            "2    9.1\n",
            "3    6.5\n",
            "dtype: float64\n"
          ]
        }
      ],
      "source": [
        "movie_ratings_list = [8.5, 7.9, 9.1, 6.5]\n",
        "ratings_series = pd.Series(movie_ratings_list)\n",
        "print(ratings_series)"
      ]
    },
    {
      "cell_type": "markdown",
      "id": "5eb47d97",
      "metadata": {},
      "source": [
        "### From a list with a custom index:"
      ]
    },
    {
      "cell_type": "code",
      "execution_count": 3,
      "id": "6c259293",
      "metadata": {},
      "outputs": [
        {
          "name": "stdout",
          "output_type": "stream",
          "text": [
            "Movie A    8.5\n",
            "Movie B    7.9\n",
            "Movie C    9.1\n",
            "Movie D    6.5\n",
            "dtype: float64\n",
            "\n",
            "Rating for Movie B: 7.9\n"
          ]
        }
      ],
      "source": [
        "movie_titles = ['Movie A', 'Movie B', 'Movie C', 'Movie D']\n",
        "ratings_series_custom_index = pd.Series(movie_ratings_list, index=movie_titles)\n",
        "print(ratings_series_custom_index)\n",
        "print(\"\\nRating for Movie B:\", ratings_series_custom_index['Movie B'])"
      ]
    },
    {
      "cell_type": "markdown",
      "id": "c0b4b5e9",
      "metadata": {},
      "source": [
        "## Creating a DataFrame\n",
        "\n",
        "### From a Dictionary of Lists\n",
        "One way to create a DataFrame is from a dictionary where keys are column names and values are lists of column data."
      ]
    },
    {
      "cell_type": "code",
      "execution_count": 4,
      "id": "61463215",
      "metadata": {},
      "outputs": [
        {
          "name": "stdout",
          "output_type": "stream",
          "text": [
            "                      Title  Year  Rating\n",
            "0  The Shawshank Redemption  1994     9.3\n",
            "1             The Godfather  1972     9.2\n",
            "2           The Dark Knight  2008     9.0\n"
          ]
        }
      ],
      "source": [
        "data = {\n",
        "    'Title': ['The Shawshank Redemption', 'The Godfather', 'The Dark Knight'],\n",
        "    'Year': [1994, 1972, 2008],\n",
        "    'Rating': [9.3, 9.2, 9.0]\n",
        "}\n",
        "simple_df = pd.DataFrame(data)\n",
        "print(simple_df)"
      ]
    },
    {
      "cell_type": "markdown",
      "id": "46d54791",
      "metadata": {},
      "source": [
        "### Loading Data from a CSV File (Online)\n",
        "\n",
        "A very common task is to load data from a CSV (Comma Separated Values) file. Pandas makes this incredibly easy with `pd.read_csv()`.\n",
        "\n",
        "We'll use the **MovieLens Latest Small Dataset**. Let's load the `movies.csv` file."
      ]
    },
    {
      "cell_type": "code",
      "execution_count": 5,
      "id": "96cecccf",
      "metadata": {},
      "outputs": [
        {
          "name": "stdout",
          "output_type": "stream",
          "text": [
            "<class 'pandas.core.frame.DataFrame'>\n"
          ]
        }
      ],
      "source": [
        "# URL for the movies.csv file from MovieLens Latest Small Dataset\n",
        "movies_url = 'https://drive.google.com/uc?export=download&id=1Uztnn449pnDBDn1XGJPF6uzV34jrP1Te'\n",
        "\n",
        "# Read the CSV file into a Pandas DataFrame\n",
        "movies_df = pd.read_csv(movies_url)\n",
        "\n",
        "print(type(movies_df))"
      ]
    },
    {
      "cell_type": "markdown",
      "id": "77a17226",
      "metadata": {},
      "source": [
        "## Inspecting the DataFrame\n",
        "\n",
        "Once data is loaded, the first step is always to inspect it.\n",
        "\n",
        "### `head()` - View the first few rows\n",
        "This is useful to get a quick glimpse of your data. By default, it shows the first 5 rows."
      ]
    },
    {
      "cell_type": "code",
      "execution_count": 6,
      "id": "b78f7602",
      "metadata": {},
      "outputs": [
        {
          "data": {
            "text/html": [
              "<div>\n",
              "<style scoped>\n",
              "    .dataframe tbody tr th:only-of-type {\n",
              "        vertical-align: middle;\n",
              "    }\n",
              "\n",
              "    .dataframe tbody tr th {\n",
              "        vertical-align: top;\n",
              "    }\n",
              "\n",
              "    .dataframe thead th {\n",
              "        text-align: right;\n",
              "    }\n",
              "</style>\n",
              "<table border=\"1\" class=\"dataframe\">\n",
              "  <thead>\n",
              "    <tr style=\"text-align: right;\">\n",
              "      <th></th>\n",
              "      <th>movieId</th>\n",
              "      <th>title</th>\n",
              "      <th>genres</th>\n",
              "    </tr>\n",
              "  </thead>\n",
              "  <tbody>\n",
              "    <tr>\n",
              "      <th>0</th>\n",
              "      <td>1</td>\n",
              "      <td>Toy Story (1995)</td>\n",
              "      <td>Adventure|Animation|Children|Comedy|Fantasy</td>\n",
              "    </tr>\n",
              "    <tr>\n",
              "      <th>1</th>\n",
              "      <td>2</td>\n",
              "      <td>Jumanji (1995)</td>\n",
              "      <td>Adventure|Children|Fantasy</td>\n",
              "    </tr>\n",
              "    <tr>\n",
              "      <th>2</th>\n",
              "      <td>3</td>\n",
              "      <td>Grumpier Old Men (1995)</td>\n",
              "      <td>Comedy|Romance</td>\n",
              "    </tr>\n",
              "    <tr>\n",
              "      <th>3</th>\n",
              "      <td>4</td>\n",
              "      <td>Waiting to Exhale (1995)</td>\n",
              "      <td>Comedy|Drama|Romance</td>\n",
              "    </tr>\n",
              "    <tr>\n",
              "      <th>4</th>\n",
              "      <td>5</td>\n",
              "      <td>Father of the Bride Part II (1995)</td>\n",
              "      <td>Comedy</td>\n",
              "    </tr>\n",
              "  </tbody>\n",
              "</table>\n",
              "</div>"
            ],
            "text/plain": [
              "   movieId                               title  \\\n",
              "0        1                    Toy Story (1995)   \n",
              "1        2                      Jumanji (1995)   \n",
              "2        3             Grumpier Old Men (1995)   \n",
              "3        4            Waiting to Exhale (1995)   \n",
              "4        5  Father of the Bride Part II (1995)   \n",
              "\n",
              "                                        genres  \n",
              "0  Adventure|Animation|Children|Comedy|Fantasy  \n",
              "1                   Adventure|Children|Fantasy  \n",
              "2                               Comedy|Romance  \n",
              "3                         Comedy|Drama|Romance  \n",
              "4                                       Comedy  "
            ]
          },
          "execution_count": 6,
          "metadata": {},
          "output_type": "execute_result"
        }
      ],
      "source": [
        "movies_df.head()"
      ]
    },
    {
      "cell_type": "markdown",
      "id": "f2217ed5",
      "metadata": {},
      "source": [
        "You can specify the number of rows:"
      ]
    },
    {
      "cell_type": "code",
      "execution_count": 7,
      "id": "95b47731",
      "metadata": {},
      "outputs": [
        {
          "data": {
            "text/html": [
              "<div>\n",
              "<style scoped>\n",
              "    .dataframe tbody tr th:only-of-type {\n",
              "        vertical-align: middle;\n",
              "    }\n",
              "\n",
              "    .dataframe tbody tr th {\n",
              "        vertical-align: top;\n",
              "    }\n",
              "\n",
              "    .dataframe thead th {\n",
              "        text-align: right;\n",
              "    }\n",
              "</style>\n",
              "<table border=\"1\" class=\"dataframe\">\n",
              "  <thead>\n",
              "    <tr style=\"text-align: right;\">\n",
              "      <th></th>\n",
              "      <th>movieId</th>\n",
              "      <th>title</th>\n",
              "      <th>genres</th>\n",
              "    </tr>\n",
              "  </thead>\n",
              "  <tbody>\n",
              "    <tr>\n",
              "      <th>0</th>\n",
              "      <td>1</td>\n",
              "      <td>Toy Story (1995)</td>\n",
              "      <td>Adventure|Animation|Children|Comedy|Fantasy</td>\n",
              "    </tr>\n",
              "    <tr>\n",
              "      <th>1</th>\n",
              "      <td>2</td>\n",
              "      <td>Jumanji (1995)</td>\n",
              "      <td>Adventure|Children|Fantasy</td>\n",
              "    </tr>\n",
              "    <tr>\n",
              "      <th>2</th>\n",
              "      <td>3</td>\n",
              "      <td>Grumpier Old Men (1995)</td>\n",
              "      <td>Comedy|Romance</td>\n",
              "    </tr>\n",
              "  </tbody>\n",
              "</table>\n",
              "</div>"
            ],
            "text/plain": [
              "   movieId                    title  \\\n",
              "0        1         Toy Story (1995)   \n",
              "1        2           Jumanji (1995)   \n",
              "2        3  Grumpier Old Men (1995)   \n",
              "\n",
              "                                        genres  \n",
              "0  Adventure|Animation|Children|Comedy|Fantasy  \n",
              "1                   Adventure|Children|Fantasy  \n",
              "2                               Comedy|Romance  "
            ]
          },
          "execution_count": 7,
          "metadata": {},
          "output_type": "execute_result"
        }
      ],
      "source": [
        "movies_df.head(3)"
      ]
    },
    {
      "cell_type": "markdown",
      "id": "901cdb6a",
      "metadata": {},
      "source": [
        "### `tail()` - View the last few rows"
      ]
    },
    {
      "cell_type": "code",
      "execution_count": 8,
      "id": "03fb010c",
      "metadata": {},
      "outputs": [
        {
          "data": {
            "text/html": [
              "<div>\n",
              "<style scoped>\n",
              "    .dataframe tbody tr th:only-of-type {\n",
              "        vertical-align: middle;\n",
              "    }\n",
              "\n",
              "    .dataframe tbody tr th {\n",
              "        vertical-align: top;\n",
              "    }\n",
              "\n",
              "    .dataframe thead th {\n",
              "        text-align: right;\n",
              "    }\n",
              "</style>\n",
              "<table border=\"1\" class=\"dataframe\">\n",
              "  <thead>\n",
              "    <tr style=\"text-align: right;\">\n",
              "      <th></th>\n",
              "      <th>movieId</th>\n",
              "      <th>title</th>\n",
              "      <th>genres</th>\n",
              "    </tr>\n",
              "  </thead>\n",
              "  <tbody>\n",
              "    <tr>\n",
              "      <th>9739</th>\n",
              "      <td>193585</td>\n",
              "      <td>Flint (2017)</td>\n",
              "      <td>Drama</td>\n",
              "    </tr>\n",
              "    <tr>\n",
              "      <th>9740</th>\n",
              "      <td>193587</td>\n",
              "      <td>Bungo Stray Dogs: Dead Apple (2018)</td>\n",
              "      <td>Action|Animation</td>\n",
              "    </tr>\n",
              "    <tr>\n",
              "      <th>9741</th>\n",
              "      <td>193609</td>\n",
              "      <td>Andrew Dice Clay: Dice Rules (1991)</td>\n",
              "      <td>Comedy</td>\n",
              "    </tr>\n",
              "  </tbody>\n",
              "</table>\n",
              "</div>"
            ],
            "text/plain": [
              "      movieId                                title            genres\n",
              "9739   193585                         Flint (2017)             Drama\n",
              "9740   193587  Bungo Stray Dogs: Dead Apple (2018)  Action|Animation\n",
              "9741   193609  Andrew Dice Clay: Dice Rules (1991)            Comedy"
            ]
          },
          "execution_count": 8,
          "metadata": {},
          "output_type": "execute_result"
        }
      ],
      "source": [
        "movies_df.tail(3)"
      ]
    },
    {
      "cell_type": "markdown",
      "id": "3ef44bdc",
      "metadata": {},
      "source": [
        "### `shape` - Get the dimensions (rows, columns)"
      ]
    },
    {
      "cell_type": "code",
      "execution_count": 9,
      "id": "ee4edadd",
      "metadata": {},
      "outputs": [
        {
          "name": "stdout",
          "output_type": "stream",
          "text": [
            "Shape of the DataFrame (rows, columns): (9742, 3)\n"
          ]
        }
      ],
      "source": [
        "print(\"Shape of the DataFrame (rows, columns):\", movies_df.shape)"
      ]
    },
    {
      "cell_type": "markdown",
      "id": "c5941f93",
      "metadata": {},
      "source": [
        "### `size` - Get the total number of elements"
      ]
    },
    {
      "cell_type": "code",
      "execution_count": 10,
      "id": "8b225a58",
      "metadata": {},
      "outputs": [
        {
          "name": "stdout",
          "output_type": "stream",
          "text": [
            "Total number of elements: 29226\n"
          ]
        }
      ],
      "source": [
        "print(\"Total number of elements:\", movies_df.size)"
      ]
    },
    {
      "cell_type": "markdown",
      "id": "f2299be5",
      "metadata": {},
      "source": [
        "### `columns` - Get the column names"
      ]
    },
    {
      "cell_type": "code",
      "execution_count": 11,
      "id": "98aa0b75",
      "metadata": {},
      "outputs": [
        {
          "name": "stdout",
          "output_type": "stream",
          "text": [
            "Column names: Index(['movieId', 'title', 'genres'], dtype='object')\n",
            "As a list: ['movieId', 'title', 'genres']\n"
          ]
        }
      ],
      "source": [
        "print(\"Column names:\", movies_df.columns)\n",
        "print(\"As a list:\", list(movies_df.columns))"
      ]
    },
    {
      "cell_type": "markdown",
      "id": "756cca73",
      "metadata": {},
      "source": [
        "### `dtypes` - Get the data type of each column\n",
        "Pandas automatically infers data types. `object` usually means string."
      ]
    },
    {
      "cell_type": "code",
      "execution_count": 12,
      "id": "121cd4b6",
      "metadata": {},
      "outputs": [
        {
          "name": "stdout",
          "output_type": "stream",
          "text": [
            "Data types of columns:\n",
            "movieId     int64\n",
            "title      object\n",
            "genres     object\n",
            "dtype: object\n"
          ]
        }
      ],
      "source": [
        "print(\"Data types of columns:\")\n",
        "print(movies_df.dtypes)"
      ]
    },
    {
      "cell_type": "markdown",
      "id": "1fa9ea5e",
      "metadata": {},
      "source": [
        "### `info()` - Get a concise summary of the DataFrame\n",
        "This includes data types, number of non-null values, and memory usage."
      ]
    },
    {
      "cell_type": "code",
      "execution_count": 13,
      "id": "4155ab9f",
      "metadata": {},
      "outputs": [
        {
          "name": "stdout",
          "output_type": "stream",
          "text": [
            "<class 'pandas.core.frame.DataFrame'>\n",
            "RangeIndex: 9742 entries, 0 to 9741\n",
            "Data columns (total 3 columns):\n",
            " #   Column   Non-Null Count  Dtype \n",
            "---  ------   --------------  ----- \n",
            " 0   movieId  9742 non-null   int64 \n",
            " 1   title    9742 non-null   object\n",
            " 2   genres   9742 non-null   object\n",
            "dtypes: int64(1), object(2)\n",
            "memory usage: 228.5+ KB\n"
          ]
        }
      ],
      "source": [
        "movies_df.info()"
      ]
    },
    {
      "cell_type": "markdown",
      "id": "72e266eb",
      "metadata": {},
      "source": [
        "## Selecting Data\n",
        "\n",
        "### Selecting Columns\n",
        "You can select a single column using `df['column_name']`, which returns a Series."
      ]
    },
    {
      "cell_type": "code",
      "execution_count": 14,
      "id": "cf26e93c",
      "metadata": {},
      "outputs": [
        {
          "name": "stdout",
          "output_type": "stream",
          "text": [
            "<class 'pandas.core.series.Series'>\n"
          ]
        },
        {
          "data": {
            "text/plain": [
              "0                      Toy Story (1995)\n",
              "1                        Jumanji (1995)\n",
              "2               Grumpier Old Men (1995)\n",
              "3              Waiting to Exhale (1995)\n",
              "4    Father of the Bride Part II (1995)\n",
              "Name: title, dtype: object"
            ]
          },
          "execution_count": 14,
          "metadata": {},
          "output_type": "execute_result"
        }
      ],
      "source": [
        "titles_series = movies_df['title']\n",
        "print(type(titles_series))\n",
        "titles_series.head()"
      ]
    },
    {
      "cell_type": "markdown",
      "id": "6e1a4c7c",
      "metadata": {},
      "source": [
        "To select multiple columns, pass a list of column names `df[['col1', 'col2']]`, which returns a DataFrame."
      ]
    },
    {
      "cell_type": "code",
      "execution_count": 15,
      "id": "bb51c9f1",
      "metadata": {},
      "outputs": [
        {
          "name": "stdout",
          "output_type": "stream",
          "text": [
            "<class 'pandas.core.frame.DataFrame'>\n"
          ]
        },
        {
          "data": {
            "text/html": [
              "<div>\n",
              "<style scoped>\n",
              "    .dataframe tbody tr th:only-of-type {\n",
              "        vertical-align: middle;\n",
              "    }\n",
              "\n",
              "    .dataframe tbody tr th {\n",
              "        vertical-align: top;\n",
              "    }\n",
              "\n",
              "    .dataframe thead th {\n",
              "        text-align: right;\n",
              "    }\n",
              "</style>\n",
              "<table border=\"1\" class=\"dataframe\">\n",
              "  <thead>\n",
              "    <tr style=\"text-align: right;\">\n",
              "      <th></th>\n",
              "      <th>title</th>\n",
              "      <th>genres</th>\n",
              "    </tr>\n",
              "  </thead>\n",
              "  <tbody>\n",
              "    <tr>\n",
              "      <th>0</th>\n",
              "      <td>Toy Story (1995)</td>\n",
              "      <td>Adventure|Animation|Children|Comedy|Fantasy</td>\n",
              "    </tr>\n",
              "    <tr>\n",
              "      <th>1</th>\n",
              "      <td>Jumanji (1995)</td>\n",
              "      <td>Adventure|Children|Fantasy</td>\n",
              "    </tr>\n",
              "    <tr>\n",
              "      <th>2</th>\n",
              "      <td>Grumpier Old Men (1995)</td>\n",
              "      <td>Comedy|Romance</td>\n",
              "    </tr>\n",
              "    <tr>\n",
              "      <th>3</th>\n",
              "      <td>Waiting to Exhale (1995)</td>\n",
              "      <td>Comedy|Drama|Romance</td>\n",
              "    </tr>\n",
              "    <tr>\n",
              "      <th>4</th>\n",
              "      <td>Father of the Bride Part II (1995)</td>\n",
              "      <td>Comedy</td>\n",
              "    </tr>\n",
              "  </tbody>\n",
              "</table>\n",
              "</div>"
            ],
            "text/plain": [
              "                                title  \\\n",
              "0                    Toy Story (1995)   \n",
              "1                      Jumanji (1995)   \n",
              "2             Grumpier Old Men (1995)   \n",
              "3            Waiting to Exhale (1995)   \n",
              "4  Father of the Bride Part II (1995)   \n",
              "\n",
              "                                        genres  \n",
              "0  Adventure|Animation|Children|Comedy|Fantasy  \n",
              "1                   Adventure|Children|Fantasy  \n",
              "2                               Comedy|Romance  \n",
              "3                         Comedy|Drama|Romance  \n",
              "4                                       Comedy  "
            ]
          },
          "execution_count": 15,
          "metadata": {},
          "output_type": "execute_result"
        }
      ],
      "source": [
        "title_and_genres_df = movies_df[['title', 'genres']]\n",
        "print(type(title_and_genres_df))\n",
        "title_and_genres_df.head()"
      ]
    },
    {
      "cell_type": "markdown",
      "id": "5cc2df46",
      "metadata": {},
      "source": [
        "### Selecting Rows and Columns with `loc` and `iloc`\n",
        "\n",
        "Pandas provides two main methods for selecting rows and columns:\n",
        "*   `loc`: Label-based selection. You use the actual row and column labels.\n",
        "*   `iloc`: Integer position-based selection. You use integer indices (like list slicing).\n",
        "\n",
        "#### `iloc` (Integer-based selection)\n",
        "Selects data based on its integer position (0-indexed)."
      ]
    },
    {
      "cell_type": "code",
      "execution_count": 16,
      "id": "a3d69dbe",
      "metadata": {},
      "outputs": [
        {
          "name": "stdout",
          "output_type": "stream",
          "text": [
            "First row:\n",
            " movieId                                              1\n",
            "title                                 Toy Story (1995)\n",
            "genres     Adventure|Animation|Children|Comedy|Fantasy\n",
            "Name: 0, dtype: object\n",
            "\n",
            "Type of selection: <class 'pandas.core.series.Series'>\n",
            "\n",
            "First 3 rows (DataFrame):\n",
            "    movieId                    title  \\\n",
            "0        1         Toy Story (1995)   \n",
            "1        2           Jumanji (1995)   \n",
            "2        3  Grumpier Old Men (1995)   \n",
            "\n",
            "                                        genres  \n",
            "0  Adventure|Animation|Children|Comedy|Fantasy  \n",
            "1                   Adventure|Children|Fantasy  \n",
            "2                               Comedy|Romance  \n",
            "\n",
            "Element at [0,1]: Toy Story (1995)\n",
            "\n",
            "Rows 0-2, Columns 1-2:\n",
            "                      title                                       genres\n",
            "0         Toy Story (1995)  Adventure|Animation|Children|Comedy|Fantasy\n",
            "1           Jumanji (1995)                   Adventure|Children|Fantasy\n",
            "2  Grumpier Old Men (1995)                               Comedy|Romance\n"
          ]
        }
      ],
      "source": [
        "# Select the first row (index 0)\n",
        "print(\"First row:\\n\", movies_df.iloc[0])\n",
        "print(\"\\nType of selection:\", type(movies_df.iloc[0]))\n",
        "\n",
        "# Select rows 0, 1, 2 (slicing is exclusive of the end index)\n",
        "print(\"\\nFirst 3 rows (DataFrame):\\n\", movies_df.iloc[0:3])\n",
        "\n",
        "# Select the element at row 0, column 1 (title of the first movie)\n",
        "print(\"\\nElement at [0,1]:\", movies_df.iloc[0, 1])\n",
        "\n",
        "# Select rows 0 to 2, and columns 1 to 2 (title and genres)\n",
        "print(\"\\nRows 0-2, Columns 1-2:\\n\", movies_df.iloc[0:3, 1:3])"
      ]
    },
    {
      "cell_type": "markdown",
      "id": "f15ff7ba",
      "metadata": {},
      "source": [
        "#### `loc` (Label-based selection)\n",
        "Selects data based on labels of rows and columns. If the DataFrame index is the default (0, 1, 2...), then `loc` can behave similarly to `iloc` for row selection, but it's conceptually different.\n",
        "Slicing with `loc` is *inclusive* of the end label."
      ]
    },
    {
      "cell_type": "code",
      "execution_count": 17,
      "id": "6fef62d8",
      "metadata": {},
      "outputs": [
        {
          "name": "stdout",
          "output_type": "stream",
          "text": [
            "Row with index label 0:\n",
            " movieId                                              1\n",
            "title                                 Toy Story (1995)\n",
            "genres     Adventure|Animation|Children|Comedy|Fantasy\n",
            "Name: 0, dtype: object\n",
            "\n",
            "Rows with index labels 0 to 2:\n",
            "    movieId                    title  \\\n",
            "0        1         Toy Story (1995)   \n",
            "1        2           Jumanji (1995)   \n",
            "2        3  Grumpier Old Men (1995)   \n",
            "\n",
            "                                        genres  \n",
            "0  Adventure|Animation|Children|Comedy|Fantasy  \n",
            "1                   Adventure|Children|Fantasy  \n",
            "2                               Comedy|Romance  \n",
            "\n",
            "Row 0, column 'title': Toy Story (1995)\n",
            "\n",
            "Rows 0-2, columns 'title' & 'genres':\n",
            "                      title                                       genres\n",
            "0         Toy Story (1995)  Adventure|Animation|Children|Comedy|Fantasy\n",
            "1           Jumanji (1995)                   Adventure|Children|Fantasy\n",
            "2  Grumpier Old Men (1995)                               Comedy|Romance\n"
          ]
        }
      ],
      "source": [
        "# Let's use the default integer index for rows for now\n",
        "# Select row with index label 0\n",
        "print(\"Row with index label 0:\\n\", movies_df.loc[0])\n",
        "\n",
        "# Select rows with index labels 0, 1, 2 (inclusive)\n",
        "print(\"\\nRows with index labels 0 to 2:\\n\", movies_df.loc[0:2]) \n",
        "\n",
        "# Select row with index label 0, and column 'title'\n",
        "print(\"\\nRow 0, column 'title':\", movies_df.loc[0, 'title'])\n",
        "\n",
        "# Select rows 0-2, and columns 'title' and 'genres'\n",
        "print(\"\\nRows 0-2, columns 'title' & 'genres':\\n\", movies_df.loc[0:2, ['title', 'genres']])"
      ]
    },
    {
      "cell_type": "markdown",
      "id": "3cc10425",
      "metadata": {},
      "source": [
        "**When to use `loc` vs `iloc`?**\n",
        "*   Use `iloc` when you know the integer positions.\n",
        "*   Use `loc` when you know the labels. It's generally safer if your index isn't a simple range or if column order might change, as it's explicit about what you're selecting."
      ]
    },
    {
      "cell_type": "markdown",
      "id": "47036b43",
      "metadata": {},
      "source": [
        "## Filtering Data (Boolean Indexing)\n",
        "\n",
        "You can filter rows based on conditions. This is a very powerful feature.\n",
        "\n",
        "First, let's see what a condition looks like. It returns a Series of Booleans:"
      ]
    },
    {
      "cell_type": "code",
      "execution_count": 18,
      "id": "b35759b7",
      "metadata": {},
      "outputs": [
        {
          "name": "stdout",
          "output_type": "stream",
          "text": [
            "0    False\n",
            "1    False\n",
            "2    False\n",
            "3    False\n",
            "4    False\n",
            "Name: movieId, dtype: bool\n"
          ]
        }
      ],
      "source": [
        "# Condition: movieId greater than 10\n",
        "condition_movieId = movies_df['movieId'] > 10\n",
        "print(condition_movieId.head())"
      ]
    },
    {
      "cell_type": "markdown",
      "id": "b7c6d205",
      "metadata": {},
      "source": [
        "Now, use this Boolean Series to filter the DataFrame:"
      ]
    },
    {
      "cell_type": "code",
      "execution_count": 19,
      "id": "4c92364f",
      "metadata": {},
      "outputs": [
        {
          "data": {
            "text/html": [
              "<div>\n",
              "<style scoped>\n",
              "    .dataframe tbody tr th:only-of-type {\n",
              "        vertical-align: middle;\n",
              "    }\n",
              "\n",
              "    .dataframe tbody tr th {\n",
              "        vertical-align: top;\n",
              "    }\n",
              "\n",
              "    .dataframe thead th {\n",
              "        text-align: right;\n",
              "    }\n",
              "</style>\n",
              "<table border=\"1\" class=\"dataframe\">\n",
              "  <thead>\n",
              "    <tr style=\"text-align: right;\">\n",
              "      <th></th>\n",
              "      <th>movieId</th>\n",
              "      <th>title</th>\n",
              "      <th>genres</th>\n",
              "    </tr>\n",
              "  </thead>\n",
              "  <tbody>\n",
              "    <tr>\n",
              "      <th>10</th>\n",
              "      <td>11</td>\n",
              "      <td>American President, The (1995)</td>\n",
              "      <td>Comedy|Drama|Romance</td>\n",
              "    </tr>\n",
              "    <tr>\n",
              "      <th>11</th>\n",
              "      <td>12</td>\n",
              "      <td>Dracula: Dead and Loving It (1995)</td>\n",
              "      <td>Comedy|Horror</td>\n",
              "    </tr>\n",
              "    <tr>\n",
              "      <th>12</th>\n",
              "      <td>13</td>\n",
              "      <td>Balto (1995)</td>\n",
              "      <td>Adventure|Animation|Children</td>\n",
              "    </tr>\n",
              "    <tr>\n",
              "      <th>13</th>\n",
              "      <td>14</td>\n",
              "      <td>Nixon (1995)</td>\n",
              "      <td>Drama</td>\n",
              "    </tr>\n",
              "    <tr>\n",
              "      <th>14</th>\n",
              "      <td>15</td>\n",
              "      <td>Cutthroat Island (1995)</td>\n",
              "      <td>Action|Adventure|Romance</td>\n",
              "    </tr>\n",
              "  </tbody>\n",
              "</table>\n",
              "</div>"
            ],
            "text/plain": [
              "    movieId                               title                        genres\n",
              "10       11      American President, The (1995)          Comedy|Drama|Romance\n",
              "11       12  Dracula: Dead and Loving It (1995)                 Comedy|Horror\n",
              "12       13                        Balto (1995)  Adventure|Animation|Children\n",
              "13       14                        Nixon (1995)                         Drama\n",
              "14       15             Cutthroat Island (1995)      Action|Adventure|Romance"
            ]
          },
          "execution_count": 19,
          "metadata": {},
          "output_type": "execute_result"
        }
      ],
      "source": [
        "filtered_movies = movies_df[condition_movieId]\n",
        "# or more concisely: movies_df[movies_df['movieId'] > 10]\n",
        "filtered_movies.head()"
      ]
    },
    {
      "cell_type": "markdown",
      "id": "65254da1",
      "metadata": {},
      "source": [
        "### Filtering by String Content\n",
        "The `.str` accessor allows us to use string methods on a Series.\n",
        "Let's find movies containing 'Adventure' in their genres."
      ]
    },
    {
      "cell_type": "code",
      "execution_count": 20,
      "id": "67b3e334",
      "metadata": {},
      "outputs": [
        {
          "data": {
            "text/html": [
              "<div>\n",
              "<style scoped>\n",
              "    .dataframe tbody tr th:only-of-type {\n",
              "        vertical-align: middle;\n",
              "    }\n",
              "\n",
              "    .dataframe tbody tr th {\n",
              "        vertical-align: top;\n",
              "    }\n",
              "\n",
              "    .dataframe thead th {\n",
              "        text-align: right;\n",
              "    }\n",
              "</style>\n",
              "<table border=\"1\" class=\"dataframe\">\n",
              "  <thead>\n",
              "    <tr style=\"text-align: right;\">\n",
              "      <th></th>\n",
              "      <th>movieId</th>\n",
              "      <th>title</th>\n",
              "      <th>genres</th>\n",
              "    </tr>\n",
              "  </thead>\n",
              "  <tbody>\n",
              "    <tr>\n",
              "      <th>0</th>\n",
              "      <td>1</td>\n",
              "      <td>Toy Story (1995)</td>\n",
              "      <td>Adventure|Animation|Children|Comedy|Fantasy</td>\n",
              "    </tr>\n",
              "    <tr>\n",
              "      <th>1</th>\n",
              "      <td>2</td>\n",
              "      <td>Jumanji (1995)</td>\n",
              "      <td>Adventure|Children|Fantasy</td>\n",
              "    </tr>\n",
              "    <tr>\n",
              "      <th>7</th>\n",
              "      <td>8</td>\n",
              "      <td>Tom and Huck (1995)</td>\n",
              "      <td>Adventure|Children</td>\n",
              "    </tr>\n",
              "    <tr>\n",
              "      <th>9</th>\n",
              "      <td>10</td>\n",
              "      <td>GoldenEye (1995)</td>\n",
              "      <td>Action|Adventure|Thriller</td>\n",
              "    </tr>\n",
              "    <tr>\n",
              "      <th>12</th>\n",
              "      <td>13</td>\n",
              "      <td>Balto (1995)</td>\n",
              "      <td>Adventure|Animation|Children</td>\n",
              "    </tr>\n",
              "  </tbody>\n",
              "</table>\n",
              "</div>"
            ],
            "text/plain": [
              "    movieId                title                                       genres\n",
              "0         1     Toy Story (1995)  Adventure|Animation|Children|Comedy|Fantasy\n",
              "1         2       Jumanji (1995)                   Adventure|Children|Fantasy\n",
              "7         8  Tom and Huck (1995)                           Adventure|Children\n",
              "9        10     GoldenEye (1995)                    Action|Adventure|Thriller\n",
              "12       13         Balto (1995)                 Adventure|Animation|Children"
            ]
          },
          "execution_count": 20,
          "metadata": {},
          "output_type": "execute_result"
        }
      ],
      "source": [
        "adventure_movies = movies_df[movies_df['genres'].str.contains('Adventure')]\n",
        "adventure_movies.head()"
      ]
    },
    {
      "cell_type": "markdown",
      "id": "27001bec",
      "metadata": {},
      "source": [
        "### Combining Conditions\n",
        "Use `&` for AND, `|` for OR. Wrap individual conditions in parentheses `()`.\n",
        "\n",
        "Let's find 'Adventure' movies that also contain 'Children'."
      ]
    },
    {
      "cell_type": "code",
      "execution_count": 21,
      "id": "b6608c03",
      "metadata": {},
      "outputs": [
        {
          "data": {
            "text/html": [
              "<div>\n",
              "<style scoped>\n",
              "    .dataframe tbody tr th:only-of-type {\n",
              "        vertical-align: middle;\n",
              "    }\n",
              "\n",
              "    .dataframe tbody tr th {\n",
              "        vertical-align: top;\n",
              "    }\n",
              "\n",
              "    .dataframe thead th {\n",
              "        text-align: right;\n",
              "    }\n",
              "</style>\n",
              "<table border=\"1\" class=\"dataframe\">\n",
              "  <thead>\n",
              "    <tr style=\"text-align: right;\">\n",
              "      <th></th>\n",
              "      <th>movieId</th>\n",
              "      <th>title</th>\n",
              "      <th>genres</th>\n",
              "    </tr>\n",
              "  </thead>\n",
              "  <tbody>\n",
              "    <tr>\n",
              "      <th>0</th>\n",
              "      <td>1</td>\n",
              "      <td>Toy Story (1995)</td>\n",
              "      <td>Adventure|Animation|Children|Comedy|Fantasy</td>\n",
              "    </tr>\n",
              "    <tr>\n",
              "      <th>1</th>\n",
              "      <td>2</td>\n",
              "      <td>Jumanji (1995)</td>\n",
              "      <td>Adventure|Children|Fantasy</td>\n",
              "    </tr>\n",
              "    <tr>\n",
              "      <th>7</th>\n",
              "      <td>8</td>\n",
              "      <td>Tom and Huck (1995)</td>\n",
              "      <td>Adventure|Children</td>\n",
              "    </tr>\n",
              "    <tr>\n",
              "      <th>12</th>\n",
              "      <td>13</td>\n",
              "      <td>Balto (1995)</td>\n",
              "      <td>Adventure|Animation|Children</td>\n",
              "    </tr>\n",
              "    <tr>\n",
              "      <th>53</th>\n",
              "      <td>60</td>\n",
              "      <td>Indian in the Cupboard, The (1995)</td>\n",
              "      <td>Adventure|Children|Fantasy</td>\n",
              "    </tr>\n",
              "  </tbody>\n",
              "</table>\n",
              "</div>"
            ],
            "text/plain": [
              "    movieId                               title  \\\n",
              "0         1                    Toy Story (1995)   \n",
              "1         2                      Jumanji (1995)   \n",
              "7         8                 Tom and Huck (1995)   \n",
              "12       13                        Balto (1995)   \n",
              "53       60  Indian in the Cupboard, The (1995)   \n",
              "\n",
              "                                         genres  \n",
              "0   Adventure|Animation|Children|Comedy|Fantasy  \n",
              "1                    Adventure|Children|Fantasy  \n",
              "7                            Adventure|Children  \n",
              "12                 Adventure|Animation|Children  \n",
              "53                   Adventure|Children|Fantasy  "
            ]
          },
          "execution_count": 21,
          "metadata": {},
          "output_type": "execute_result"
        }
      ],
      "source": [
        "adventure_children_movies = movies_df[\n",
        "    (movies_df['genres'].str.contains('Adventure')) & \n",
        "    (movies_df['genres'].str.contains('Children'))\n",
        "]\n",
        "adventure_children_movies.head()"
      ]
    },
    {
      "cell_type": "markdown",
      "id": "0f349354",
      "metadata": {},
      "source": [
        "## Sorting Data\n",
        "\n",
        "The `sort_values()` method sorts a DataFrame by one or more columns."
      ]
    },
    {
      "cell_type": "code",
      "execution_count": 22,
      "id": "84444cf8",
      "metadata": {},
      "outputs": [
        {
          "data": {
            "text/html": [
              "<div>\n",
              "<style scoped>\n",
              "    .dataframe tbody tr th:only-of-type {\n",
              "        vertical-align: middle;\n",
              "    }\n",
              "\n",
              "    .dataframe tbody tr th {\n",
              "        vertical-align: top;\n",
              "    }\n",
              "\n",
              "    .dataframe thead th {\n",
              "        text-align: right;\n",
              "    }\n",
              "</style>\n",
              "<table border=\"1\" class=\"dataframe\">\n",
              "  <thead>\n",
              "    <tr style=\"text-align: right;\">\n",
              "      <th></th>\n",
              "      <th>movieId</th>\n",
              "      <th>title</th>\n",
              "      <th>genres</th>\n",
              "    </tr>\n",
              "  </thead>\n",
              "  <tbody>\n",
              "    <tr>\n",
              "      <th>8600</th>\n",
              "      <td>117867</td>\n",
              "      <td>'71 (2014)</td>\n",
              "      <td>Action|Drama|Thriller|War</td>\n",
              "    </tr>\n",
              "    <tr>\n",
              "      <th>8014</th>\n",
              "      <td>97757</td>\n",
              "      <td>'Hellboy': The Seeds of Creation (2004)</td>\n",
              "      <td>Action|Adventure|Comedy|Documentary|Fantasy</td>\n",
              "    </tr>\n",
              "    <tr>\n",
              "      <th>5528</th>\n",
              "      <td>26564</td>\n",
              "      <td>'Round Midnight (1986)</td>\n",
              "      <td>Drama|Musical</td>\n",
              "    </tr>\n",
              "    <tr>\n",
              "      <th>5690</th>\n",
              "      <td>27751</td>\n",
              "      <td>'Salem's Lot (2004)</td>\n",
              "      <td>Drama|Horror|Mystery|Thriller</td>\n",
              "    </tr>\n",
              "    <tr>\n",
              "      <th>614</th>\n",
              "      <td>779</td>\n",
              "      <td>'Til There Was You (1997)</td>\n",
              "      <td>Drama|Romance</td>\n",
              "    </tr>\n",
              "  </tbody>\n",
              "</table>\n",
              "</div>"
            ],
            "text/plain": [
              "      movieId                                    title  \\\n",
              "8600   117867                               '71 (2014)   \n",
              "8014    97757  'Hellboy': The Seeds of Creation (2004)   \n",
              "5528    26564                   'Round Midnight (1986)   \n",
              "5690    27751                      'Salem's Lot (2004)   \n",
              "614       779                'Til There Was You (1997)   \n",
              "\n",
              "                                           genres  \n",
              "8600                    Action|Drama|Thriller|War  \n",
              "8014  Action|Adventure|Comedy|Documentary|Fantasy  \n",
              "5528                                Drama|Musical  \n",
              "5690                Drama|Horror|Mystery|Thriller  \n",
              "614                                 Drama|Romance  "
            ]
          },
          "execution_count": 22,
          "metadata": {},
          "output_type": "execute_result"
        }
      ],
      "source": [
        "# Sort movies by title alphabetically (ascending by default)\n",
        "sorted_by_title = movies_df.sort_values(by='title')\n",
        "sorted_by_title.head()"
      ]
    },
    {
      "cell_type": "code",
      "execution_count": 23,
      "id": "8ba87891",
      "metadata": {},
      "outputs": [
        {
          "data": {
            "text/html": [
              "<div>\n",
              "<style scoped>\n",
              "    .dataframe tbody tr th:only-of-type {\n",
              "        vertical-align: middle;\n",
              "    }\n",
              "\n",
              "    .dataframe tbody tr th {\n",
              "        vertical-align: top;\n",
              "    }\n",
              "\n",
              "    .dataframe thead th {\n",
              "        text-align: right;\n",
              "    }\n",
              "</style>\n",
              "<table border=\"1\" class=\"dataframe\">\n",
              "  <thead>\n",
              "    <tr style=\"text-align: right;\">\n",
              "      <th></th>\n",
              "      <th>movieId</th>\n",
              "      <th>title</th>\n",
              "      <th>genres</th>\n",
              "    </tr>\n",
              "  </thead>\n",
              "  <tbody>\n",
              "    <tr>\n",
              "      <th>3947</th>\n",
              "      <td>5560</td>\n",
              "      <td>À nous la liberté (Freedom for Us) (1931)</td>\n",
              "      <td>Comedy|Musical</td>\n",
              "    </tr>\n",
              "    <tr>\n",
              "      <th>1866</th>\n",
              "      <td>2478</td>\n",
              "      <td>¡Three Amigos! (1986)</td>\n",
              "      <td>Comedy|Western</td>\n",
              "    </tr>\n",
              "    <tr>\n",
              "      <th>5882</th>\n",
              "      <td>33158</td>\n",
              "      <td>xXx: State of the Union (2005)</td>\n",
              "      <td>Action|Crime|Thriller</td>\n",
              "    </tr>\n",
              "    <tr>\n",
              "      <th>3920</th>\n",
              "      <td>5507</td>\n",
              "      <td>xXx (2002)</td>\n",
              "      <td>Action|Crime|Thriller</td>\n",
              "    </tr>\n",
              "    <tr>\n",
              "      <th>1961</th>\n",
              "      <td>2600</td>\n",
              "      <td>eXistenZ (1999)</td>\n",
              "      <td>Action|Sci-Fi|Thriller</td>\n",
              "    </tr>\n",
              "  </tbody>\n",
              "</table>\n",
              "</div>"
            ],
            "text/plain": [
              "      movieId                                      title  \\\n",
              "3947     5560  À nous la liberté (Freedom for Us) (1931)   \n",
              "1866     2478                      ¡Three Amigos! (1986)   \n",
              "5882    33158             xXx: State of the Union (2005)   \n",
              "3920     5507                                 xXx (2002)   \n",
              "1961     2600                            eXistenZ (1999)   \n",
              "\n",
              "                      genres  \n",
              "3947          Comedy|Musical  \n",
              "1866          Comedy|Western  \n",
              "5882   Action|Crime|Thriller  \n",
              "3920   Action|Crime|Thriller  \n",
              "1961  Action|Sci-Fi|Thriller  "
            ]
          },
          "execution_count": 23,
          "metadata": {},
          "output_type": "execute_result"
        }
      ],
      "source": [
        "# Sort movies by title in descending order\n",
        "sorted_by_title_desc = movies_df.sort_values(by='title', ascending=False)\n",
        "sorted_by_title_desc.head()"
      ]
    },
    {
      "cell_type": "markdown",
      "id": "ac8875ec",
      "metadata": {},
      "source": [
        "**Important Note:** Most Pandas operations, like `sort_values()`, return a *new* DataFrame by default. The original DataFrame `movies_df` is unchanged.\n",
        "If you want to modify the original DataFrame, you can either reassign it:\n",
        "`movies_df = movies_df.sort_values(by='title')`\n",
        "or use the `inplace=True` argument (use with caution):\n",
        "`movies_df.sort_values(by='title', inplace=True)`"
      ]
    },
    {
      "cell_type": "code",
      "execution_count": 24,
      "id": "e7d8c40c",
      "metadata": {},
      "outputs": [
        {
          "name": "stdout",
          "output_type": "stream",
          "text": [
            "Original DataFrame head after sorting (no inplace=True):\n"
          ]
        },
        {
          "data": {
            "text/html": [
              "<div>\n",
              "<style scoped>\n",
              "    .dataframe tbody tr th:only-of-type {\n",
              "        vertical-align: middle;\n",
              "    }\n",
              "\n",
              "    .dataframe tbody tr th {\n",
              "        vertical-align: top;\n",
              "    }\n",
              "\n",
              "    .dataframe thead th {\n",
              "        text-align: right;\n",
              "    }\n",
              "</style>\n",
              "<table border=\"1\" class=\"dataframe\">\n",
              "  <thead>\n",
              "    <tr style=\"text-align: right;\">\n",
              "      <th></th>\n",
              "      <th>movieId</th>\n",
              "      <th>title</th>\n",
              "      <th>genres</th>\n",
              "    </tr>\n",
              "  </thead>\n",
              "  <tbody>\n",
              "    <tr>\n",
              "      <th>0</th>\n",
              "      <td>1</td>\n",
              "      <td>Toy Story (1995)</td>\n",
              "      <td>Adventure|Animation|Children|Comedy|Fantasy</td>\n",
              "    </tr>\n",
              "    <tr>\n",
              "      <th>1</th>\n",
              "      <td>2</td>\n",
              "      <td>Jumanji (1995)</td>\n",
              "      <td>Adventure|Children|Fantasy</td>\n",
              "    </tr>\n",
              "    <tr>\n",
              "      <th>2</th>\n",
              "      <td>3</td>\n",
              "      <td>Grumpier Old Men (1995)</td>\n",
              "      <td>Comedy|Romance</td>\n",
              "    </tr>\n",
              "    <tr>\n",
              "      <th>3</th>\n",
              "      <td>4</td>\n",
              "      <td>Waiting to Exhale (1995)</td>\n",
              "      <td>Comedy|Drama|Romance</td>\n",
              "    </tr>\n",
              "    <tr>\n",
              "      <th>4</th>\n",
              "      <td>5</td>\n",
              "      <td>Father of the Bride Part II (1995)</td>\n",
              "      <td>Comedy</td>\n",
              "    </tr>\n",
              "  </tbody>\n",
              "</table>\n",
              "</div>"
            ],
            "text/plain": [
              "   movieId                               title  \\\n",
              "0        1                    Toy Story (1995)   \n",
              "1        2                      Jumanji (1995)   \n",
              "2        3             Grumpier Old Men (1995)   \n",
              "3        4            Waiting to Exhale (1995)   \n",
              "4        5  Father of the Bride Part II (1995)   \n",
              "\n",
              "                                        genres  \n",
              "0  Adventure|Animation|Children|Comedy|Fantasy  \n",
              "1                   Adventure|Children|Fantasy  \n",
              "2                               Comedy|Romance  \n",
              "3                         Comedy|Drama|Romance  \n",
              "4                                       Comedy  "
            ]
          },
          "execution_count": 24,
          "metadata": {},
          "output_type": "execute_result"
        }
      ],
      "source": [
        "print(\"Original DataFrame head after sorting (no inplace=True):\")\n",
        "movies_df.head() # Will show original order"
      ]
    },
    {
      "cell_type": "markdown",
      "id": "bc07b629",
      "metadata": {},
      "source": [
        "## Basic Descriptive Statistics\n",
        "\n",
        "The `describe()` method provides descriptive statistics for numerical columns."
      ]
    },
    {
      "cell_type": "code",
      "execution_count": 25,
      "id": "8168a3ad",
      "metadata": {},
      "outputs": [
        {
          "data": {
            "text/html": [
              "<div>\n",
              "<style scoped>\n",
              "    .dataframe tbody tr th:only-of-type {\n",
              "        vertical-align: middle;\n",
              "    }\n",
              "\n",
              "    .dataframe tbody tr th {\n",
              "        vertical-align: top;\n",
              "    }\n",
              "\n",
              "    .dataframe thead th {\n",
              "        text-align: right;\n",
              "    }\n",
              "</style>\n",
              "<table border=\"1\" class=\"dataframe\">\n",
              "  <thead>\n",
              "    <tr style=\"text-align: right;\">\n",
              "      <th></th>\n",
              "      <th>movieId</th>\n",
              "    </tr>\n",
              "  </thead>\n",
              "  <tbody>\n",
              "    <tr>\n",
              "      <th>count</th>\n",
              "      <td>9742.000000</td>\n",
              "    </tr>\n",
              "    <tr>\n",
              "      <th>mean</th>\n",
              "      <td>42200.353623</td>\n",
              "    </tr>\n",
              "    <tr>\n",
              "      <th>std</th>\n",
              "      <td>52160.494854</td>\n",
              "    </tr>\n",
              "    <tr>\n",
              "      <th>min</th>\n",
              "      <td>1.000000</td>\n",
              "    </tr>\n",
              "    <tr>\n",
              "      <th>25%</th>\n",
              "      <td>3248.250000</td>\n",
              "    </tr>\n",
              "    <tr>\n",
              "      <th>50%</th>\n",
              "      <td>7300.000000</td>\n",
              "    </tr>\n",
              "    <tr>\n",
              "      <th>75%</th>\n",
              "      <td>76232.000000</td>\n",
              "    </tr>\n",
              "    <tr>\n",
              "      <th>max</th>\n",
              "      <td>193609.000000</td>\n",
              "    </tr>\n",
              "  </tbody>\n",
              "</table>\n",
              "</div>"
            ],
            "text/plain": [
              "             movieId\n",
              "count    9742.000000\n",
              "mean    42200.353623\n",
              "std     52160.494854\n",
              "min         1.000000\n",
              "25%      3248.250000\n",
              "50%      7300.000000\n",
              "75%     76232.000000\n",
              "max    193609.000000"
            ]
          },
          "execution_count": 25,
          "metadata": {},
          "output_type": "execute_result"
        }
      ],
      "source": [
        "# For our movies_df, only 'movieId' is purely numeric by default from source\n",
        "movies_df.describe()"
      ]
    },
    {
      "cell_type": "markdown",
      "id": "8a36855f",
      "metadata": {},
      "source": [
        "For non-numerical columns, you can use `describe(include='object')` or `describe(include='all')`."
      ]
    },
    {
      "cell_type": "code",
      "execution_count": 26,
      "id": "0a65eb17",
      "metadata": {},
      "outputs": [
        {
          "data": {
            "text/html": [
              "<div>\n",
              "<style scoped>\n",
              "    .dataframe tbody tr th:only-of-type {\n",
              "        vertical-align: middle;\n",
              "    }\n",
              "\n",
              "    .dataframe tbody tr th {\n",
              "        vertical-align: top;\n",
              "    }\n",
              "\n",
              "    .dataframe thead th {\n",
              "        text-align: right;\n",
              "    }\n",
              "</style>\n",
              "<table border=\"1\" class=\"dataframe\">\n",
              "  <thead>\n",
              "    <tr style=\"text-align: right;\">\n",
              "      <th></th>\n",
              "      <th>title</th>\n",
              "      <th>genres</th>\n",
              "    </tr>\n",
              "  </thead>\n",
              "  <tbody>\n",
              "    <tr>\n",
              "      <th>count</th>\n",
              "      <td>9742</td>\n",
              "      <td>9742</td>\n",
              "    </tr>\n",
              "    <tr>\n",
              "      <th>unique</th>\n",
              "      <td>9737</td>\n",
              "      <td>951</td>\n",
              "    </tr>\n",
              "    <tr>\n",
              "      <th>top</th>\n",
              "      <td>Emma (1996)</td>\n",
              "      <td>Drama</td>\n",
              "    </tr>\n",
              "    <tr>\n",
              "      <th>freq</th>\n",
              "      <td>2</td>\n",
              "      <td>1053</td>\n",
              "    </tr>\n",
              "  </tbody>\n",
              "</table>\n",
              "</div>"
            ],
            "text/plain": [
              "              title genres\n",
              "count          9742   9742\n",
              "unique         9737    951\n",
              "top     Emma (1996)  Drama\n",
              "freq              2   1053"
            ]
          },
          "execution_count": 26,
          "metadata": {},
          "output_type": "execute_result"
        }
      ],
      "source": [
        "movies_df.describe(include='object')"
      ]
    },
    {
      "cell_type": "markdown",
      "id": "faf05989",
      "metadata": {},
      "source": [
        "### Unique Values and Value Counts\n",
        "Often, you want to know the unique values in a column or how many times each value appears.\n",
        "\n",
        "`nunique()`: Counts the number of unique values."
      ]
    },
    {
      "cell_type": "code",
      "execution_count": 27,
      "id": "0ab16999",
      "metadata": {},
      "outputs": [
        {
          "name": "stdout",
          "output_type": "stream",
          "text": [
            "Number of unique genres combinations: 951\n"
          ]
        }
      ],
      "source": [
        "print(\"Number of unique genres combinations:\", movies_df['genres'].nunique())"
      ]
    },
    {
      "cell_type": "markdown",
      "id": "c222a0e0",
      "metadata": {},
      "source": [
        "`value_counts()`: Returns a Series containing counts of unique values."
      ]
    },
    {
      "cell_type": "code",
      "execution_count": 32,
      "id": "48be1d52",
      "metadata": {},
      "outputs": [
        {
          "name": "stdout",
          "output_type": "stream",
          "text": [
            "Top 10 most common genre combinations:\n"
          ]
        },
        {
          "data": {
            "text/plain": [
              "genres\n",
              "Drama                   1053\n",
              "Comedy                   946\n",
              "Comedy|Drama             435\n",
              "Comedy|Romance           363\n",
              "Drama|Romance            349\n",
              "Documentary              339\n",
              "Comedy|Drama|Romance     276\n",
              "Drama|Thriller           168\n",
              "Horror                   167\n",
              "Horror|Thriller          135\n",
              "Name: count, dtype: int64"
            ]
          },
          "execution_count": 32,
          "metadata": {},
          "output_type": "execute_result"
        }
      ],
      "source": [
        "print(\"Top 10 most common genre combinations:\")\n",
        "movies_df['genres'].value_counts().head(10)"
      ]
    },
    {
      "cell_type": "markdown",
      "id": "d084dfe6",
      "metadata": {},
      "source": [
        "## Next Steps\n",
        "\n",
        "In the next session, we'll explore:\n",
        "*   Handling missing data (briefly).\n",
        "*   Adding and modifying columns.\n",
        "*   Grouping data with `groupby()`.\n",
        "*   Merging DataFrames (e.g., combining movies with their ratings).\n",
        "*   More advanced string operations and applying functions.\n",
        "*   And how these concepts can lead to building simple recommendation logic."
      ]
    }
  ],
  "metadata": {
    "kernelspec": {
      "display_name": "McGill",
      "language": "python",
      "name": "python3"
    },
    "language_info": {
      "codemirror_mode": {
        "name": "ipython",
        "version": 3
      },
      "file_extension": ".py",
      "mimetype": "text/x-python",
      "name": "python",
      "nbconvert_exporter": "python",
      "pygments_lexer": "ipython3",
      "version": "3.12.4"
    }
  },
  "nbformat": 4,
  "nbformat_minor": 5
}
