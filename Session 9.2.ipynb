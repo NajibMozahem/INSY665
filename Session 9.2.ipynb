{
  "cells": [
    {
      "cell_type": "markdown",
      "metadata": {},
      "source": [
        "# Introduction to Pandas & Recommendation Systems"
      ]
    },
    {
      "cell_type": "markdown",
      "metadata": {},
      "source": [
        "## Pandas: Data Handling and Manipulation\n",
        "\n",
        "**Pandas** is a powerful open-source Python library specifically designed for data handling, manipulation, and analysis.\n",
        "\n",
        "Before using Pandas, you need to import it into your code. The common convention is to import it with the alias `pd`."
      ]
    },
    {
      "cell_type": "code",
      "execution_count": null,
      "metadata": {},
      "outputs": [],
      "source": [
        "import pandas as pd"
      ]
    },
    {
      "cell_type": "markdown",
      "metadata": {},
      "source": [
        "## Core Pandas Data Structures\n",
        "\n",
        "Pandas introduces two primary data structures:\n",
        "\n",
        "1.  **Series:** A one-dimensional labeled array capable of holding data of any type (integers, strings, floats, Python objects, etc.). Think of it as a single column in a spreadsheet or a labeled list.\n",
        "2.  **DataFrame:** A two-dimensional, size-mutable, and potentially heterogeneous tabular data structure with labeled rows and columns. Think of it as a spreadsheet, an SQL table, or a dictionary of Series objects."
      ]
    },
    {
      "cell_type": "markdown",
      "metadata": {},
      "source": [
        "## Pandas Series\n",
        "\n",
        "Let's create a Series to store average movie ratings.\n",
        "\n",
        "The `pd.Series()` function is used to create a Pandas Series."
      ]
    },
    {
      "cell_type": "markdown",
      "metadata": {},
      "source": [
        "### Creating a Series from a List (Default Index)\n",
        "\n",
        "If you don't specify an index, Pandas creates a default integer index starting from 0."
      ]
    },
    {
      "cell_type": "code",
      "execution_count": null,
      "metadata": {},
      "outputs": [],
      "source": [
        "avgRating_list = [7.4, 8.0, 6.1, 8.8]\n",
        "\n",
        "avgRating_series_default_index = pd.Series(avgRating_list)\n",
        "\n",
        "print(avgRating_series_default_index)"
      ]
    },
    {
      "cell_type": "markdown",
      "metadata": {},
      "source": [
        "### Creating a Series with a Custom Index\n",
        "\n",
        "Unlike Python lists which always use zero-based integer indices, Pandas Series can have explicitly defined labels for their index. This makes data more meaningful and easier to access.\n",
        "\n",
        "Let's use `movieId`s as the index for our movie ratings Series."
      ]
    },
    {
      "cell_type": "code",
      "execution_count": null,
      "metadata": {},
      "outputs": [],
      "source": [
        "avgRating_list = [7.4, 8.0, 6.1, 8.8]\n",
        "movieIds = ['A', 'B', 'C', 'D']\n",
        "\n",
        "avgRating_series_custom_index = pd.Series(avgRating_list, index=movieIds)\n",
        "\n",
        "print(avgRating_series_custom_index)"
      ]
    },
    {
      "cell_type": "markdown",
      "metadata": {},
      "source": [
        "### Accessing Elements in a Series\n",
        "\n",
        "You can access elements in a Series using:\n",
        "*   Its **custom label index** (if defined).\n",
        "*   Its **integer position** (like a list, starting from 0), even if it has a custom label index."
      ]
    },
    {
      "cell_type": "code",
      "execution_count": null,
      "metadata": {},
      "outputs": [],
      "source": [
        "# Access using the custom index label 'A'\n",
        "rating_A = avgRating_series_custom_index['A']\n",
        "print(f\"Rating for movie 'A': {rating_A}\")\n",
        "\n",
        "# Access using the integer position 0\n",
        "rating_pos_0 = avgRating_series_custom_index[0]\n",
        "print(f\"Rating at position 0: {rating_pos_0}\")"
      ]
    },
    {
      "cell_type": "markdown",
      "metadata": {},
      "source": [
        "### Quiz: Series Access\n",
        "\n",
        "What will be the output of the following code?\n",
        "```python\n",
        "import pandas as pd\n",
        "list_b = [5, 6, 7, 8]\n",
        "index_b = ['a', 'b', 'c', 'd']\n",
        "series_b = pd.Series(list_b, index=index_b)\n",
        "print(series_b[0])\n",
        "```"
      ]
    },
    {
      "cell_type": "code",
      "execution_count": null,
      "metadata": {},
      "outputs": [],
      "source": [
        "list_b_quiz = [5, 6, 7, 8]\n",
        "index_b_quiz = ['a', 'b', 'c', 'd']\n",
        "series_b_quiz = pd.Series(list_b_quiz, index=index_b_quiz)\n",
        "print(series_b_quiz[0])\n",
        "print(\"Explanation: Even with a custom label index, Pandas Series also support integer-based positional indexing.\")"
      ]
    },
    {
      "cell_type": "markdown",
      "metadata": {},
      "source": [
        "## Pandas DataFrame\n",
        "\n",
        "A DataFrame is a 2D labeled data structure with columns of potentially different types. It's like a table or a spreadsheet.\n",
        "\n",
        "You can create a DataFrame from various inputs, such as:\n",
        "*   A Python dictionary of lists (or Series).\n",
        "*   A list of dictionaries.\n",
        "*   A NumPy ndarray.\n",
        "*   Another DataFrame.\n",
        "\n",
        "Let's create a DataFrame for movie information (movieId, year, genres)."
      ]
    },
    {
      "cell_type": "code",
      "execution_count": null,
      "metadata": {},
      "outputs": [],
      "source": [
        "movies_dict = {\n",
        "    'movieId': ['A', 'B', 'C', 'D'],\n",
        "    'year': [2023, 2013, 2023, 2010],\n",
        "    'genres': ['Adventure|Comedy', 'Romance|Sci-Fi', 'Adventure', 'Adventure|Sci-Fi']\n",
        "}\n",
        "\n",
        "movies_df = pd.DataFrame(movies_dict)\n",
        "\n",
        "print(movies_df)"
      ]
    },
    {
      "cell_type": "markdown",
      "metadata": {},
      "source": [
        "### Practice: Create a Ratings DataFrame\n",
        "\n",
        "**Task:** Create a DataFrame named `ratings_df` with columns 'avgRating' and 'numRatings'. Use a list of movie IDs (`['A', 'B', 'C', 'D']`) as the **index** of the DataFrame.\n",
        "\n",
        "**Data:**\n",
        "*   avgRating: `[7.4, 8.0, 6.1, 8.8]`\n",
        "*   numRatings: `[224000, 664000, 70000, 25000000]`\n",
        "*   movieIds (for index): `['A', 'B', 'C', 'D']`"
      ]
    },
    {
      "cell_type": "code",
      "execution_count": null,
      "metadata": {},
      "outputs": [],
      "source": [
        "avgRating_data = [7.4, 8.0, 6.1, 8.8]\n",
        "numRatings_data = [224000, 664000, 70000, 25000000]\n",
        "movieIds_index = ['A', 'B', 'C', 'D']\n",
        "\n",
        "ratings_data_dict = {\n",
        "    'avgRating': avgRating_data,\n",
        "    'numRatings': numRatings_data\n",
        "}\n",
        "\n",
        "ratings_df = pd.DataFrame(ratings_data_dict, index=movieIds_index)\n",
        "\n",
        "print(ratings_df)"
      ]
    },
    {
      "cell_type": "markdown",
      "metadata": {},
      "source": [
        "### Adding a Column from the Index & Resetting Index\n",
        "\n",
        "Often, the index contains useful data that you might want as a regular column.\n",
        "\n",
        "**Task:** \n",
        "1.  For the `ratings_df` created above (which has 'A', 'B', 'C', 'D' as its index), create a new column named 'movieId' and populate it with the values from the DataFrame's current index.\n",
        "2.  Then, reset the index of `ratings_df` to be the default numerical index (0, 1, 2, ...). The `reset_index()` method is useful here.\n",
        "\n",
        "**Quiz Hint (from slides):** `ratings_df['movieId'] = ratings_df.index`"
      ]
    },
    {
      "cell_type": "code",
      "execution_count": null,
      "metadata": {},
      "outputs": [],
      "source": [
        "print(\"Original ratings_df with custom index:\")\n",
        "print(ratings_df)\n",
        "\n",
        "# 1. Add 'movieId' column from the index\n",
        "ratings_df['movieId'] = ratings_df.index\n",
        "\n",
        "print(\"\n",
        "ratings_df after adding 'movieId' column:\")\n",
        "print(ratings_df)\n",
        "\n",
        "# 2. Reset the index. `drop=True` prevents the old index from being added as a new column.\n",
        "# If you wanted the old index as a column, you'd omit drop=True or use reset_index(inplace=False) and reassign.\n",
        "ratings_df.reset_index(drop=True, inplace=True) \n",
        "\n",
        "print(\"\n",
        "ratings_df after resetting index:\")\n",
        "print(ratings_df)"
      ]
    },
    {
      "cell_type": "markdown",
      "metadata": {},
      "source": [
        "## Combining DataFrames: Join/Merge\n",
        "\n",
        "Pandas provides powerful ways to combine DataFrames, similar to SQL joins. The `pd.merge()` function is commonly used.\n",
        "\n",
        "**Task:** Combine `movies_df` and `ratings_df` (assuming `ratings_df` now has a 'movieId' column and a numerical index, and `movies_df` also has a 'movieId' column).\n",
        "\n",
        "You need to decide:\n",
        "*   **On which column(s) to join:** Common column(s) that link the two DataFrames (e.g., 'movieId').\n",
        "*   **How to join:** The type of join (inner, outer, left, right).\n",
        "\n",
        "**Quiz Question (from slides):** How would you combine them considering the common column `movieId` and an appropriate join type?"
      ]
    },
    {
      "cell_type": "code",
      "execution_count": null,
      "metadata": {},
      "outputs": [],
      "source": [
        "# Recreate movies_df (already has movieId)\n",
        "movies_dict_re = {\n",
        "    'movieId': ['A', 'B', 'C', 'D'],\n",
        "    'year': [2023, 2013, 2023, 2010],\n",
        "    'genres': ['Adventure|Comedy', 'Romance|Sci-Fi', 'Adventure', 'Adventure|Sci-Fi']\n",
        "}\n",
        "movies_df_re = pd.DataFrame(movies_dict_re)\n",
        "\n",
        "# ratings_df from previous step now has 'movieId' and numeric index\n",
        "# For clarity, let's ensure ratings_df is as expected for merging:\n",
        "ratings_data_for_merge = {\n",
        "    'movieId': ['A', 'B', 'C', 'D', 'E'], # 'E' won't match in movies_df_re for inner/left join on movies_df_re\n",
        "    'avgRating': [7.4, 8.0, 6.1, 8.8, 7.0],\n",
        "    'numRatings': [224000, 664000, 70000, 25000000, 100000]\n",
        "}\n",
        "ratings_df_for_merge_ready = pd.DataFrame(ratings_data_for_merge)\n",
        "\n",
        "print(\"movies_df_re:\")\n",
        "print(movies_df_re)\n",
        "print(\"ratings_df_for_merge_ready:\")\n",
        "print(ratings_df_for_merge_ready)\n",
        "\n",
        "# Combine using pd.merge(). An 'inner' join is common if you only want matching movieIds.\n",
        "# 'on' specifies the column(s) to join on.\n",
        "merged_df = pd.merge(movies_df_re, ratings_df_for_merge_ready, on='movieId', how='inner')\n",
        "# Other options for 'how': 'left', 'right', 'outer'\n",
        "\n",
        "print(\"Merged DataFrame (inner join on 'movieId'):\")\n",
        "print(merged_df)"
      ]
    },
    {
      "cell_type": "markdown",
      "metadata": {},
      "source": [
        "## Introduction to Recommendation Systems\n",
        "\n",
        "A **recommendation system** is an algorithm designed to provide users with personalized suggestions, recommendations, or predictions for items (e.g., movies, products, articles).\n",
        "\n",
        "**Primary Goal:** Assist users in discovering items they are likely to be interested in, based on:\n",
        "*   Their preferences.\n",
        "*   Their past behaviors.\n",
        "*   Historical data of other users.\n",
        "*   Item characteristics.\n",
        "\n",
        "Examples: Netflix movie recommendations, Amazon product suggestions, Spotify music playlists, Zillow property suggestions."
      ]
    },
    {
      "cell_type": "markdown",
      "metadata": {},
      "source": [
        "## Building a Simple Movie Recommendation System (Conceptual)\n",
        "\n",
        "Let's use our combined movie data (`merged_df` from the previous step) to think about how we could build a very basic recommendation system.\n",
        "\n",
        "We can ask the user questions about their preferences and filter the DataFrame accordingly."
      ]
    },
    {
      "cell_type": "markdown",
      "metadata": {},
      "source": [
        "### Questions to Guide Recommendations:\n",
        "\n",
        "**Year-related:**\n",
        "*   Do you prefer newer movies (e.g., released after a certain year)?\n",
        "\n",
        "**Rating and Popularity:**\n",
        "*   Are you more inclined towards movies with higher average ratings, or are you open to exploring movies with slightly lower ratings but potentially exciting plots?\n",
        "*   Do you prefer highly popular movies (many ratings) or hidden gems (fewer ratings but potentially good)?\n",
        "\n",
        "**Genre-specific:**\n",
        "*   What specific genre(s) are you interested in (e.g., Adventure, Comedy, Romance, Sci-Fi)?"
      ]
    },
    {
      "cell_type": "markdown",
      "metadata": {},
      "source": [
        "### [Practice] Movie Recommendation Filtering\n",
        "\n",
        "Using the `merged_df` (or recreate a similar one if needed), implement filtering based on user preferences.\n",
        "\n",
        "**Tasks (perform these sequentially or allow user to choose):**\n",
        "\n",
        "1.  **Filter by Year:** Ask the user if they prefer movies after a certain year (e.g., 2020). If yes, filter the DataFrame. \n",
        "2.  **Filter by Average Rating:** Ask the user for a minimum average rating. Filter based on this.\n",
        "3.  **Filter by Popularity (Number of Ratings):** Ask if they prefer popular movies (e.g., more than 500,000 ratings) or less popular ones. Filter accordingly.\n",
        "4.  **Filter by Genre:** Ask the user for a genre. Filter movies that contain this genre in their 'genres' string. "
      ]
    },
    {
      "cell_type": "code",
      "execution_count": null,
      "metadata": {},
      "outputs": [],
      "source": [
        "# Recreate a sample merged_df for this exercise\n",
        "data_rec = {\n",
        "    'movieId': ['A', 'B', 'C', 'D', 'E', 'F'],\n",
        "    'year': [2023, 2013, 2023, 2010, 2021, 2019],\n",
        "    'genres': ['Adventure|Comedy', 'Romance|Sci-Fi', 'Adventure', 'Adventure|Sci-Fi', 'Comedy|Drama', 'Action|Adventure'],\n",
        "    'avgRating': [7.4, 8.0, 6.1, 8.8, 7.9, 8.5],\n",
        "    'numRatings': [224000, 664000, 70000, 25000000, 450000, 1200000]\n",
        "}\n",
        "merged_df_rec = pd.DataFrame(data_rec)\n",
        "print(\"Original DataFrame for Recommendation:\")\n",
        "print(merged_df_rec)\n",
        "\n",
        "filtered_recommendations = merged_df_rec.copy() # Start with a copy to filter\n",
        "\n",
        "# 1. Filter by Year\n",
        "year_pref_input = input(\"Do you prefer movies after a certain year? (yes/no): \").lower().strip()\n",
        "if year_pref_input == 'yes':\n",
        "    try:\n",
        "        year_cutoff = int(input(\"Enter the year (e.g., 2020): \"))\n",
        "        filtered_recommendations = filtered_recommendations[filtered_recommendations['year'] > year_cutoff]\n",
        "    except ValueError:\n",
        "        print(\"Invalid year entered.\")\n",
        "\n",
        "# 2. Filter by Average Rating\n",
        "rating_pref_input = input(\"Do you have a minimum average rating preference? (yes/no): \").lower().strip()\n",
        "if rating_pref_input == 'yes':\n",
        "    try:\n",
        "        min_rating = float(input(\"Enter minimum average rating (e.g., 7.5): \"))\n",
        "        filtered_recommendations = filtered_recommendations[filtered_recommendations['avgRating'] >= min_rating]\n",
        "    except ValueError:\n",
        "        print(\"Invalid rating entered.\")\n",
        "\n",
        "# 3. Filter by Popularity (Number of Ratings)\n",
        "try:\n",
        "    min_num_ratings = int(input(\"Minimum number of ratings? (e.g., 500000, or 0 for no preference): \"))\n",
        "    if min_num_ratings > 0:\n",
        "        filtered_recommendations = filtered_recommendations[filtered_recommendations['numRatings'] >= min_num_ratings]\n",
        "except ValueError:\n",
        "    print(\"Invalid number for ratings count.\")\n",
        "\n",
        "# 4. Filter by Genre\n",
        "genre_input = input(\"Enter a genre you are interested in (e.g., Adventure - leave blank for no preference): \").strip()\n",
        "if genre_input: # If user entered something\n",
        "    # 'case=False' makes the search case-insensitive\n",
        "    # 'na=False' handles potential NaN values in genres column gracefully if they existed\n",
        "    filtered_recommendations = filtered_recommendations[filtered_recommendations['genres'].str.contains(genre_input, case=False, na=False)]\n",
        "\n",
        "print(\"Filtered Movie Recommendations:\")\n",
        "if not filtered_recommendations.empty:\n",
        "    print(filtered_recommendations)\n",
        "else:\n",
        "    print(\"No movies match your criteria.\")"
      ]
    }
  ],
  "metadata": {
    "kernelspec": {
      "display_name": "Python 3 (ipykernel)",
      "language": "python",
      "name": "python3"
    },
    "language_info": {
      "codemirror_mode": {
        "name": "ipython",
        "version": 3
      },
      "file_extension": ".py",
      "mimetype": "text/x-python",
      "name": "python",
      "nbconvert_exporter": "python",
      "pygments_lexer": "ipython3",
      "version": "3.11.7"
    }
  },
  "nbformat": 4,
  "nbformat_minor": 2
}
