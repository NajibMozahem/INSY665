{
 "cells": [
  {
   "cell_type": "markdown",
   "metadata": {},
   "source": [
    "# Data Structure (2): Python Dictionaries"
   ]
  },
  {
   "cell_type": "markdown",
   "metadata": {},
   "source": [
    "## What is a Dictionary?\n",
    "\n",
    "A **dictionary** (`dict`) is a built-in Python data structure that stores collections of data as **key-value pairs**.\n",
    "\n",
    "Think of it like a real-world dictionary where you look up a word (the key) to find its definition (the value).\n",
    "\n",
    "*   **Key:** A unique identifier used to look up data (e.g., StudentID, 'google', 'name'). Keys must be unique and immutable (strings, numbers, tuples are common keys).\n",
    "*   **Value:** The actual data associated with a specific key (e.g., 'Ian', False, 30). Values can be of any data type and can be duplicated."
   ]
  },
  {
   "cell_type": "markdown",
   "metadata": {},
   "source": [
    "## Creating Dictionaries\n",
    "\n",
    "*   Dictionaries are defined using **curly brackets `{}`**.\n",
    "*   They consist of **key-value pairs**.\n",
    "*   Each key is separated from its value by a **colon `:`**.\n",
    "*   Key-value pairs are separated from each other by **commas `,`**.\n",
    "*   Dictionaries are **unordered** (prior to Python 3.7) or **insertion ordered** (Python 3.7+), meaning you access elements by key, not by position index like lists."
   ]
  },
  {
   "cell_type": "markdown",
   "metadata": {},
   "source": [
    "**Syntax:**\n",
    "```python\n",
    "my_dict = {key1: value1, key2: value2, key3: value3}\n",
    "```"
   ]
  },
  {
   "cell_type": "markdown",
   "metadata": {},
   "source": [
    "### Dictionary Characteristics\n",
    "\n",
    "*   **Keys must be unique.** If you try to add a key that already exists, the old value will be overwritten.\n",
    "*   **Values can be of any data type** (strings, numbers, lists, even other dictionaries)."
   ]
  },
  {
   "cell_type": "markdown",
   "metadata": {},
   "source": [
    "### Example: Creating a Dictionary"
   ]
  },
  {
   "cell_type": "code",
   "execution_count": 1,
   "metadata": {},
   "outputs": [
    {
     "name": "stdout",
     "output_type": "stream",
     "text": [
      "{'google': False, 'youtube': True}\n",
      "<class 'dict'>\n"
     ]
    }
   ],
   "source": [
    "webpage_dict = {'google': False, 'youtube': True}\n",
    "print(webpage_dict)\n",
    "print(type(webpage_dict))"
   ]
  },
  {
   "cell_type": "markdown",
   "metadata": {},
   "source": [
    "## Adding Key-Value Pairs\n",
    "\n",
    "You can add new key-value pairs to an existing dictionary (or create one starting from an empty dictionary `{}`) using the assignment operator with the new key in square brackets."
   ]
  },
  {
   "cell_type": "code",
   "execution_count": 2,
   "metadata": {},
   "outputs": [
    {
     "name": "stdout",
     "output_type": "stream",
     "text": [
      "Empty dictionary: {}\n",
      "Dictionary after adding pairs: {'google': False, 'youtube': True}\n"
     ]
    }
   ],
   "source": [
    "webpage_dict = {}\n",
    "print(f\"Empty dictionary: {webpage_dict}\")\n",
    "\n",
    "webpage_dict['google'] = False\n",
    "webpage_dict['youtube'] = True\n",
    "print(f\"Dictionary after adding pairs: {webpage_dict}\")"
   ]
  },
  {
   "cell_type": "markdown",
   "metadata": {},
   "source": [
    "## Accessing Values\n",
    "\n",
    "To get the value associated with a specific key, use the key inside square brackets `[]`."
   ]
  },
  {
   "cell_type": "code",
   "execution_count": 6,
   "metadata": {},
   "outputs": [
    {
     "name": "stdout",
     "output_type": "stream",
     "text": [
      "Google status: False\n",
      "Youtube status: True\n"
     ]
    }
   ],
   "source": [
    "webpage_dict = {'google': False, 'youtube': True}\n",
    "\n",
    "google_status = webpage_dict['google']\n",
    "youtube_status = webpage_dict['youtube']\n",
    "\n",
    "print(f\"Google status: {google_status}\")\n",
    "print(f\"Youtube status: {youtube_status}\")"
   ]
  },
  {
   "cell_type": "code",
   "execution_count": 7,
   "metadata": {},
   "outputs": [
    {
     "ename": "KeyError",
     "evalue": "'facebook'",
     "output_type": "error",
     "traceback": [
      "\u001b[0;31m---------------------------------------------------------------------------\u001b[0m",
      "\u001b[0;31mKeyError\u001b[0m                                  Traceback (most recent call last)",
      "Cell \u001b[0;32mIn[7], line 3\u001b[0m\n\u001b[1;32m      1\u001b[0m \u001b[38;5;66;03m# Accessing a non-existent key causes a KeyError\u001b[39;00m\n\u001b[1;32m      2\u001b[0m webpage_dict \u001b[38;5;241m=\u001b[39m {\u001b[38;5;124m'\u001b[39m\u001b[38;5;124mgoogle\u001b[39m\u001b[38;5;124m'\u001b[39m: \u001b[38;5;28;01mFalse\u001b[39;00m, \u001b[38;5;124m'\u001b[39m\u001b[38;5;124myoutube\u001b[39m\u001b[38;5;124m'\u001b[39m: \u001b[38;5;28;01mTrue\u001b[39;00m}\n\u001b[0;32m----> 3\u001b[0m status \u001b[38;5;241m=\u001b[39m \u001b[43mwebpage_dict\u001b[49m\u001b[43m[\u001b[49m\u001b[38;5;124;43m'\u001b[39;49m\u001b[38;5;124;43mfacebook\u001b[39;49m\u001b[38;5;124;43m'\u001b[39;49m\u001b[43m]\u001b[49m\n",
      "\u001b[0;31mKeyError\u001b[0m: 'facebook'"
     ]
    }
   ],
   "source": [
    "# Accessing a non-existent key causes a KeyError\n",
    "webpage_dict = {'google': False, 'youtube': True}\n",
    "status = webpage_dict['facebook']"
   ]
  },
  {
   "cell_type": "markdown",
   "metadata": {},
   "source": [
    "## Modifying a Dictionary\n",
    "\n",
    "Dictionaries are **mutable**. You can change the value associated with an existing key or add new key-value pairs.\n",
    "\n",
    "*   **Modify Existing Value:** Assign a new value to an existing key.\n",
    "*   **Add New Pair:** Assign a value to a new key."
   ]
  },
  {
   "cell_type": "code",
   "execution_count": 4,
   "metadata": {},
   "outputs": [
    {
     "name": "stdout",
     "output_type": "stream",
     "text": [
      "Original: {'google': False, 'youtube': True}\n",
      "After modifying 'youtube': {'google': False, 'youtube': False}\n",
      "After adding 'instagram': {'google': False, 'youtube': False, 'instagram': True}\n"
     ]
    }
   ],
   "source": [
    "webpage_dict = {'google': False, 'youtube': True}\n",
    "print(f\"Original: {webpage_dict}\")\n",
    "\n",
    "# Modify existing value for 'youtube'\n",
    "webpage_dict['youtube'] = False \n",
    "print(f\"After modifying 'youtube': {webpage_dict}\")\n",
    "\n",
    "# Add a new key-value pair for 'instagram'\n",
    "webpage_dict['instagram'] = True\n",
    "print(f\"After adding 'instagram': {webpage_dict}\")"
   ]
  },
  {
   "cell_type": "markdown",
   "metadata": {},
   "source": [
    "## Deleting a Key-Value Pair\n",
    "\n",
    "Use the `del` keyword followed by the dictionary name and the key in square brackets to remove a specific key-value pair."
   ]
  },
  {
   "cell_type": "code",
   "execution_count": 8,
   "metadata": {},
   "outputs": [
    {
     "name": "stdout",
     "output_type": "stream",
     "text": [
      "Original: {'google': False, 'youtube': False, 'instagram': True}\n",
      "After deleting 'google': {'youtube': False, 'instagram': True}\n"
     ]
    }
   ],
   "source": [
    "webpage_dict = {'google': False, 'youtube': False, 'instagram': True}\n",
    "print(f\"Original: {webpage_dict}\")\n",
    "\n",
    "# Delete the 'google' key-value pair\n",
    "del webpage_dict['google']\n",
    "print(f\"After deleting 'google': {webpage_dict}\")"
   ]
  },
  {
   "cell_type": "code",
   "execution_count": 9,
   "metadata": {},
   "outputs": [
    {
     "ename": "KeyError",
     "evalue": "'facebook'",
     "output_type": "error",
     "traceback": [
      "\u001b[0;31m---------------------------------------------------------------------------\u001b[0m",
      "\u001b[0;31mKeyError\u001b[0m                                  Traceback (most recent call last)",
      "Cell \u001b[0;32mIn[9], line 3\u001b[0m\n\u001b[1;32m      1\u001b[0m \u001b[38;5;66;03m# Trying to delete a non-existent key causes a KeyError\u001b[39;00m\n\u001b[1;32m      2\u001b[0m webpage_dict \u001b[38;5;241m=\u001b[39m {\u001b[38;5;124m'\u001b[39m\u001b[38;5;124mgoogle\u001b[39m\u001b[38;5;124m'\u001b[39m: \u001b[38;5;28;01mFalse\u001b[39;00m, \u001b[38;5;124m'\u001b[39m\u001b[38;5;124myoutube\u001b[39m\u001b[38;5;124m'\u001b[39m: \u001b[38;5;28;01mFalse\u001b[39;00m, \u001b[38;5;124m'\u001b[39m\u001b[38;5;124minstagram\u001b[39m\u001b[38;5;124m'\u001b[39m: \u001b[38;5;28;01mTrue\u001b[39;00m}\n\u001b[0;32m----> 3\u001b[0m \u001b[38;5;28;01mdel\u001b[39;00m \u001b[43mwebpage_dict\u001b[49m\u001b[43m[\u001b[49m\u001b[38;5;124;43m'\u001b[39;49m\u001b[38;5;124;43mfacebook\u001b[39;49m\u001b[38;5;124;43m'\u001b[39;49m\u001b[43m]\u001b[49m\n",
      "\u001b[0;31mKeyError\u001b[0m: 'facebook'"
     ]
    }
   ],
   "source": [
    "# Trying to delete a non-existent key causes a KeyError\n",
    "webpage_dict = {'google': False, 'youtube': False, 'instagram': True}\n",
    "del webpage_dict['facebook']"
   ]
  },
  {
   "cell_type": "markdown",
   "metadata": {},
   "source": [
    "## Checking for Key Existence\n",
    "\n",
    "Before accessing or deleting a key, it's often wise to check if it exists to avoid `KeyError`.\n",
    "\n",
    "*   Use the `in` operator to check if a key exists in the dictionary.\n",
    "*   The `.keys()` method returns a *view object* containing all the keys in the dictionary. You can use `in` directly with the dictionary or with the `.keys()` view."
   ]
  },
  {
   "cell_type": "code",
   "execution_count": 10,
   "metadata": {},
   "outputs": [
    {
     "name": "stdout",
     "output_type": "stream",
     "text": [
      "Keys view: dict_keys(['google', 'youtube', 'facebook'])\n",
      "'google' in website_dict.keys(): True\n",
      "'google' in website_dict: True\n",
      "'twitter' in website_dict: False\n"
     ]
    }
   ],
   "source": [
    "website_dict = {\n",
    "    'google': False,\n",
    "    'youtube': True,\n",
    "    'facebook': False\n",
    "}\n",
    "\n",
    "# Get the keys view\n",
    "keys_view = website_dict.keys()\n",
    "print(f\"Keys view: {keys_view}\")\n",
    "\n",
    "# Check if 'google' is a key\n",
    "print(f\"'google' in website_dict.keys(): {'google' in website_dict.keys()}\")\n",
    "# Simpler way (preferred):\n",
    "print(f\"'google' in website_dict: {'google' in website_dict}\") \n",
    "\n",
    "# Check if 'twitter' is a key\n",
    "print(f\"'twitter' in website_dict: {'twitter' in website_dict}\")"
   ]
  },
  {
   "cell_type": "markdown",
   "metadata": {},
   "source": [
    "## Practice: Website Blocker Check\n",
    "\n",
    "**Task:** Given a website name, check if it's in the `website_dict` and print whether it's blocked (`True`) or not blocked (`False`). If the website isn't in the dictionary, print a message indicating that."
   ]
  },
  {
   "cell_type": "code",
   "execution_count": 11,
   "metadata": {},
   "outputs": [
    {
     "name": "stdout",
     "output_type": "stream",
     "text": [
      "Checking status for: google\n",
      "The website google is not blocked.\n",
      "---\n",
      "Checking status for: youtube\n",
      "The website youtube is blocked.\n",
      "---\n",
      "Checking status for: twitter\n",
      "The website twitter is not found in the dictionary.\n",
      "---\n"
     ]
    }
   ],
   "source": [
    "website_dict = {\n",
    "    'google': False,\n",
    "    'youtube': True,\n",
    "    'facebook': False\n",
    "}\n",
    "\n",
    "def check_website(name):\n",
    "    print(f\"Checking status for: {name}\")\n",
    "    if name in website_dict: \n",
    "        if website_dict[name]: \n",
    "            print(f\"The website {name} is blocked.\")\n",
    "        else:\n",
    "            print(f\"The website {name} is not blocked.\")\n",
    "    else:\n",
    "        print(f\"The website {name} is not found in the dictionary.\")\n",
    "    print(\"---\")\n",
    "\n",
    "# Test cases\n",
    "check_website('google')\n",
    "check_website('youtube')\n",
    "check_website('twitter')"
   ]
  },
  {
   "cell_type": "markdown",
   "metadata": {},
   "source": [
    "## Summary of Dictionaries\n",
    "\n",
    "*   **Key-Value Pairs:** Stores data in associated pairs.\n",
    "*   **Syntax:** Defined with curly braces `{}`, `key: value` pairs separated by commas.\n",
    "*   **Keys:** Must be unique and immutable.\n",
    "*   **Values:** Can be any data type, can be duplicated.\n",
    "*   **Access:** Use the key in square brackets `dict[key]` to get the value.\n",
    "*   **Mutable:** Key-value pairs can be added, modified, or deleted (`del dict[key]`).\n",
    "*   **Checking Keys:** Use the `in` operator (`key in dict`).\n",
    "*   **Order:** Unordered before Python 3.7, insertion order preserved from Python 3.7+."
   ]
  }
 ],
 "metadata": {
  "kernelspec": {
   "display_name": "McGill",
   "language": "python",
   "name": "python3"
  },
  "language_info": {
   "codemirror_mode": {
    "name": "ipython",
    "version": 3
   },
   "file_extension": ".py",
   "mimetype": "text/x-python",
   "name": "python",
   "nbconvert_exporter": "python",
   "pygments_lexer": "ipython3",
   "version": "3.12.4"
  }
 },
 "nbformat": 4,
 "nbformat_minor": 2
}
