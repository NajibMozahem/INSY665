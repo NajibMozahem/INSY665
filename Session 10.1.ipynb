{
  "cells": [
    {
      "cell_type": "markdown",
      "metadata": {},
      "source": [
        "# Pandas: Data Manipulation, Merging, and Intro to Recommendation Logic"
      ]
    },
    {
      "cell_type": "markdown",
      "metadata": {},
      "source": [
        "## Recap of Session 1\n",
        "\n",
        "In the previous session, we learned:\n",
        "*   What Pandas Series and DataFrames are.\n",
        "*   How to create DataFrames (from dictionaries, loading from CSVs).\n",
        "*   Inspecting DataFrames (`head`, `tail`, `shape`, `info`, `dtypes`, `describe`).\n",
        "*   Selecting data (`[]`, `loc`, `iloc`).\n",
        "*   Filtering data using boolean indexing.\n",
        "*   Sorting data (`sort_values`).\n",
        "*   Basic descriptive statistics (`describe`, `nunique`, `value_counts`).\n",
        "\n",
        "Let's start by re-loading our `movies_df` and importing pandas."
      ]
    },
    {
      "cell_type": "code",
      "execution_count": 1,
      "metadata": {},
      "outputs": [
        {
          "data": {
            "text/html": [
              "<div>\n",
              "<style scoped>\n",
              "    .dataframe tbody tr th:only-of-type {\n",
              "        vertical-align: middle;\n",
              "    }\n",
              "\n",
              "    .dataframe tbody tr th {\n",
              "        vertical-align: top;\n",
              "    }\n",
              "\n",
              "    .dataframe thead th {\n",
              "        text-align: right;\n",
              "    }\n",
              "</style>\n",
              "<table border=\"1\" class=\"dataframe\">\n",
              "  <thead>\n",
              "    <tr style=\"text-align: right;\">\n",
              "      <th></th>\n",
              "      <th>movieId</th>\n",
              "      <th>title</th>\n",
              "      <th>genres</th>\n",
              "    </tr>\n",
              "  </thead>\n",
              "  <tbody>\n",
              "    <tr>\n",
              "      <th>0</th>\n",
              "      <td>1</td>\n",
              "      <td>Toy Story (1995)</td>\n",
              "      <td>Adventure|Animation|Children|Comedy|Fantasy</td>\n",
              "    </tr>\n",
              "    <tr>\n",
              "      <th>1</th>\n",
              "      <td>2</td>\n",
              "      <td>Jumanji (1995)</td>\n",
              "      <td>Adventure|Children|Fantasy</td>\n",
              "    </tr>\n",
              "    <tr>\n",
              "      <th>2</th>\n",
              "      <td>3</td>\n",
              "      <td>Grumpier Old Men (1995)</td>\n",
              "      <td>Comedy|Romance</td>\n",
              "    </tr>\n",
              "    <tr>\n",
              "      <th>3</th>\n",
              "      <td>4</td>\n",
              "      <td>Waiting to Exhale (1995)</td>\n",
              "      <td>Comedy|Drama|Romance</td>\n",
              "    </tr>\n",
              "    <tr>\n",
              "      <th>4</th>\n",
              "      <td>5</td>\n",
              "      <td>Father of the Bride Part II (1995)</td>\n",
              "      <td>Comedy</td>\n",
              "    </tr>\n",
              "  </tbody>\n",
              "</table>\n",
              "</div>"
            ],
            "text/plain": [
              "   movieId                               title  \\\n",
              "0        1                    Toy Story (1995)   \n",
              "1        2                      Jumanji (1995)   \n",
              "2        3             Grumpier Old Men (1995)   \n",
              "3        4            Waiting to Exhale (1995)   \n",
              "4        5  Father of the Bride Part II (1995)   \n",
              "\n",
              "                                        genres  \n",
              "0  Adventure|Animation|Children|Comedy|Fantasy  \n",
              "1                   Adventure|Children|Fantasy  \n",
              "2                               Comedy|Romance  \n",
              "3                         Comedy|Drama|Romance  \n",
              "4                                       Comedy  "
            ]
          },
          "execution_count": 1,
          "metadata": {},
          "output_type": "execute_result"
        }
      ],
      "source": [
        "import pandas as pd\n",
        "\n",
        "# URL for the movies.csv file\n",
        "movies_url = 'https://drive.google.com/uc?export=download&id=1Uztnn449pnDBDn1XGJPF6uzV34jrP1Te'\n",
        "movies_df = pd.read_csv(movies_url)\n",
        "\n",
        "movies_df.head()"
      ]
    },
    {
      "cell_type": "markdown",
      "metadata": {},
      "source": [
        "## Handling Missing Data (Briefly)\n",
        "\n",
        "Real-world datasets often have missing values, typically represented as `NaN` (Not a Number).\n",
        "\n",
        "### Checking for Missing Values\n",
        "`isnull()` returns a DataFrame of booleans indicating True for missing values. `sum()` can then count them per column."
      ]
    },
    {
      "cell_type": "code",
      "execution_count": 2,
      "metadata": {},
      "outputs": [
        {
          "data": {
            "text/plain": [
              "movieId    0\n",
              "title      0\n",
              "genres     0\n",
              "dtype: int64"
            ]
          },
          "execution_count": 2,
          "metadata": {},
          "output_type": "execute_result"
        }
      ],
      "source": [
        "movies_df.isnull().sum()"
      ]
    },
    {
      "cell_type": "markdown",
      "metadata": {},
      "source": [
        "Our `movies_df` is quite clean. If we had missing values, common strategies include:\n",
        "*   `dropna()`: Remove rows or columns with missing values.\n",
        "*   `fillna()`: Fill missing values with a specific value (e.g., mean, median, mode, or a constant).\n",
        "\n",
        "Example (we won't run this on `movies_df` as it has no NaNs to demonstrate with directly):\n",
        "```python\n",
        "# df_with_nans.dropna(subset=['column_with_nan'], inplace=True) # Drop rows where 'column_with_nan' is NaN\n",
        "# df_with_nans['numeric_col_with_nan'].fillna(df_with_nans['numeric_col_with_nan'].mean(), inplace=True) # Fill with mean\n",
        "```"
      ]
    },
    {
      "cell_type": "markdown",
      "metadata": {},
      "source": [
        "## Adding and Modifying Columns\n",
        "\n",
        "### Adding a New Column\n",
        "You can add a new column by assigning values to it. If you assign a single value, it will be broadcast to all rows."
      ]
    },
    {
      "cell_type": "code",
      "execution_count": 3,
      "metadata": {},
      "outputs": [
        {
          "data": {
            "text/html": [
              "<div>\n",
              "<style scoped>\n",
              "    .dataframe tbody tr th:only-of-type {\n",
              "        vertical-align: middle;\n",
              "    }\n",
              "\n",
              "    .dataframe tbody tr th {\n",
              "        vertical-align: top;\n",
              "    }\n",
              "\n",
              "    .dataframe thead th {\n",
              "        text-align: right;\n",
              "    }\n",
              "</style>\n",
              "<table border=\"1\" class=\"dataframe\">\n",
              "  <thead>\n",
              "    <tr style=\"text-align: right;\">\n",
              "      <th></th>\n",
              "      <th>movieId</th>\n",
              "      <th>title</th>\n",
              "      <th>genres</th>\n",
              "      <th>source</th>\n",
              "    </tr>\n",
              "  </thead>\n",
              "  <tbody>\n",
              "    <tr>\n",
              "      <th>0</th>\n",
              "      <td>1</td>\n",
              "      <td>Toy Story (1995)</td>\n",
              "      <td>Adventure|Animation|Children|Comedy|Fantasy</td>\n",
              "      <td>MovieLens</td>\n",
              "    </tr>\n",
              "    <tr>\n",
              "      <th>1</th>\n",
              "      <td>2</td>\n",
              "      <td>Jumanji (1995)</td>\n",
              "      <td>Adventure|Children|Fantasy</td>\n",
              "      <td>MovieLens</td>\n",
              "    </tr>\n",
              "    <tr>\n",
              "      <th>2</th>\n",
              "      <td>3</td>\n",
              "      <td>Grumpier Old Men (1995)</td>\n",
              "      <td>Comedy|Romance</td>\n",
              "      <td>MovieLens</td>\n",
              "    </tr>\n",
              "    <tr>\n",
              "      <th>3</th>\n",
              "      <td>4</td>\n",
              "      <td>Waiting to Exhale (1995)</td>\n",
              "      <td>Comedy|Drama|Romance</td>\n",
              "      <td>MovieLens</td>\n",
              "    </tr>\n",
              "    <tr>\n",
              "      <th>4</th>\n",
              "      <td>5</td>\n",
              "      <td>Father of the Bride Part II (1995)</td>\n",
              "      <td>Comedy</td>\n",
              "      <td>MovieLens</td>\n",
              "    </tr>\n",
              "  </tbody>\n",
              "</table>\n",
              "</div>"
            ],
            "text/plain": [
              "   movieId                               title  \\\n",
              "0        1                    Toy Story (1995)   \n",
              "1        2                      Jumanji (1995)   \n",
              "2        3             Grumpier Old Men (1995)   \n",
              "3        4            Waiting to Exhale (1995)   \n",
              "4        5  Father of the Bride Part II (1995)   \n",
              "\n",
              "                                        genres     source  \n",
              "0  Adventure|Animation|Children|Comedy|Fantasy  MovieLens  \n",
              "1                   Adventure|Children|Fantasy  MovieLens  \n",
              "2                               Comedy|Romance  MovieLens  \n",
              "3                         Comedy|Drama|Romance  MovieLens  \n",
              "4                                       Comedy  MovieLens  "
            ]
          },
          "execution_count": 3,
          "metadata": {},
          "output_type": "execute_result"
        }
      ],
      "source": [
        "movies_df_copy = movies_df.copy() # Work on a copy to keep original movies_df clean for later merging\n",
        "movies_df_copy['source'] = 'MovieLens'\n",
        "movies_df_copy.head()"
      ]
    },
    {
      "cell_type": "markdown",
      "metadata": {},
      "source": [
        "You can also create a new column based on existing columns.\n",
        "Let's try to extract the year from the 'title' column. Movie titles are often in the format \"Title (Year)\"."
      ]
    },
    {
      "cell_type": "code",
      "execution_count": 4,
      "metadata": {},
      "outputs": [
        {
          "data": {
            "text/html": [
              "<div>\n",
              "<style scoped>\n",
              "    .dataframe tbody tr th:only-of-type {\n",
              "        vertical-align: middle;\n",
              "    }\n",
              "\n",
              "    .dataframe tbody tr th {\n",
              "        vertical-align: top;\n",
              "    }\n",
              "\n",
              "    .dataframe thead th {\n",
              "        text-align: right;\n",
              "    }\n",
              "</style>\n",
              "<table border=\"1\" class=\"dataframe\">\n",
              "  <thead>\n",
              "    <tr style=\"text-align: right;\">\n",
              "      <th></th>\n",
              "      <th>movieId</th>\n",
              "      <th>title</th>\n",
              "      <th>genres</th>\n",
              "      <th>source</th>\n",
              "      <th>year_extracted</th>\n",
              "    </tr>\n",
              "  </thead>\n",
              "  <tbody>\n",
              "    <tr>\n",
              "      <th>0</th>\n",
              "      <td>1</td>\n",
              "      <td>Toy Story (1995)</td>\n",
              "      <td>Adventure|Animation|Children|Comedy|Fantasy</td>\n",
              "      <td>MovieLens</td>\n",
              "      <td>1995</td>\n",
              "    </tr>\n",
              "    <tr>\n",
              "      <th>1</th>\n",
              "      <td>2</td>\n",
              "      <td>Jumanji (1995)</td>\n",
              "      <td>Adventure|Children|Fantasy</td>\n",
              "      <td>MovieLens</td>\n",
              "      <td>1995</td>\n",
              "    </tr>\n",
              "    <tr>\n",
              "      <th>2</th>\n",
              "      <td>3</td>\n",
              "      <td>Grumpier Old Men (1995)</td>\n",
              "      <td>Comedy|Romance</td>\n",
              "      <td>MovieLens</td>\n",
              "      <td>1995</td>\n",
              "    </tr>\n",
              "    <tr>\n",
              "      <th>3</th>\n",
              "      <td>4</td>\n",
              "      <td>Waiting to Exhale (1995)</td>\n",
              "      <td>Comedy|Drama|Romance</td>\n",
              "      <td>MovieLens</td>\n",
              "      <td>1995</td>\n",
              "    </tr>\n",
              "    <tr>\n",
              "      <th>4</th>\n",
              "      <td>5</td>\n",
              "      <td>Father of the Bride Part II (1995)</td>\n",
              "      <td>Comedy</td>\n",
              "      <td>MovieLens</td>\n",
              "      <td>1995</td>\n",
              "    </tr>\n",
              "  </tbody>\n",
              "</table>\n",
              "</div>"
            ],
            "text/plain": [
              "   movieId                               title  \\\n",
              "0        1                    Toy Story (1995)   \n",
              "1        2                      Jumanji (1995)   \n",
              "2        3             Grumpier Old Men (1995)   \n",
              "3        4            Waiting to Exhale (1995)   \n",
              "4        5  Father of the Bride Part II (1995)   \n",
              "\n",
              "                                        genres     source year_extracted  \n",
              "0  Adventure|Animation|Children|Comedy|Fantasy  MovieLens           1995  \n",
              "1                   Adventure|Children|Fantasy  MovieLens           1995  \n",
              "2                               Comedy|Romance  MovieLens           1995  \n",
              "3                         Comedy|Drama|Romance  MovieLens           1995  \n",
              "4                                       Comedy  MovieLens           1995  "
            ]
          },
          "execution_count": 4,
          "metadata": {},
          "output_type": "execute_result"
        }
      ],
      "source": [
        "# Using .str.extract() with a regular expression to get the year\n",
        "# This regex looks for 4 digits inside parentheses at the end of the string\n",
        "movies_df_copy['year_extracted'] = movies_df_copy['title'].str.extract(r'\\((\\d{4})\\)$')\n",
        "movies_df_copy.head()"
      ]
    },
    {
      "cell_type": "markdown",
      "id": "2e0e9da6",
      "metadata": {},
      "source": [
        "r'...' - This is a raw string in Python, which means backslashes are treated literally. This is important for regex patterns to avoid having to escape backslashes.\n",
        "\n",
        "\\( - Matches a literal opening parenthesis. The backslash is needed because parentheses have special meaning in regex (they're used for grouping).\n",
        "\n",
        "(\\d{4}) - This is a capturing group that matches exactly 4 digits:\n",
        "* \\d matches any digit (0-9)\n",
        "* {4} specifies exactly 4 occurrences of the preceding pattern\n",
        "* The parentheses () create a capturing group, which means this part will be extracted\n",
        "\n",
        "\\) - Matches a literal closing parenthesis. Again, the backslash is needed to escape the special meaning of parentheses in regex.\n",
        "\n",
        "$ - Matches the end of the string"
      ]
    },
    {
      "cell_type": "markdown",
      "metadata": {},
      "source": [
        "Notice `year_extracted` is a string. We might want to convert it to a number.\n",
        "Also, some movies might not have a year in the title in this format, leading to `NaN`."
      ]
    },
    {
      "cell_type": "code",
      "execution_count": 5,
      "metadata": {},
      "outputs": [
        {
          "name": "stdout",
          "output_type": "stream",
          "text": [
            "Data type of year_extracted: object\n",
            "Number of NaNs in year_extracted: 24\n",
            "\n",
            "Data type after conversion: float64\n"
          ]
        },
        {
          "data": {
            "text/html": [
              "<div>\n",
              "<style scoped>\n",
              "    .dataframe tbody tr th:only-of-type {\n",
              "        vertical-align: middle;\n",
              "    }\n",
              "\n",
              "    .dataframe tbody tr th {\n",
              "        vertical-align: top;\n",
              "    }\n",
              "\n",
              "    .dataframe thead th {\n",
              "        text-align: right;\n",
              "    }\n",
              "</style>\n",
              "<table border=\"1\" class=\"dataframe\">\n",
              "  <thead>\n",
              "    <tr style=\"text-align: right;\">\n",
              "      <th></th>\n",
              "      <th>movieId</th>\n",
              "      <th>title</th>\n",
              "      <th>genres</th>\n",
              "      <th>source</th>\n",
              "      <th>year_extracted</th>\n",
              "    </tr>\n",
              "  </thead>\n",
              "  <tbody>\n",
              "    <tr>\n",
              "      <th>0</th>\n",
              "      <td>1</td>\n",
              "      <td>Toy Story (1995)</td>\n",
              "      <td>Adventure|Animation|Children|Comedy|Fantasy</td>\n",
              "      <td>MovieLens</td>\n",
              "      <td>1995.0</td>\n",
              "    </tr>\n",
              "    <tr>\n",
              "      <th>1</th>\n",
              "      <td>2</td>\n",
              "      <td>Jumanji (1995)</td>\n",
              "      <td>Adventure|Children|Fantasy</td>\n",
              "      <td>MovieLens</td>\n",
              "      <td>1995.0</td>\n",
              "    </tr>\n",
              "    <tr>\n",
              "      <th>2</th>\n",
              "      <td>3</td>\n",
              "      <td>Grumpier Old Men (1995)</td>\n",
              "      <td>Comedy|Romance</td>\n",
              "      <td>MovieLens</td>\n",
              "      <td>1995.0</td>\n",
              "    </tr>\n",
              "    <tr>\n",
              "      <th>3</th>\n",
              "      <td>4</td>\n",
              "      <td>Waiting to Exhale (1995)</td>\n",
              "      <td>Comedy|Drama|Romance</td>\n",
              "      <td>MovieLens</td>\n",
              "      <td>1995.0</td>\n",
              "    </tr>\n",
              "    <tr>\n",
              "      <th>4</th>\n",
              "      <td>5</td>\n",
              "      <td>Father of the Bride Part II (1995)</td>\n",
              "      <td>Comedy</td>\n",
              "      <td>MovieLens</td>\n",
              "      <td>1995.0</td>\n",
              "    </tr>\n",
              "  </tbody>\n",
              "</table>\n",
              "</div>"
            ],
            "text/plain": [
              "   movieId                               title  \\\n",
              "0        1                    Toy Story (1995)   \n",
              "1        2                      Jumanji (1995)   \n",
              "2        3             Grumpier Old Men (1995)   \n",
              "3        4            Waiting to Exhale (1995)   \n",
              "4        5  Father of the Bride Part II (1995)   \n",
              "\n",
              "                                        genres     source  year_extracted  \n",
              "0  Adventure|Animation|Children|Comedy|Fantasy  MovieLens          1995.0  \n",
              "1                   Adventure|Children|Fantasy  MovieLens          1995.0  \n",
              "2                               Comedy|Romance  MovieLens          1995.0  \n",
              "3                         Comedy|Drama|Romance  MovieLens          1995.0  \n",
              "4                                       Comedy  MovieLens          1995.0  "
            ]
          },
          "execution_count": 5,
          "metadata": {},
          "output_type": "execute_result"
        }
      ],
      "source": [
        "print(\"Data type of year_extracted:\", movies_df_copy['year_extracted'].dtype)\n",
        "print(\"Number of NaNs in year_extracted:\", movies_df_copy['year_extracted'].isnull().sum())\n",
        "\n",
        "# Convert to numeric, coercing errors to NaN (for titles that didn't match the pattern)\n",
        "movies_df_copy['year_extracted'] = pd.to_numeric(movies_df_copy['year_extracted'], errors='coerce')\n",
        "print(\"\\nData type after conversion:\", movies_df_copy['year_extracted'].dtype)\n",
        "movies_df_copy.head()"
      ]
    },
    {
      "cell_type": "markdown",
      "metadata": {},
      "source": [
        "### Modifying an Existing Column\n",
        "Let's say we want to clean the movie titles by removing the year part.\n",
        "We can use `.str.replace()`."
      ]
    },
    {
      "cell_type": "code",
      "execution_count": 6,
      "metadata": {},
      "outputs": [
        {
          "data": {
            "text/html": [
              "<div>\n",
              "<style scoped>\n",
              "    .dataframe tbody tr th:only-of-type {\n",
              "        vertical-align: middle;\n",
              "    }\n",
              "\n",
              "    .dataframe tbody tr th {\n",
              "        vertical-align: top;\n",
              "    }\n",
              "\n",
              "    .dataframe thead th {\n",
              "        text-align: right;\n",
              "    }\n",
              "</style>\n",
              "<table border=\"1\" class=\"dataframe\">\n",
              "  <thead>\n",
              "    <tr style=\"text-align: right;\">\n",
              "      <th></th>\n",
              "      <th>title</th>\n",
              "      <th>title_cleaned</th>\n",
              "      <th>year_extracted</th>\n",
              "    </tr>\n",
              "  </thead>\n",
              "  <tbody>\n",
              "    <tr>\n",
              "      <th>0</th>\n",
              "      <td>Toy Story (1995)</td>\n",
              "      <td>Toy Story</td>\n",
              "      <td>1995.0</td>\n",
              "    </tr>\n",
              "    <tr>\n",
              "      <th>1</th>\n",
              "      <td>Jumanji (1995)</td>\n",
              "      <td>Jumanji</td>\n",
              "      <td>1995.0</td>\n",
              "    </tr>\n",
              "    <tr>\n",
              "      <th>2</th>\n",
              "      <td>Grumpier Old Men (1995)</td>\n",
              "      <td>Grumpier Old Men</td>\n",
              "      <td>1995.0</td>\n",
              "    </tr>\n",
              "    <tr>\n",
              "      <th>3</th>\n",
              "      <td>Waiting to Exhale (1995)</td>\n",
              "      <td>Waiting to Exhale</td>\n",
              "      <td>1995.0</td>\n",
              "    </tr>\n",
              "    <tr>\n",
              "      <th>4</th>\n",
              "      <td>Father of the Bride Part II (1995)</td>\n",
              "      <td>Father of the Bride Part II</td>\n",
              "      <td>1995.0</td>\n",
              "    </tr>\n",
              "  </tbody>\n",
              "</table>\n",
              "</div>"
            ],
            "text/plain": [
              "                                title                title_cleaned  \\\n",
              "0                    Toy Story (1995)                    Toy Story   \n",
              "1                      Jumanji (1995)                      Jumanji   \n",
              "2             Grumpier Old Men (1995)             Grumpier Old Men   \n",
              "3            Waiting to Exhale (1995)            Waiting to Exhale   \n",
              "4  Father of the Bride Part II (1995)  Father of the Bride Part II   \n",
              "\n",
              "   year_extracted  \n",
              "0          1995.0  \n",
              "1          1995.0  \n",
              "2          1995.0  \n",
              "3          1995.0  \n",
              "4          1995.0  "
            ]
          },
          "execution_count": 6,
          "metadata": {},
          "output_type": "execute_result"
        }
      ],
      "source": [
        "# This regex replaces ' (xxxx)' at the end of the string with an empty string, then trims whitespace\n",
        "movies_df_copy['title_cleaned'] = movies_df_copy['title'].str.replace(r'\\s*\\(\\d{4}\\)$', '', regex=True).str.strip()\n",
        "movies_df_copy[['title', 'title_cleaned', 'year_extracted']].head()"
      ]
    },
    {
      "cell_type": "markdown",
      "metadata": {},
      "source": [
        "### Dropping Columns\n",
        "Use the `drop()` method. `axis=1` indicates we're dropping columns ( `axis=0` for rows)."
      ]
    },
    {
      "cell_type": "code",
      "execution_count": 7,
      "metadata": {},
      "outputs": [
        {
          "data": {
            "text/html": [
              "<div>\n",
              "<style scoped>\n",
              "    .dataframe tbody tr th:only-of-type {\n",
              "        vertical-align: middle;\n",
              "    }\n",
              "\n",
              "    .dataframe tbody tr th {\n",
              "        vertical-align: top;\n",
              "    }\n",
              "\n",
              "    .dataframe thead th {\n",
              "        text-align: right;\n",
              "    }\n",
              "</style>\n",
              "<table border=\"1\" class=\"dataframe\">\n",
              "  <thead>\n",
              "    <tr style=\"text-align: right;\">\n",
              "      <th></th>\n",
              "      <th>movieId</th>\n",
              "      <th>title</th>\n",
              "      <th>genres</th>\n",
              "      <th>year_extracted</th>\n",
              "      <th>title_cleaned</th>\n",
              "    </tr>\n",
              "  </thead>\n",
              "  <tbody>\n",
              "    <tr>\n",
              "      <th>0</th>\n",
              "      <td>1</td>\n",
              "      <td>Toy Story (1995)</td>\n",
              "      <td>Adventure|Animation|Children|Comedy|Fantasy</td>\n",
              "      <td>1995.0</td>\n",
              "      <td>Toy Story</td>\n",
              "    </tr>\n",
              "    <tr>\n",
              "      <th>1</th>\n",
              "      <td>2</td>\n",
              "      <td>Jumanji (1995)</td>\n",
              "      <td>Adventure|Children|Fantasy</td>\n",
              "      <td>1995.0</td>\n",
              "      <td>Jumanji</td>\n",
              "    </tr>\n",
              "    <tr>\n",
              "      <th>2</th>\n",
              "      <td>3</td>\n",
              "      <td>Grumpier Old Men (1995)</td>\n",
              "      <td>Comedy|Romance</td>\n",
              "      <td>1995.0</td>\n",
              "      <td>Grumpier Old Men</td>\n",
              "    </tr>\n",
              "    <tr>\n",
              "      <th>3</th>\n",
              "      <td>4</td>\n",
              "      <td>Waiting to Exhale (1995)</td>\n",
              "      <td>Comedy|Drama|Romance</td>\n",
              "      <td>1995.0</td>\n",
              "      <td>Waiting to Exhale</td>\n",
              "    </tr>\n",
              "    <tr>\n",
              "      <th>4</th>\n",
              "      <td>5</td>\n",
              "      <td>Father of the Bride Part II (1995)</td>\n",
              "      <td>Comedy</td>\n",
              "      <td>1995.0</td>\n",
              "      <td>Father of the Bride Part II</td>\n",
              "    </tr>\n",
              "  </tbody>\n",
              "</table>\n",
              "</div>"
            ],
            "text/plain": [
              "   movieId                               title  \\\n",
              "0        1                    Toy Story (1995)   \n",
              "1        2                      Jumanji (1995)   \n",
              "2        3             Grumpier Old Men (1995)   \n",
              "3        4            Waiting to Exhale (1995)   \n",
              "4        5  Father of the Bride Part II (1995)   \n",
              "\n",
              "                                        genres  year_extracted  \\\n",
              "0  Adventure|Animation|Children|Comedy|Fantasy          1995.0   \n",
              "1                   Adventure|Children|Fantasy          1995.0   \n",
              "2                               Comedy|Romance          1995.0   \n",
              "3                         Comedy|Drama|Romance          1995.0   \n",
              "4                                       Comedy          1995.0   \n",
              "\n",
              "                 title_cleaned  \n",
              "0                    Toy Story  \n",
              "1                      Jumanji  \n",
              "2             Grumpier Old Men  \n",
              "3            Waiting to Exhale  \n",
              "4  Father of the Bride Part II  "
            ]
          },
          "execution_count": 7,
          "metadata": {},
          "output_type": "execute_result"
        }
      ],
      "source": [
        "# Let's drop the 'source' column we added\n",
        "movies_df_temp = movies_df_copy.drop('source', axis=1) # Returns a new DataFrame\n",
        "# movies_df_copy.drop('source', axis=1, inplace=True) # To modify in place\n",
        "movies_df_temp.head()"
      ]
    },
    {
      "cell_type": "markdown",
      "metadata": {},
      "source": [
        "## Merging and Joining DataFrames\n",
        "\n",
        "Pandas provides ways to combine DataFrames, similar to SQL JOINs. The `pd.merge()` function is most common.\n",
        "\n",
        "Let's load the `ratings.csv` dataset, which contains user ratings for movies."
      ]
    },
    {
      "cell_type": "code",
      "execution_count": 8,
      "metadata": {},
      "outputs": [
        {
          "data": {
            "text/html": [
              "<div>\n",
              "<style scoped>\n",
              "    .dataframe tbody tr th:only-of-type {\n",
              "        vertical-align: middle;\n",
              "    }\n",
              "\n",
              "    .dataframe tbody tr th {\n",
              "        vertical-align: top;\n",
              "    }\n",
              "\n",
              "    .dataframe thead th {\n",
              "        text-align: right;\n",
              "    }\n",
              "</style>\n",
              "<table border=\"1\" class=\"dataframe\">\n",
              "  <thead>\n",
              "    <tr style=\"text-align: right;\">\n",
              "      <th></th>\n",
              "      <th>userId</th>\n",
              "      <th>movieId</th>\n",
              "      <th>rating</th>\n",
              "      <th>timestamp</th>\n",
              "    </tr>\n",
              "  </thead>\n",
              "  <tbody>\n",
              "    <tr>\n",
              "      <th>0</th>\n",
              "      <td>1</td>\n",
              "      <td>1</td>\n",
              "      <td>4.0</td>\n",
              "      <td>964982703</td>\n",
              "    </tr>\n",
              "    <tr>\n",
              "      <th>1</th>\n",
              "      <td>1</td>\n",
              "      <td>3</td>\n",
              "      <td>4.0</td>\n",
              "      <td>964981247</td>\n",
              "    </tr>\n",
              "    <tr>\n",
              "      <th>2</th>\n",
              "      <td>1</td>\n",
              "      <td>6</td>\n",
              "      <td>4.0</td>\n",
              "      <td>964982224</td>\n",
              "    </tr>\n",
              "    <tr>\n",
              "      <th>3</th>\n",
              "      <td>1</td>\n",
              "      <td>47</td>\n",
              "      <td>5.0</td>\n",
              "      <td>964983815</td>\n",
              "    </tr>\n",
              "    <tr>\n",
              "      <th>4</th>\n",
              "      <td>1</td>\n",
              "      <td>50</td>\n",
              "      <td>5.0</td>\n",
              "      <td>964982931</td>\n",
              "    </tr>\n",
              "  </tbody>\n",
              "</table>\n",
              "</div>"
            ],
            "text/plain": [
              "   userId  movieId  rating  timestamp\n",
              "0       1        1     4.0  964982703\n",
              "1       1        3     4.0  964981247\n",
              "2       1        6     4.0  964982224\n",
              "3       1       47     5.0  964983815\n",
              "4       1       50     5.0  964982931"
            ]
          },
          "execution_count": 8,
          "metadata": {},
          "output_type": "execute_result"
        }
      ],
      "source": [
        "ratings_url = 'https://drive.google.com/uc?export=download&id=15IOZXK7f8nvfxhUXap9VEnZDzBTyu2xI'\n",
        "ratings_df = pd.read_csv(ratings_url)\n",
        "ratings_df.head()"
      ]
    },
    {
      "cell_type": "markdown",
      "metadata": {},
      "source": [
        "We have `movies_df` (movieId, title, genres) and `ratings_df` (userId, movieId, rating, timestamp).\n",
        "We can merge them on the common column `movieId`."
      ]
    },
    {
      "cell_type": "code",
      "execution_count": 9,
      "metadata": {},
      "outputs": [
        {
          "data": {
            "text/html": [
              "<div>\n",
              "<style scoped>\n",
              "    .dataframe tbody tr th:only-of-type {\n",
              "        vertical-align: middle;\n",
              "    }\n",
              "\n",
              "    .dataframe tbody tr th {\n",
              "        vertical-align: top;\n",
              "    }\n",
              "\n",
              "    .dataframe thead th {\n",
              "        text-align: right;\n",
              "    }\n",
              "</style>\n",
              "<table border=\"1\" class=\"dataframe\">\n",
              "  <thead>\n",
              "    <tr style=\"text-align: right;\">\n",
              "      <th></th>\n",
              "      <th>movieId</th>\n",
              "      <th>title</th>\n",
              "      <th>genres</th>\n",
              "      <th>userId</th>\n",
              "      <th>rating</th>\n",
              "      <th>timestamp</th>\n",
              "    </tr>\n",
              "  </thead>\n",
              "  <tbody>\n",
              "    <tr>\n",
              "      <th>0</th>\n",
              "      <td>1</td>\n",
              "      <td>Toy Story (1995)</td>\n",
              "      <td>Adventure|Animation|Children|Comedy|Fantasy</td>\n",
              "      <td>1</td>\n",
              "      <td>4.0</td>\n",
              "      <td>964982703</td>\n",
              "    </tr>\n",
              "    <tr>\n",
              "      <th>1</th>\n",
              "      <td>1</td>\n",
              "      <td>Toy Story (1995)</td>\n",
              "      <td>Adventure|Animation|Children|Comedy|Fantasy</td>\n",
              "      <td>5</td>\n",
              "      <td>4.0</td>\n",
              "      <td>847434962</td>\n",
              "    </tr>\n",
              "    <tr>\n",
              "      <th>2</th>\n",
              "      <td>1</td>\n",
              "      <td>Toy Story (1995)</td>\n",
              "      <td>Adventure|Animation|Children|Comedy|Fantasy</td>\n",
              "      <td>7</td>\n",
              "      <td>4.5</td>\n",
              "      <td>1106635946</td>\n",
              "    </tr>\n",
              "    <tr>\n",
              "      <th>3</th>\n",
              "      <td>1</td>\n",
              "      <td>Toy Story (1995)</td>\n",
              "      <td>Adventure|Animation|Children|Comedy|Fantasy</td>\n",
              "      <td>15</td>\n",
              "      <td>2.5</td>\n",
              "      <td>1510577970</td>\n",
              "    </tr>\n",
              "    <tr>\n",
              "      <th>4</th>\n",
              "      <td>1</td>\n",
              "      <td>Toy Story (1995)</td>\n",
              "      <td>Adventure|Animation|Children|Comedy|Fantasy</td>\n",
              "      <td>17</td>\n",
              "      <td>4.5</td>\n",
              "      <td>1305696483</td>\n",
              "    </tr>\n",
              "  </tbody>\n",
              "</table>\n",
              "</div>"
            ],
            "text/plain": [
              "   movieId             title                                       genres  \\\n",
              "0        1  Toy Story (1995)  Adventure|Animation|Children|Comedy|Fantasy   \n",
              "1        1  Toy Story (1995)  Adventure|Animation|Children|Comedy|Fantasy   \n",
              "2        1  Toy Story (1995)  Adventure|Animation|Children|Comedy|Fantasy   \n",
              "3        1  Toy Story (1995)  Adventure|Animation|Children|Comedy|Fantasy   \n",
              "4        1  Toy Story (1995)  Adventure|Animation|Children|Comedy|Fantasy   \n",
              "\n",
              "   userId  rating   timestamp  \n",
              "0       1     4.0   964982703  \n",
              "1       5     4.0   847434962  \n",
              "2       7     4.5  1106635946  \n",
              "3      15     2.5  1510577970  \n",
              "4      17     4.5  1305696483  "
            ]
          },
          "execution_count": 9,
          "metadata": {},
          "output_type": "execute_result"
        }
      ],
      "source": [
        "merged_df = pd.merge(movies_df, ratings_df, on='movieId')\n",
        "merged_df.head()"
      ]
    },
    {
      "cell_type": "markdown",
      "metadata": {},
      "source": [
        "By default, `pd.merge()` performs an **inner join**: only rows where the key (`movieId`) exists in *both* DataFrames are kept.\n",
        "Other join types:\n",
        "*   `how='left'`: Keep all keys from the left DataFrame, fill with NaN if no match in right.\n",
        "*   `how='right'`: Keep all keys from the right DataFrame.\n",
        "*   `how='outer'`: Keep all keys from both DataFrames.\n",
        "\n",
        "Let's check the shape:"
      ]
    },
    {
      "cell_type": "code",
      "execution_count": 10,
      "metadata": {},
      "outputs": [
        {
          "name": "stdout",
          "output_type": "stream",
          "text": [
            "Shape of movies_df: (9742, 3)\n",
            "Shape of ratings_df: (100836, 4)\n",
            "Shape of merged_df (inner join): (100836, 6)\n"
          ]
        }
      ],
      "source": [
        "print(\"Shape of movies_df:\", movies_df.shape)\n",
        "print(\"Shape of ratings_df:\", ratings_df.shape)\n",
        "print(\"Shape of merged_df (inner join):\", merged_df.shape)\n",
        "\n",
        "# The number of rows in merged_df should be equal to ratings_df if all movieIds in ratings_df are in movies_df\n",
        "# And if each movieId is unique in movies_df (which it is, as it's a primary key for movies)."
      ]
    },
    {
      "cell_type": "markdown",
      "metadata": {},
      "source": [
        "## Grouping Data: `groupby()`\n",
        "\n",
        "The `groupby()` method is used for splitting the data into groups based on some criteria, applying a function to each group independently, and then combining the results.\n",
        "\n",
        "Let's calculate the average rating for each movie."
      ]
    },
    {
      "cell_type": "code",
      "execution_count": 11,
      "metadata": {},
      "outputs": [
        {
          "name": "stdout",
          "output_type": "stream",
          "text": [
            "<class 'pandas.core.series.Series'>\n"
          ]
        },
        {
          "data": {
            "text/plain": [
              "title\n",
              "'71 (2014)                                 4.0\n",
              "'Hellboy': The Seeds of Creation (2004)    4.0\n",
              "'Round Midnight (1986)                     3.5\n",
              "'Salem's Lot (2004)                        5.0\n",
              "'Til There Was You (1997)                  4.0\n",
              "Name: rating, dtype: float64"
            ]
          },
          "execution_count": 11,
          "metadata": {},
          "output_type": "execute_result"
        }
      ],
      "source": [
        "# Group by 'title' (or 'movieId') and calculate the mean of 'rating' for each group\n",
        "average_ratings = merged_df.groupby('title')['rating'].mean()\n",
        "print(type(average_ratings)) # This is a Series\n",
        "average_ratings.head()"
      ]
    },
    {
      "cell_type": "markdown",
      "metadata": {},
      "source": [
        "We can convert this Series back to a DataFrame and sort it."
      ]
    },
    {
      "cell_type": "code",
      "execution_count": 12,
      "metadata": {},
      "outputs": [
        {
          "data": {
            "text/html": [
              "<div>\n",
              "<style scoped>\n",
              "    .dataframe tbody tr th:only-of-type {\n",
              "        vertical-align: middle;\n",
              "    }\n",
              "\n",
              "    .dataframe tbody tr th {\n",
              "        vertical-align: top;\n",
              "    }\n",
              "\n",
              "    .dataframe thead th {\n",
              "        text-align: right;\n",
              "    }\n",
              "</style>\n",
              "<table border=\"1\" class=\"dataframe\">\n",
              "  <thead>\n",
              "    <tr style=\"text-align: right;\">\n",
              "      <th></th>\n",
              "      <th>title</th>\n",
              "      <th>avg_rating</th>\n",
              "    </tr>\n",
              "  </thead>\n",
              "  <tbody>\n",
              "    <tr>\n",
              "      <th>3354</th>\n",
              "      <td>Gena the Crocodile (1969)</td>\n",
              "      <td>5.0</td>\n",
              "    </tr>\n",
              "    <tr>\n",
              "      <th>8951</th>\n",
              "      <td>True Stories (1986)</td>\n",
              "      <td>5.0</td>\n",
              "    </tr>\n",
              "    <tr>\n",
              "      <th>1986</th>\n",
              "      <td>Cosmic Scrat-tastrophe (2015)</td>\n",
              "      <td>5.0</td>\n",
              "    </tr>\n",
              "    <tr>\n",
              "      <th>5269</th>\n",
              "      <td>Love and Pigeons (1985)</td>\n",
              "      <td>5.0</td>\n",
              "    </tr>\n",
              "    <tr>\n",
              "      <th>7033</th>\n",
              "      <td>Red Sorghum (Hong gao liang) (1987)</td>\n",
              "      <td>5.0</td>\n",
              "    </tr>\n",
              "  </tbody>\n",
              "</table>\n",
              "</div>"
            ],
            "text/plain": [
              "                                    title  avg_rating\n",
              "3354            Gena the Crocodile (1969)         5.0\n",
              "8951                  True Stories (1986)         5.0\n",
              "1986        Cosmic Scrat-tastrophe (2015)         5.0\n",
              "5269              Love and Pigeons (1985)         5.0\n",
              "7033  Red Sorghum (Hong gao liang) (1987)         5.0"
            ]
          },
          "execution_count": 12,
          "metadata": {},
          "output_type": "execute_result"
        }
      ],
      "source": [
        "average_ratings_df = average_ratings.reset_index() # Converts 'title' from index to column\n",
        "average_ratings_df = average_ratings_df.rename(columns={'rating': 'avg_rating'})\n",
        "top_rated_movies = average_ratings_df.sort_values(by='avg_rating', ascending=False)\n",
        "top_rated_movies.head()"
      ]
    },
    {
      "cell_type": "markdown",
      "metadata": {},
      "source": [
        "### Grouping by Multiple Columns and Multiple Aggregations\n",
        "Let's also count the number of ratings per movie, as very popular movies might have slightly lower average ratings than niche movies with few, highly positive ratings."
      ]
    },
    {
      "cell_type": "code",
      "execution_count": 13,
      "metadata": {},
      "outputs": [
        {
          "data": {
            "text/html": [
              "<div>\n",
              "<style scoped>\n",
              "    .dataframe tbody tr th:only-of-type {\n",
              "        vertical-align: middle;\n",
              "    }\n",
              "\n",
              "    .dataframe tbody tr th {\n",
              "        vertical-align: top;\n",
              "    }\n",
              "\n",
              "    .dataframe thead th {\n",
              "        text-align: right;\n",
              "    }\n",
              "</style>\n",
              "<table border=\"1\" class=\"dataframe\">\n",
              "  <thead>\n",
              "    <tr style=\"text-align: right;\">\n",
              "      <th></th>\n",
              "      <th>title</th>\n",
              "      <th>avg_rating</th>\n",
              "      <th>num_ratings</th>\n",
              "    </tr>\n",
              "  </thead>\n",
              "  <tbody>\n",
              "    <tr>\n",
              "      <th>0</th>\n",
              "      <td>'71 (2014)</td>\n",
              "      <td>4.0</td>\n",
              "      <td>1</td>\n",
              "    </tr>\n",
              "    <tr>\n",
              "      <th>1</th>\n",
              "      <td>'Hellboy': The Seeds of Creation (2004)</td>\n",
              "      <td>4.0</td>\n",
              "      <td>1</td>\n",
              "    </tr>\n",
              "    <tr>\n",
              "      <th>2</th>\n",
              "      <td>'Round Midnight (1986)</td>\n",
              "      <td>3.5</td>\n",
              "      <td>2</td>\n",
              "    </tr>\n",
              "    <tr>\n",
              "      <th>3</th>\n",
              "      <td>'Salem's Lot (2004)</td>\n",
              "      <td>5.0</td>\n",
              "      <td>1</td>\n",
              "    </tr>\n",
              "    <tr>\n",
              "      <th>4</th>\n",
              "      <td>'Til There Was You (1997)</td>\n",
              "      <td>4.0</td>\n",
              "      <td>2</td>\n",
              "    </tr>\n",
              "  </tbody>\n",
              "</table>\n",
              "</div>"
            ],
            "text/plain": [
              "                                     title  avg_rating  num_ratings\n",
              "0                               '71 (2014)         4.0            1\n",
              "1  'Hellboy': The Seeds of Creation (2004)         4.0            1\n",
              "2                   'Round Midnight (1986)         3.5            2\n",
              "3                      'Salem's Lot (2004)         5.0            1\n",
              "4                'Til There Was You (1997)         4.0            2"
            ]
          },
          "execution_count": 13,
          "metadata": {},
          "output_type": "execute_result"
        }
      ],
      "source": [
        "movie_stats_df = merged_df.groupby('title')['rating'].agg(['mean', 'count'])\n",
        "movie_stats_df.columns = ['avg_rating', 'num_ratings'] # Rename columns\n",
        "movie_stats_df = movie_stats_df.reset_index()\n",
        "movie_stats_df.head()"
      ]
    },
    {
      "cell_type": "markdown",
      "metadata": {},
      "source": [
        "Now sort by number of ratings to see most popular, or by average rating for highly-rated."
      ]
    },
    {
      "cell_type": "code",
      "execution_count": 14,
      "metadata": {},
      "outputs": [
        {
          "name": "stdout",
          "output_type": "stream",
          "text": [
            "Most popular movies (by number of ratings):\n",
            "                                 title  avg_rating  num_ratings\n",
            "3158               Forrest Gump (1994)    4.164134          329\n",
            "7593  Shawshank Redemption, The (1994)    4.429022          317\n",
            "6865               Pulp Fiction (1994)    4.197068          307\n",
            "7680  Silence of the Lambs, The (1991)    4.161290          279\n",
            "5512                Matrix, The (1999)    4.192446          278\n",
            "\n",
            "Top rated movies (min 50 ratings to avoid niche bias):\n",
            "                                                  title  avg_rating  \\\n",
            "7593                   Shawshank Redemption, The (1994)    4.429022   \n",
            "3499                              Godfather, The (1972)    4.289062   \n",
            "3011                                  Fight Club (1999)    4.272936   \n",
            "1961                              Cool Hand Luke (1967)    4.271930   \n",
            "2531  Dr. Strangelove or: How I Learned to Stop Worr...    4.268041   \n",
            "\n",
            "      num_ratings  \n",
            "7593          317  \n",
            "3499          192  \n",
            "3011          218  \n",
            "1961           57  \n",
            "2531           97  \n"
          ]
        }
      ],
      "source": [
        "print(\"Most popular movies (by number of ratings):\")\n",
        "print(movie_stats_df.sort_values(by='num_ratings', ascending=False).head())\n",
        "\n",
        "print(\"\\nTop rated movies (min 50 ratings to avoid niche bias):\")\n",
        "min_ratings_threshold = 50\n",
        "print(movie_stats_df[movie_stats_df['num_ratings'] >= min_ratings_threshold].sort_values(by='avg_rating', ascending=False).head())"
      ]
    },
    {
      "cell_type": "markdown",
      "metadata": {},
      "source": [
        "## Introduction to Recommendation Logic (Filter-Based)\n",
        "\n",
        "Now that we have a combined dataset (`movie_stats_df` merged with original `movies_df` to get genres), we can build a very simple recommendation system based on filtering.\n",
        "\n",
        "First, let's merge `movie_stats_df` (which has `title`, `avg_rating`, `num_ratings`) back with the original `movies_df` (which has `movieId`, `title`, `genres`) to get a comprehensive DataFrame for recommendations."
      ]
    },
    {
      "cell_type": "code",
      "execution_count": 15,
      "metadata": {},
      "outputs": [
        {
          "data": {
            "text/html": [
              "<div>\n",
              "<style scoped>\n",
              "    .dataframe tbody tr th:only-of-type {\n",
              "        vertical-align: middle;\n",
              "    }\n",
              "\n",
              "    .dataframe tbody tr th {\n",
              "        vertical-align: top;\n",
              "    }\n",
              "\n",
              "    .dataframe thead th {\n",
              "        text-align: right;\n",
              "    }\n",
              "</style>\n",
              "<table border=\"1\" class=\"dataframe\">\n",
              "  <thead>\n",
              "    <tr style=\"text-align: right;\">\n",
              "      <th></th>\n",
              "      <th>movieId</th>\n",
              "      <th>title</th>\n",
              "      <th>genres</th>\n",
              "      <th>avg_rating</th>\n",
              "      <th>num_ratings</th>\n",
              "    </tr>\n",
              "  </thead>\n",
              "  <tbody>\n",
              "    <tr>\n",
              "      <th>0</th>\n",
              "      <td>1</td>\n",
              "      <td>Toy Story (1995)</td>\n",
              "      <td>Adventure|Animation|Children|Comedy|Fantasy</td>\n",
              "      <td>3.920930</td>\n",
              "      <td>215</td>\n",
              "    </tr>\n",
              "    <tr>\n",
              "      <th>1</th>\n",
              "      <td>2</td>\n",
              "      <td>Jumanji (1995)</td>\n",
              "      <td>Adventure|Children|Fantasy</td>\n",
              "      <td>3.431818</td>\n",
              "      <td>110</td>\n",
              "    </tr>\n",
              "    <tr>\n",
              "      <th>2</th>\n",
              "      <td>3</td>\n",
              "      <td>Grumpier Old Men (1995)</td>\n",
              "      <td>Comedy|Romance</td>\n",
              "      <td>3.259615</td>\n",
              "      <td>52</td>\n",
              "    </tr>\n",
              "    <tr>\n",
              "      <th>3</th>\n",
              "      <td>4</td>\n",
              "      <td>Waiting to Exhale (1995)</td>\n",
              "      <td>Comedy|Drama|Romance</td>\n",
              "      <td>2.357143</td>\n",
              "      <td>7</td>\n",
              "    </tr>\n",
              "    <tr>\n",
              "      <th>4</th>\n",
              "      <td>5</td>\n",
              "      <td>Father of the Bride Part II (1995)</td>\n",
              "      <td>Comedy</td>\n",
              "      <td>3.071429</td>\n",
              "      <td>49</td>\n",
              "    </tr>\n",
              "  </tbody>\n",
              "</table>\n",
              "</div>"
            ],
            "text/plain": [
              "   movieId                               title  \\\n",
              "0        1                    Toy Story (1995)   \n",
              "1        2                      Jumanji (1995)   \n",
              "2        3             Grumpier Old Men (1995)   \n",
              "3        4            Waiting to Exhale (1995)   \n",
              "4        5  Father of the Bride Part II (1995)   \n",
              "\n",
              "                                        genres  avg_rating  num_ratings  \n",
              "0  Adventure|Animation|Children|Comedy|Fantasy    3.920930          215  \n",
              "1                   Adventure|Children|Fantasy    3.431818          110  \n",
              "2                               Comedy|Romance    3.259615           52  \n",
              "3                         Comedy|Drama|Romance    2.357143            7  \n",
              "4                                       Comedy    3.071429           49  "
            ]
          },
          "execution_count": 15,
          "metadata": {},
          "output_type": "execute_result"
        }
      ],
      "source": [
        "# We need 'movieId' and 'genres' from movies_df, and 'avg_rating', 'num_ratings' from movie_stats_df.\n",
        "# Both have 'title', so we can merge on that. Or merge movie_stats_df on movies_df using movieId if stats were grouped by movieId.\n",
        "\n",
        "# Let's re-calculate movie_stats based on movieId for a cleaner merge\n",
        "movie_stats_by_id_df = merged_df.groupby('movieId')['rating'].agg(['mean', 'count']).reset_index()\n",
        "movie_stats_by_id_df.columns = ['movieId', 'avg_rating', 'num_ratings']\n",
        "\n",
        "recommender_df = pd.merge(movies_df, movie_stats_by_id_df, on='movieId')\n",
        "recommender_df.head()"
      ]
    },
    {
      "cell_type": "markdown",
      "metadata": {},
      "source": [
        "### Simple Recommender Function\n",
        "Let's create a function that recommends movies based on:\n",
        "1.  A chosen genre.\n",
        "2.  A minimum number of ratings (popularity filter).\n",
        "3.  A minimum average rating.\n",
        "And returns the top N movies."
      ]
    },
    {
      "cell_type": "code",
      "execution_count": 16,
      "metadata": {},
      "outputs": [],
      "source": [
        "def simple_recommender(df, genre, min_num_ratings=50, min_avg_rating=3.5, top_n=5):\n",
        "    # Filter by genre\n",
        "    filtered_df = df[df['genres'].str.contains(genre, case=False, na=False)]\n",
        "    \n",
        "    # Filter by minimum number of ratings\n",
        "    filtered_df = filtered_df[filtered_df['num_ratings'] >= min_num_ratings]\n",
        "    \n",
        "    # Filter by minimum average rating\n",
        "    filtered_df = filtered_df[filtered_df['avg_rating'] >= min_avg_rating]\n",
        "    \n",
        "    # Sort by average rating (descending)\n",
        "    recommended_movies = filtered_df.sort_values(by='avg_rating', ascending=False)\n",
        "    \n",
        "    return recommended_movies[['title', 'genres', 'avg_rating', 'num_ratings']].head(top_n)"
      ]
    },
    {
      "cell_type": "markdown",
      "metadata": {},
      "source": [
        "### Get Recommendations"
      ]
    },
    {
      "cell_type": "code",
      "execution_count": 17,
      "metadata": {},
      "outputs": [
        {
          "name": "stdout",
          "output_type": "stream",
          "text": [
            "Recommendations for 'Adventure' movies:\n",
            "                                                 title  \\\n",
            "898                         Princess Bride, The (1987)   \n",
            "224          Star Wars: Episode IV - A New Hope (1977)   \n",
            "897  Star Wars: Episode V - The Empire Strikes Back...   \n",
            "899  Raiders of the Lost Ark (Indiana Jones and the...   \n",
            "862             Monty Python and the Holy Grail (1975)   \n",
            "\n",
            "                                      genres  avg_rating  num_ratings  \n",
            "898  Action|Adventure|Comedy|Fantasy|Romance    4.232394          142  \n",
            "224                  Action|Adventure|Sci-Fi    4.231076          251  \n",
            "897                  Action|Adventure|Sci-Fi    4.215640          211  \n",
            "899                         Action|Adventure    4.207500          200  \n",
            "862                 Adventure|Comedy|Fantasy    4.161765          136  \n"
          ]
        }
      ],
      "source": [
        "print(\"Recommendations for 'Adventure' movies:\")\n",
        "adventure_recs = simple_recommender(recommender_df, genre='Adventure', min_num_ratings=100, min_avg_rating=4.0)\n",
        "print(adventure_recs)"
      ]
    },
    {
      "cell_type": "code",
      "execution_count": 18,
      "metadata": {},
      "outputs": [
        {
          "name": "stdout",
          "output_type": "stream",
          "text": [
            "\n",
            "Recommendations for 'Comedy' movies:\n",
            "                          title  \\\n",
            "257         Pulp Fiction (1994)   \n",
            "314         Forrest Gump (1994)   \n",
            "520                Fargo (1996)   \n",
            "968   Back to the Future (1985)   \n",
            "0              Toy Story (1995)   \n",
            "3189               Shrek (2001)   \n",
            "\n",
            "                                                 genres  avg_rating  \\\n",
            "257                         Comedy|Crime|Drama|Thriller    4.197068   \n",
            "314                            Comedy|Drama|Romance|War    4.164134   \n",
            "520                         Comedy|Crime|Drama|Thriller    4.116022   \n",
            "968                             Adventure|Comedy|Sci-Fi    4.038012   \n",
            "0           Adventure|Animation|Children|Comedy|Fantasy    3.920930   \n",
            "3189  Adventure|Animation|Children|Comedy|Fantasy|Ro...    3.867647   \n",
            "\n",
            "      num_ratings  \n",
            "257           307  \n",
            "314           329  \n",
            "520           181  \n",
            "968           171  \n",
            "0             215  \n",
            "3189          170  \n"
          ]
        }
      ],
      "source": [
        "print(\"\\nRecommendations for 'Comedy' movies:\")\n",
        "comedy_recs = simple_recommender(recommender_df, genre='Comedy', min_num_ratings=150, min_avg_rating=3.8, top_n=7)\n",
        "print(comedy_recs)"
      ]
    },
    {
      "cell_type": "code",
      "execution_count": 19,
      "metadata": {},
      "outputs": [
        {
          "name": "stdout",
          "output_type": "stream",
          "text": [
            "\n",
            "Recommendations for 'Sci-Fi' movies:\n",
            "                                                  title  \\\n",
            "224           Star Wars: Episode IV - A New Hope (1977)   \n",
            "897   Star Wars: Episode V - The Empire Strikes Back...   \n",
            "1938                                 Matrix, The (1999)   \n",
            "\n",
            "                       genres  avg_rating  num_ratings  \n",
            "224   Action|Adventure|Sci-Fi    4.231076          251  \n",
            "897   Action|Adventure|Sci-Fi    4.215640          211  \n",
            "1938   Action|Sci-Fi|Thriller    4.192446          278  \n"
          ]
        }
      ],
      "source": [
        "print(\"\\nRecommendations for 'Sci-Fi' movies:\")\n",
        "scifi_recs = simple_recommender(recommender_df, genre='Sci-Fi', min_num_ratings=80, top_n=3)\n",
        "print(scifi_recs)"
      ]
    },
    {
      "cell_type": "markdown",
      "metadata": {},
      "source": [
        "## Conclusion & Further Learning\n",
        "\n",
        "Pandas is a vast library, and we've only scratched the surface. Key takeaways:\n",
        "*   DataFrames are central for structured data.\n",
        "*   Inspection, selection, and filtering are fundamental operations.\n",
        "*   Merging allows combining related datasets.\n",
        "*   `groupby()` is powerful for aggregations.\n",
        "*   Even simple filtering can form the basis of a recommendation system.\n",
        "\n",
        "**Further topics to explore in Pandas:**\n",
        "*   More advanced indexing (MultiIndex).\n",
        "*   Time series data handling.\n",
        "*   `apply()` for more complex row/column-wise operations.\n",
        "*   `pivot_table` and `crosstab`.\n",
        "*   More sophisticated recommendation techniques (e.g., content-based filtering using cosine similarity on genre vectors, collaborative filtering)."
      ]
    }
  ],
  "metadata": {
    "kernelspec": {
      "display_name": "McGill",
      "language": "python",
      "name": "python3"
    },
    "language_info": {
      "codemirror_mode": {
        "name": "ipython",
        "version": 3
      },
      "file_extension": ".py",
      "mimetype": "text/x-python",
      "name": "python",
      "nbconvert_exporter": "python",
      "pygments_lexer": "ipython3",
      "version": "3.12.4"
    }
  },
  "nbformat": 4,
  "nbformat_minor": 5
}
