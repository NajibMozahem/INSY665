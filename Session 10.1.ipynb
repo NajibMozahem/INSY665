{
  "cells": [
    {
      "cell_type": "markdown",
      "metadata": {},
      "source": [
        "# Content-Based Filtering for Recommendation Systems"
      ]
    },
    {
      "cell_type": "markdown",
      "metadata": {},
      "source": [
        "## Recap: Recommendation Systems\n",
        "\n",
        "A **recommendation system** is an algorithm designed to provide users with personalized suggestions, recommendations, or predictions.\n",
        "\n",
        "The primary goal is to assist users in discovering items (products, services, content) they are likely to be interested in, based on their preferences, behaviors, or historical data.\n",
        "\n",
        "Examples: Netflix, Amazon, Zillow, Airbnb."
      ]
    },
    {
      "cell_type": "markdown",
      "metadata": {},
      "source": [
        "## Content-Based Filtering\n",
        "\n",
        "**Content-based filtering** is a type of recommendation system that focuses on the **characteristics (content)** of the items and a **profile of the user's preferences**.\n",
        "\n",
        "**How it works:**\n",
        "1.  **Item Profile Creation:** Each item is described by a set of features or attributes (e.g., for movies: keywords, genres, actors, director; for articles: topics, keywords).\n",
        "2.  **User Profile Creation:** A profile is built for each user, representing their preferences. This profile is often based on the characteristics of items the user has previously interacted with, liked, or rated positively.\n",
        "3.  **Recommendation:** Recommendations are made by comparing the user's profile with the profiles of unrated/unseen items. Items that are \"similar\" in content to what the user has liked in the past are recommended."
      ]
    },
    {
      "cell_type": "markdown",
      "metadata": {},
      "source": [
        "### Step 1: Item-Profile Curation (Example: Movie Genres)\n",
        "\n",
        "We start with item data, for example, movies and their genres. This data needs to be transformed into a structured format where each item (movie) is represented by a vector of its features (genres).\n",
        "\n",
        "**Initial Movie Data (e.g., from a DataFrame):**\n",
        "\n",
        "| movieId | year | genres             |\n",
        "|---------|------|--------------------|\n",
        "| A       | 2023 | Adventure and Comedy   |\n",
        "| B       | 2013 | Romance and Sci-Fi     |\n",
        "| C       | 2023 | Adventure          |\n",
        "| D       | 2010 | Adventure and Sci-Fi   |\n",
        "\n",
        "**Transformed Item-Profile (Genre Matrix - One-Hot Encoded):**\n",
        "\n",
        "| movieId | Adventure | Comedy | Romance | Sci-Fi |\n",
        "|---------|-----------|--------|---------|--------|\n",
        "| A       | 1         | 1      | 0       | 0      |\n",
        "| B       | 0         | 0      | 1       | 1      |\n",
        "| C       | 1         | 0      | 0       | 0      |\n",
        "| D       | 1         | 0      | 0       | 1      |\n",
        "\n",
        "(Here, `1` indicates the movie has the genre, `0` indicates it does not.)"
      ]
    },
    {
      "cell_type": "code",
      "execution_count": null,
      "metadata": {},
      "outputs": [],
      "source": [
        "import pandas as pd\n",
        "\n",
        "# Initial Movie Data\n",
        "movies_data = {\n",
        "    'movieId': ['A', 'B', 'C', 'D'],\n",
        "    'year': [2023, 2013, 2023, 2010],\n",
        "    'genres_str': ['Adventure|Comedy', 'Romance|Sci-Fi', 'Adventure', 'Adventure|Sci-Fi']\n",
        "}\n",
        "movies_df = pd.DataFrame(movies_data)\n",
        "print(\"Initial Movies DataFrame:\")\n",
        "print(movies_df)\n",
        "\n",
        "# Item-Profile Curation: One-hot encode genres\n",
        "# The str.get_dummies() method is excellent for this when genres are pipe-separated\n",
        "genre_dummies = movies_df['genres_str'].str.get_dummies(sep='|')\n",
        "item_profile_df = pd.concat([movies_df['movieId'], genre_dummies], axis=1).set_index('movieId')\n",
        "\n",
        "print(\"Item-Profile DataFrame (Genres One-Hot Encoded):\")\n",
        "print(item_profile_df)"
      ]
    },
    {
      "cell_type": "markdown",
      "metadata": {},
      "source": [
        "### Step 2: User-Profile Curation\n",
        "\n",
        "A user's profile is created based on their past interactions. For content-based filtering, this means aggregating the features of items the user has liked.\n",
        "\n",
        "**Example: User 1 likes a movie that is 'Adventure' and 'Sci-Fi'.**\n",
        "\n",
        "**User's Liked Item Data:**\n",
        "\n",
        "| UserId | year | genres             |\n",
        "|--------|------|--------------------|\n",
        "| 1      | 2014 | Adventure|Sci-Fi   |\n",
        "\n",
        "**User-Profile (Genre Vector):**\n",
        "\n",
        "| UserId | Adventure | Comedy | Romance | Sci-Fi |\n",
        "|--------|-----------|--------|---------|--------|\n",
        "| 1      | 1         | 0      | 0       | 1      |\n",
        "\n",
        "*If a user liked multiple movies, their profile could be an average or sum of the feature vectors of those movies.*"
      ]
    },
    {
      "cell_type": "code",
      "execution_count": null,
      "metadata": {},
      "outputs": [],
      "source": [
        "# Example User Profile (could be derived from user's liked movies)\n",
        "user_profile_data = {\n",
        "    'Adventure': [1],\n",
        "    'Comedy': [0],\n",
        "    'Romance': [0],\n",
        "    'Sci-Fi': [1]\n",
        "}\n",
        "user_profile_df = pd.DataFrame(user_profile_data, index=['User1'])\n",
        "print(\"User-Profile DataFrame:\")\n",
        "print(user_profile_df)"
      ]
    },
    {
      "cell_type": "markdown",
      "metadata": {},
      "source": [
        "### Step 3: Recommendation using Similarity\n",
        "\n",
        "Recommendations are made by finding items that are \"similar\" to the user's profile. A common way to measure this similarity between feature vectors is **Cosine Similarity**.\n",
        "\n",
        "**Cosine Similarity:**\n",
        "*   Measures the cosine of the angle between two non-zero vectors in a multi-dimensional space.\n",
        "*   Value ranges from -1 to 1:\n",
        "    *   `1`: Vectors point in exactly the same direction (max similarity).\n",
        "    *   `0`: Vectors are orthogonal (no similarity).\n",
        "    *   `-1`: Vectors point in completely opposite directions (max dissimilarity).\n",
        "*   Formula:  `cos(θ) = (A ⋅ B) / (||A|| ⋅ ||B||)`\n",
        "    Where `A ⋅ B` is the dot product of vectors A and B, and `||A||`, `||B||` are their Euclidean norms (magnitudes)."
      ]
    },
    {
      "cell_type": "markdown",
      "metadata": {},
      "source": [
        "#### Calculating Cosine Similarity Example\n",
        "\n",
        "**User Profile (User1):** `[Adventure:1, Comedy:0, Romance:0, Sci-Fi:1]`\n",
        "**Item Profile (Movie A):** `[Adventure:1, Comedy:1, Romance:0, Sci-Fi:0]`\n",
        "\n",
        "Let `U = [1, 0, 0, 1]` and `M_A = [1, 1, 0, 0]`\n",
        "\n",
        "1.  **Dot Product (U ⋅ M_A):**\n",
        "    `(1*1) + (0*1) + (0*0) + (1*0) = 1 + 0 + 0 + 0 = 1`\n",
        "\n",
        "2.  **Magnitude of U (||U||):**\n",
        "    `sqrt(1² + 0² + 0² + 1²) = sqrt(1 + 0 + 0 + 1) = sqrt(2)`\n",
        "\n",
        "3.  **Magnitude of M_A (||M_A||):**\n",
        "    `sqrt(1² + 1² + 0² + 0²) = sqrt(1 + 1 + 0 + 0) = sqrt(2)`\n",
        "\n",
        "4.  **Cosine Similarity:**\n",
        "    `cos(θ) = 1 / (sqrt(2) * sqrt(2)) = 1 / 2 = 0.5`"
      ]
    },
    {
      "cell_type": "markdown",
      "metadata": {},
      "source": [
        "#### Using `sklearn.metrics.pairwise.cosine_similarity`\n",
        "\n",
        "The Scikit-learn library provides a convenient function for this."
      ]
    },
    {
      "cell_type": "code",
      "execution_count": null,
      "metadata": {},
      "outputs": [],
      "source": [
        "from sklearn.metrics.pairwise import cosine_similarity\n",
        "import numpy as np # For array manipulation if needed\n",
        "\n",
        "# User Profile vector (ensure it's in the same order of genres as item_profile_df)\n",
        "user1_vector = user_profile_df.iloc[0].values.reshape(1, -1) \n",
        "# .values converts the Series to a NumPy array\n",
        "# .reshape(1, -1) makes it a 2D array with 1 row, as expected by cosine_similarity\n",
        "\n",
        "print(\"User1 Vector:\", user1_vector)\n",
        "print(\"Item Profile DataFrame (for reference):\")\n",
        "print(item_profile_df)\n",
        "\n",
        "# Calculate similarity between user1_vector and ALL item profiles in item_profile_df\n",
        "similarities = cosine_similarity(user1_vector, item_profile_df.values) # .values gets NumPy array from DF\n",
        "\n",
        "# similarities will be a 2D array, e.g., [[sim_A, sim_B, sim_C, sim_D]]\n",
        "print(\"Cosine Similarities (User1 vs. All Movies):\")\n",
        "print(similarities)\n",
        "\n",
        "# Create a DataFrame for easier viewing of results\n",
        "similarity_scores = pd.DataFrame(\n",
        "    data=similarities[0], # Take the first (and only) row of similarities\n",
        "    index=item_profile_df.index, # Use movieIds as index\n",
        "    columns=['CS_Genre']\n",
        ")\n",
        "similarity_scores['User_movieId'] = '1_' + similarity_scores.index # For display matching slide\n",
        "\n",
        "print(\"cs_genre_df (Similarity Scores with User1):\")\n",
        "print(similarity_scores[['User_movieId', 'CS_Genre']].sort_values(by='CS_Genre', ascending=False))"
      ]
    },
    {
      "cell_type": "markdown",
      "metadata": {},
      "source": [
        "The output should show:\n",
        "*   Similarity(User1, MovieA) = 0.5\n",
        "*   Similarity(User1, MovieB) = 0.5\n",
        "*   Similarity(User1, MovieC) = 0.7071 (approx, because MovieC is only Adventure, a partial match)\n",
        "*   Similarity(User1, MovieD) = 1.0 (perfect match on Adventure & Sci-Fi)"
      ]
    },
    {
      "cell_type": "markdown",
      "metadata": {},
      "source": [
        "## More Data? Enhancing Content-Based Filtering\n",
        "\n",
        "To create a more sophisticated content-based recommendation system, what additional factors (features) beyond just genre could be considered?\n",
        "\n",
        "Think about data available from sources like IMDB:\n",
        "*   **Actors, Directors, Writers:** Users who like movies by certain people might like other movies they are involved in.\n",
        "*   **Keywords/Plot Summaries:** Text analysis (NLP) can extract key themes and plot elements.\n",
        "*   **Year of Release:** Some users prefer newer or older movies.\n",
        "*   **Country of Origin, Language.**\n",
        "*   **Average Rating, Number of Votes:** While this leans towards collaborative filtering, it can also be a content feature indicating quality/popularity.\n",
        "*   **Runtime, MPAA Rating.**\n",
        "\n",
        "The more relevant features you can incorporate into your item profiles, the potentially more nuanced and accurate your content-based recommendations can become. However, this also increases complexity in feature engineering and similarity calculation."
      ]
    }
  ],
  "metadata": {
    "kernelspec": {
      "display_name": "Python 3 (ipykernel)",
      "language": "python",
      "name": "python3"
    },
    "language_info": {
      "codemirror_mode": {
        "name": "ipython",
        "version": 3
      },
      "file_extension": ".py",
      "mimetype": "text/x-python",
      "name": "python",
      "nbconvert_exporter": "python",
      "pygments_lexer": "ipython3",
      "version": "3.11.7"
    }
  },
  "nbformat": 4,
  "nbformat_minor": 2
}
