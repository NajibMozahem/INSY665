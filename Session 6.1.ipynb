{
  "cells": [
    {
      "cell_type": "markdown",
      "metadata": {},
      "source": [
        "# Introduction to APIs"
      ]
    },
    {
      "cell_type": "markdown",
      "metadata": {},
      "source": [
        "## API: Application Programming Interface\n",
        "\n",
        "An **API** is a set of protocols, tools, and definitions that allows different software applications (or components) to communicate and interact with each other.\n",
        "\n",
        "Think of it as a contract or a menu provided by one piece of software that other software can use to request services or data.\n",
        "\n",
        "*   **Documentation:** APIs typically come with detailed documentation explaining how to make requests, the required data formats, and the expected responses.\n",
        "*   **Interconnection:** APIs enable powerful systems by allowing different components (even those developed independently) to work together seamlessly."
      ]
    },
    {
      "cell_type": "markdown",
      "metadata": {},
      "source": [
        "## APIs in Industry\n",
        "\n",
        "APIs are fundamental in modern software development and are used across countless industries:\n",
        "\n",
        "*   **E-commerce:** Payment processing (e.g., PayPal API, Stripe API), Shipping (e.g., FedEx API, Canada Post API).\n",
        "*   **Social Media:** Social Login (e.g., Facebook API, Google Sign-In), Posting content, retrieving data.\n",
        "*   **Finance:** Trading (e.g., ETRADE API, Interactive Brokers API), Financial Data (e.g., Yahoo Finance API, Bloomberg API), Bank Account access (Open Banking APIs).\n",
        "*   **Healthcare:** Patient records exchange (FHIR APIs), Telemedicine platforms.\n",
        "*   **Travel:** Flight/hotel booking (e.g., Expedia API, Amadeus API).\n",
        "*   **Mapping:** Location services (e.g., Google Maps API, Mapbox API)."
      ]
    },
    {
      "cell_type": "markdown",
      "metadata": {},
      "source": [
        "## The API Request/Response Cycle\n",
        "\n",
        "Interaction with many web APIs follows a common pattern:\n",
        "\n",
        "1.  **Client:** Your application (or code) needs data or wants to perform an action.\n",
        "2.  **Request:** The client sends a formatted request to a specific API endpoint (URL).\n",
        "3.  **API:** Acts as an intermediary, receiving the request, processing it (often by interacting with a backend server or database).\n",
        "4.  **API Server:** The backend system that holds the data or performs the service.\n",
        "5.  **Response:** The API sends a formatted response back to the client, containing the requested data or the status of the action."
      ]
    },
    {
      "cell_type": "markdown",
      "metadata": {},
      "source": [
        "## Making Requests in Python: The `requests` Module\n",
        "\n",
        "The `requests` library is the standard way to make HTTP requests (the underlying protocol for most web APIs) in Python. It simplifies the process significantly.\n",
        "\n",
        "**Basic Usage:**"
      ]
    },
    {
      "cell_type": "code",
      "execution_count": 1,
      "metadata": {},
      "outputs": [
        {
          "name": "stdout",
          "output_type": "stream",
          "text": [
            "An error occurred during the request: HTTPSConnectionPool(host='api.example.com', port=443): Max retries exceeded with url: /data (Caused by NameResolutionError(\"<urllib3.connection.HTTPSConnection object at 0x1077a8e60>: Failed to resolve 'api.example.com' ([Errno 8] nodename nor servname provided, or not known)\"))\n"
          ]
        }
      ],
      "source": [
        "import requests\n",
        "\n",
        "# Example: Make a GET request to a hypothetical API endpoint\n",
        "api_url = \"https://api.example.com/data\" \n",
        "try:\n",
        "    response = requests.get(api_url)\n",
        "    \n",
        "    # Check the HTTP status code (e.g., 200 means OK)\n",
        "    print(f\"Status Code: {response.status_code}\")\n",
        "    \n",
        "    # Check if the request was successful\n",
        "    if response.status_code == 200:\n",
        "        # Print response content as text\n",
        "        # print(f\"Response Text: {response.text}\")\n",
        "        \n",
        "        # Attempt to parse response content as JSON\n",
        "        try:\n",
        "            json_data = response.json() \n",
        "            print(f\"Response JSON: {json_data}\")\n",
        "        except requests.exceptions.JSONDecodeError:\n",
        "            print(\"Response content is not valid JSON.\")\n",
        "    else:\n",
        "        print(f\"Request failed with status code {response.status_code}\")\n",
        "\n",
        "except requests.exceptions.RequestException as e:\n",
        "    print(f\"An error occurred during the request: {e}\")"
      ]
    },
    {
      "cell_type": "markdown",
      "metadata": {},
      "source": [
        "### HTTP Status Codes\n",
        "\n",
        "When an API responds, it includes a status code indicating the outcome:\n",
        "\n",
        "*   **`2xx` (Successful):**\n",
        "    *   `200 OK`: Standard success response.\n",
        "*   **`4xx` (Client Errors):** Problem with the request made by the client.\n",
        "    *   `400 Bad Request`: The server couldn't understand the request (e.g., malformed syntax).\n",
        "    *   `401 Unauthorized`: Authentication is required and failed or wasn't provided.\n",
        "    *   `403 Forbidden`: Authenticated, but lacks permission to access the resource.\n",
        "    *   `404 Not Found`: The requested resource could not be found on the server.\n",
        "*   **`5xx` (Server Errors):** The server failed to fulfill a valid request.\n",
        "    *   `500 Internal Server Error`: A generic server error.\n",
        "\n",
        "Checking the status code (`response.status_code`) is the first step in handling an API response."
      ]
    },
    {
      "cell_type": "markdown",
      "metadata": {},
      "source": [
        "## Handling API Responses\n",
        "\n",
        "API responses typically contain:\n",
        "*   **Headers:** Metadata about the response (e.g., `Content-Type`).\n",
        "*   **Body:** The actual data payload, often formatted as JSON.\n",
        "\n",
        "**Example JSON Response Body:**\n",
        "```json\n",
        "{\n",
        "  \"name\": \"John\",\n",
        "  \"age\": 30,\n",
        "  \"location\": \"Cityville\"\n",
        "}\n",
        "```"
      ]
    },
    {
      "cell_type": "markdown",
      "metadata": {},
      "source": [
        "### JSON (JavaScript Object Notation)\n",
        "\n",
        "JSON is a lightweight, text-based data interchange format. It's easy for humans to read/write and easy for machines to parse/generate. It has become the standard for data exchange in web APIs.\n",
        "\n",
        "Key Structures:\n",
        "*   **Object (`{}`):** An unordered collection of key-value pairs (similar to Python dictionaries). Keys are strings, values can be strings, numbers, booleans, `null`, arrays, or other objects.\n",
        "  ```json\n",
        "  {\"key1\": \"value1\", \"key2\": 123, \"key3\": true}\n",
        "  ```\n",
        "*   **Array (`[]`):** An ordered list of values (similar to Python lists). Values can be any valid JSON data type.\n",
        "  ```json\n",
        "  [\"apple\", \"banana\", 100, false]\n",
        "  ```"
      ]
    },
    {
      "cell_type": "markdown",
      "metadata": {},
      "source": [
        "### Working with JSON in Python: The `json` Module\n",
        "\n",
        "Python's built-in `json` module helps convert between Python objects and JSON formatted strings.\n",
        "\n",
        "*   `json.loads(json_string)`: Parses a JSON string and converts it into a corresponding Python object (usually a dictionary or list).\n",
        "\n",
        "The `requests` library often does this automatically with `response.json()` if the response `Content-Type` header indicates JSON."
      ]
    },
    {
      "cell_type": "code",
      "execution_count": 2,
      "metadata": {},
      "outputs": [
        {
          "name": "stdout",
          "output_type": "stream",
          "text": [
            "Python data type: <class 'dict'>\n",
            "Python data content: {'name': 'John', 'age': 30, 'is_student': False, 'courses': ['Math', 'History']}\n",
            "Accessing an element: John\n",
            "Accessing an element in the list: Math\n"
          ]
        }
      ],
      "source": [
        "import json\n",
        "\n",
        "# Example JSON string\n",
        "json_string = '{\"name\": \"John\", \"age\": 30, \"is_student\": false, \"courses\": [\"Math\", \"History\"]}'\n",
        "\n",
        "# Convert JSON string to Python dictionary\n",
        "python_data = json.loads(json_string)\n",
        "\n",
        "print(f\"Python data type: {type(python_data)}\")\n",
        "print(f\"Python data content: {python_data}\")\n",
        "print(f\"Accessing an element: {python_data['name']}\")\n",
        "print(f\"Accessing an element in the list: {python_data['courses'][0]}\")"
      ]
    },
    {
      "cell_type": "markdown",
      "metadata": {},
      "source": [
        "## General Steps for Using an API\n",
        "\n",
        "1.  **Choose an API:** Identify the service or data you need.\n",
        "2.  **Read the Documentation:** Understand endpoints, parameters, authentication, rate limits, response format.\n",
        "3.  **Obtain API Key (if required):** Sign up on the provider's website to get credentials.\n",
        "4.  **Make API Requests:** Use a library like `requests` to send HTTP requests (GET, POST, etc.) to the correct endpoints, including any necessary headers (like API keys) and parameters.\n",
        "5.  **Handle Responses:**\n",
        "    *   Check the status code.\n",
        "    *   Parse the response body (often JSON).\n",
        "    *   Extract the required data.\n",
        "    *   Implement error handling (for network issues, bad status codes, invalid data).\n",
        "    *   Respect rate limits."
      ]
    },
    {
      "cell_type": "markdown",
      "metadata": {},
      "source": [
        "## [Practice] Simple Real-Time API: Exchange Rates\n",
        "\n",
        "**Goal:** Fetch current exchange rates for USD using a free public API and display the rate for Canadian Dollars (CAD).\n",
        "\n",
        "**API Endpoint:** `https://open.er-api.com/v6/latest/USD` (This API provides exchange rates based on USD and requires no API key for basic use).\n",
        "\n",
        "**Tasks:**\n",
        "1.  Import the `requests` library.\n",
        "2.  Define the API URL.\n",
        "3.  Make a GET request to the URL.\n",
        "4.  Check if the request was successful (status code 200).\n",
        "5.  If successful:\n",
        "    *   Parse the JSON response using `response.json()`.\n",
        "    *   The JSON response structure looks something like: `{\"result\": \"success\", \"base_code\": \"USD\", \"rates\": {\"USD\": 1, \"AED\": 3.67, \"CAD\": 1.35, \"EUR\": 0.92, ...}}`\n",
        "    *   Access the dictionary of rates: `data['rates']`.\n",
        "    *   Access the specific rate for CAD: `rates['CAD']`.\n",
        "    *   Print the CAD exchange rate.\n",
        "6.  If not successful, print an error message including the status code.\n",
        "7.  Include basic error handling for the request itself (using `try-except`)."
      ]
    },
    {
      "cell_type": "code",
      "execution_count": 3,
      "metadata": {},
      "outputs": [
        {
          "name": "stdout",
          "output_type": "stream",
          "text": [
            "Fetching data from: https://open.er-api.com/v6/latest/USD\n",
            "1 USD = 1.381691 CAD\n"
          ]
        }
      ],
      "source": [
        "import requests\n",
        "\n",
        "# Define the API URL for latest USD rates\n",
        "url = \"https://open.er-api.com/v6/latest/USD\"\n",
        "\n",
        "print(f\"Fetching data from: {url}\")\n",
        "\n",
        "try:\n",
        "    # Make the GET request\n",
        "    response = requests.get(url)\n",
        "\n",
        "    # Check status code\n",
        "    if response.status_code == 200:\n",
        "        # Parse JSON\n",
        "        data = response.json()\n",
        "        \n",
        "        # Extract rates dictionary\n",
        "        rates = data.get('rates') # Using .get() is safer than []\n",
        "\n",
        "        # Check if rates exist and get CAD rate\n",
        "        if rates:\n",
        "            cad_rate = rates.get('CAD')\n",
        "            if cad_rate:\n",
        "                print(f\"1 USD = {cad_rate} CAD\")\n",
        "            else:\n",
        "                print(\"CAD rate not found in the response.\")\n",
        "        else:\n",
        "            print(\"'rates' key not found in JSON data.\")\n",
        "            \n",
        "    else:\n",
        "        print(f\"Error: Failed to fetch data. Status code: {response.status_code}\")\n",
        "\n",
        "except requests.exceptions.RequestException as e:\n",
        "    # Handle network-related errors\n",
        "    print(f\"Error during request: {e}\")"
      ]
    }
  ],
  "metadata": {
    "kernelspec": {
      "display_name": "McGill",
      "language": "python",
      "name": "python3"
    },
    "language_info": {
      "codemirror_mode": {
        "name": "ipython",
        "version": 3
      },
      "file_extension": ".py",
      "mimetype": "text/x-python",
      "name": "python",
      "nbconvert_exporter": "python",
      "pygments_lexer": "ipython3",
      "version": "3.12.4"
    }
  },
  "nbformat": 4,
  "nbformat_minor": 2
}
