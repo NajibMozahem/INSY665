{
 "cells": [
  {
   "cell_type": "markdown",
   "metadata": {},
   "source": [
    "# Introduction to Programming with Python"
   ]
  },
  {
   "cell_type": "markdown",
   "metadata": {},
   "source": [
    "## What is Programming?\n",
    "\n",
    "Programming is essentially about giving instructions to a computer. It involves:\n",
    "\n",
    "*   **Creating Instructions:** Writing a set of codes or instructions.\n",
    "*   **Computer Execution:** The computer follows these instructions to perform tasks or solve problems.\n",
    "*   **Programming Languages:** We use formal languages (like Python) to communicate these instructions clearly to the computer.\n",
    "*   **Problem Solving:** Breaking down complex problems into smaller, manageable steps.\n",
    "*   **Using Constructs:** Employing tools like variables, conditions (if/else), loops (for/while), and functions to build algorithms and automate processes.\n",
    "\n",
    "Programs can do a vast range of things, from simple calculations to running complex applications, websites, games, and more."
   ]
  },
  {
   "cell_type": "markdown",
   "metadata": {},
   "source": [
    "## Why Python?\n",
    "\n",
    "There are many programming languages (as seen in the word cloud on Slide 3), but we'll focus on Python.\n",
    "\n",
    "Python is known for being:\n",
    "*   **High-Level:** Closer to human language, abstracting away complex computer details.\n",
    "*   **General-Purpose:** Usable for a wide variety of tasks (web development, data science, scripting, etc.).\n",
    "*   **Simple and Readable:** Its syntax emphasizes clarity, making it easier to learn and write.\n",
    "*   **Open Source:** Free to use and distribute, with a large community contributing to it.\n",
    "*   **Extensive Libraries:** Comes with a rich standard library and access to countless third-party libraries for specialized tasks.\n",
    "\n",
    "It's widely used by individuals and organizations like Google, NASA, Dropbox, Instagram, and many others (Slide 5)."
   ]
  },
  {
   "cell_type": "markdown",
   "metadata": {},
   "source": [
    "## Errors in Programming\n",
    "\n",
    "When writing programs, things don't always work perfectly on the first try. These issues are called **errors** or **bugs**.\n",
    "\n",
    "Python helps us by providing **error messages** when something goes wrong. These messages usually tell us:\n",
    "*   **What** kind of error occurred (e.g., `NameError`, `SyntaxError`, `TypeError`).\n",
    "*   **Where** the error happened in our code (the line number).\n",
    "\n",
    "Understanding these messages is crucial for fixing (debugging) our programs."
   ]
  },
  {
   "cell_type": "markdown",
   "metadata": {},
   "source": [
    "# Python Fundamentals: Variables, Data Types, Functions, Operations\n",
    "\n",
    "Let's dive into the basic building blocks."
   ]
  },
  {
   "cell_type": "markdown",
   "metadata": {},
   "source": [
    "## Variables\n",
    "\n",
    "Think of variables as named containers or labels for storing data in the computer's memory.\n",
    "\n",
    "*   They allow us to **store and manipulate** data.\n",
    "*   They can hold different **types** of data (numbers, text, etc.).\n",
    "*   We **assign** a value to a variable using the equals sign (`=`), which is the **assignment operator**.\n",
    "*   The value stored in a variable can be changed (reassigned) later in the program."
   ]
  },
  {
   "cell_type": "code",
   "execution_count": 1,
   "metadata": {},
   "outputs": [
    {
     "name": "stdout",
     "output_type": "stream",
     "text": [
      "John\n",
      "Julia\n"
     ]
    }
   ],
   "source": [
    "# Assigning a value to a variable\n",
    "# variable_name = value\n",
    "\n",
    "first_name = \"John\"\n",
    "print(first_name) # Output the value stored in first_name\n",
    "\n",
    "# Variables can be reassigned new values\n",
    "first_name = \"Julia\"\n",
    "print(first_name) # Output the new value"
   ]
  },
  {
   "cell_type": "markdown",
   "metadata": {},
   "source": [
    "### Variable Naming Rules\n",
    "\n",
    "Python has specific rules for naming variables:\n",
    "\n",
    "*   **Cannot start with a number.** (`1_name` is invalid, `name_1` is valid).\n",
    "*   **Must start with a letter (a-z, A-Z) or an underscore (`_`).** (`_my_var`, `age` are valid).\n",
    "*   **Can only contain alpha-numeric characters (a-z, A-Z, 0-9) and underscores (`_`).** (`total_volume`, `user_id_2` are valid).\n",
    "*   **Case-sensitive.** `age`, `Age`, and `AGE` are treated as three distinct variables.\n",
    "*   **Choose descriptive names.** While short names (`x`, `y`) are allowed, descriptive names (`user_age`, `car_model`) make code easier to understand."
   ]
  },
  {
   "cell_type": "markdown",
   "metadata": {},
   "source": [
    "### Quick Quiz: Valid Variable Names\n",
    "\n",
    "Which of the following **cannot** be used as a variable name in Python?\n",
    "\n",
    "a) `_abcd_`\n",
    "b) `1_session`\n",
    "c) `AGE`\n",
    "d) `first_name1`\n",
    "\n",
    "---\n",
    "*Answer: b) `1_session` because variable names cannot start with a number.*"
   ]
  },
  {
   "cell_type": "markdown",
   "metadata": {},
   "source": [
    "## Data Types\n",
    "\n",
    "Variables can store different kinds of information, known as **data types**.\n",
    "\n",
    "Some fundamental types in Python are:\n",
    "\n",
    "*   **String (`str`):** Represents text data. Enclosed in single (`'`) or double (`\"`) quotes.\n",
    "    *   Examples: `'Hello'`, `\"Python is fun!\"`, `\"123\"` (Note: \"123\" is text, not a number here).\n",
    "*   **Integer (`int`):** Represents whole numbers (positive, negative, or zero).\n",
    "    *   Examples: `99`, `-10`, `0`\n",
    "*   **Float (`float`):** Represents numbers with a decimal point (floating-point numbers).\n",
    "    *   Examples: `173.4`, `-0.5`, `3.14159`\n",
    "*   **Boolean (`bool`):** Represents truth values, either `True` or `False` (must be capitalized).\n",
    "    *   Examples: `True`, `False`"
   ]
  },
  {
   "cell_type": "markdown",
   "metadata": {},
   "source": [
    "### Dynamic Typing\n",
    "\n",
    "Python uses **dynamic typing**. This means:\n",
    "*   You **don't** need to explicitly declare the type of a variable before using it.\n",
    "*   A variable's type is determined automatically when you assign a value to it.\n",
    "*   You can even change the type of data a variable holds by assigning a new value of a different type."
   ]
  },
  {
   "cell_type": "code",
   "execution_count": null,
   "metadata": {},
   "outputs": [],
   "source": [
    "# Python infers the type when assigned\n",
    "x = 4\n",
    "print(x) # Output: 4\n",
    "print(type(x)) # Output: <class 'int'>\n",
    "\n",
    "# Now, assign a value of a different type to the same variable\n",
    "x = \"Sally\"\n",
    "print(x) # Output: Sally\n",
    "print(type(x)) # Output: <class 'str'>"
   ]
  },
  {
   "cell_type": "markdown",
   "metadata": {},
   "source": [
    "### The `type()` Function\n",
    "\n",
    "As seen above, the built-in `type()` function is useful for checking the data type of a variable or a value."
   ]
  },
  {
   "cell_type": "code",
   "execution_count": null,
   "metadata": {},
   "outputs": [],
   "source": [
    "print(type(1))        # Output: <class 'int'>\n",
    "print(type(3.7))      # Output: <class 'float'>\n",
    "print(type(\"Hello\")) # Output: <class 'str'>\n",
    "print(type(True))     # Output: <class 'bool'>"
   ]
  },
  {
   "cell_type": "markdown",
   "metadata": {},
   "source": [
    "## Basic Functions: `print()` and `input()`\n",
    "\n",
    "A **function** is a block of reusable code that performs a specific task. Python has many built-in functions. Let's look at two fundamental ones for input and output."
   ]
  },
  {
   "cell_type": "markdown",
   "metadata": {},
   "source": [
    "### The `print()` Function\n",
    "\n",
    "The `print()` function displays information (its *arguments*) to the screen or standard output.\n",
    "\n",
    "*   You can pass one or more items (objects) to `print()`, separated by commas.\n",
    "*   It automatically converts non-string objects to strings before printing.\n",
    "*   By default, it adds a space between items and a newline character at the end."
   ]
  },
  {
   "cell_type": "code",
   "execution_count": 2,
   "metadata": {},
   "outputs": [
    {
     "name": "stdout",
     "output_type": "stream",
     "text": [
      "Hello, World!\n",
      "Name: Najib Course Code: 665\n"
     ]
    }
   ],
   "source": [
    "# Printing a simple string\n",
    "print(\"Hello, World!\")\n",
    "\n",
    "# Printing multiple items\n",
    "name = \"Najib\"\n",
    "course_code = 665\n",
    "print(\"Name:\", name, \"Course Code:\", course_code)\n",
    "\n",
    "# The output automatically has spaces between items:\n",
    "# Output: Name: Najib Course Code: 665"
   ]
  },
  {
   "cell_type": "markdown",
   "metadata": {},
   "source": [
    "### The `input()` Function\n",
    "\n",
    "The `input()` function allows your program to pause and wait for the user to type something into the console, followed by pressing Enter.\n",
    "\n",
    "*   It **always** returns the user's input as a **string (`str`)**, regardless of what the user types (even if they type numbers).\n",
    "*   You can provide an optional **prompt** string inside the parentheses `()` which is displayed to the user before they type."
   ]
  },
  {
   "cell_type": "code",
   "execution_count": 3,
   "metadata": {},
   "outputs": [
    {
     "name": "stdout",
     "output_type": "stream",
     "text": [
      "Hello, Najib\n",
      "<class 'str'>\n"
     ]
    }
   ],
   "source": [
    "# Get input from the user\n",
    "user_name = input(\"What's your name? \") # The space at the end makes the prompt look nicer\n",
    "\n",
    "# Print the input received\n",
    "print(\"Hello,\", user_name)\n",
    "\n",
    "# Check the type of the input - it will always be 'str'\n",
    "print(type(user_name))"
   ]
  },
  {
   "cell_type": "markdown",
   "metadata": {},
   "source": [
    "## Practice: Personalized Greeting\n",
    "\n",
    "Let's write a small program that:\n",
    "1.  Asks the user for their name.\n",
    "2.  Prints a personalized greeting message.\n",
    "\n",
    "**Example Interaction:**\n",
    "```\n",
    "Enter your name: Najib\n",
    "Hello, Najib! Your drinks will be ready shortly.\n",
    "```\n",
    "\n",
    "*Hint: You'll need a variable, the `input()` function, and the `print()` function.*"
   ]
  },
  {
   "cell_type": "code",
   "execution_count": 4,
   "metadata": {},
   "outputs": [
    {
     "name": "stdout",
     "output_type": "stream",
     "text": [
      "Hello, Najib ! Your drinks will be ready shortly.\n"
     ]
    }
   ],
   "source": [
    "# Practice Solution: Personalized Greeting\n",
    "\n",
    "# Prompt the user to enter their name and store it in a variable\n",
    "name = input(\"Enter your name: \")\n",
    "\n",
    "# Display the greeting message, including the user's name\n",
    "print(\"Hello,\", name, \"! Your drinks will be ready shortly.\")"
   ]
  },
  {
   "cell_type": "markdown",
   "metadata": {},
   "source": [
    "## Comments\n",
    "\n",
    "Comments are notes in your code that are ignored by Python when the program runs. They are used to:\n",
    "\n",
    "*   **Explain** what the code does.\n",
    "*   Make the code more **readable** for yourself and others.\n",
    "*   Temporarily **prevent** a line of code from running (useful for testing).\n",
    "\n",
    "In Python, comments start with the hash symbol (`#`) and continue to the end of the line."
   ]
  },
  {
   "cell_type": "code",
   "execution_count": 5,
   "metadata": {},
   "outputs": [
    {
     "name": "stdout",
     "output_type": "stream",
     "text": [
      "Hello World!\n",
      "Cheers Mate!\n"
     ]
    }
   ],
   "source": [
    "# This is a full-line comment\n",
    "print(\"Hello World!\") # This is an inline comment explaining this line\n",
    "\n",
    "# The next line is commented out, so it won't execute:\n",
    "# print(\"This won't be printed.\")\n",
    "\n",
    "print(\"Cheers Mate!\")"
   ]
  },
  {
   "cell_type": "markdown",
   "metadata": {},
   "source": [
    "## Class Exercise: Age Printer\n",
    "\n",
    "Build a program that:\n",
    "1.  Asks the user for their age.\n",
    "2.  Prints out a message including their age.\n",
    "\n",
    "**Example Interaction:**\n",
    "```\n",
    "How old are you? 23\n",
    "I'm 23 years old\n",
    "```"
   ]
  },
  {
   "cell_type": "code",
   "execution_count": 6,
   "metadata": {},
   "outputs": [
    {
     "name": "stdout",
     "output_type": "stream",
     "text": [
      "I'm 43 years old\n"
     ]
    }
   ],
   "source": [
    "# Solution: Age Printer\n",
    "\n",
    "# Ask for the user's age\n",
    "age = input(\"How old are you? \")\n",
    "\n",
    "# Print the message\n",
    "# Note: 'age' is a string here, which is fine for printing directly\n",
    "print(\"I'm\", age, \"years old\")"
   ]
  },
  {
   "cell_type": "markdown",
   "metadata": {},
   "source": [
    "## Numerical Operations\n",
    "\n",
    "Python can perform standard mathematical calculations using **arithmetic operators**."
   ]
  },
  {
   "cell_type": "markdown",
   "metadata": {},
   "source": [
    "### Arithmetic Operators\n",
    "\n",
    "| Operator | Definition                 | Example | Result |\n",
    "| :------- | :------------------------- | :------ | :----- |\n",
    "| `+`      | Addition                   | `7 + 4` | `11`   |\n",
    "| `-`      | Subtraction                | `7 - 4` | `3`    |\n",
    "| `*`      | Multiplication             | `7 * 4` | `28`   |\n",
    "| `/`      | Division (results in float)| `7 / 4` | `1.75` |\n",
    "| `//`     | Integer/Floor Division     | `7 // 4`| `1`    |\n",
    "| `%`      | Modulus (Remainder)        | `7 % 4` | `3`    |\n",
    "| `**`     | Exponentiation (Power)     | `2 ** 3`| `8`    |"
   ]
  },
  {
   "cell_type": "code",
   "execution_count": 7,
   "metadata": {},
   "outputs": [
    {
     "name": "stdout",
     "output_type": "stream",
     "text": [
      "7 + 4 = 11\n",
      "7 * 4 = 28\n",
      "7 / 4 = 1.75\n",
      "7 // 4 = 1\n",
      "7 % 4 = 3\n",
      "2 ** 3 = 8\n"
     ]
    }
   ],
   "source": [
    "# Examples of Arithmetic Operators\n",
    "print(\"7 + 4 =\", 7 + 4)\n",
    "print(\"7 * 4 =\", 7 * 4)\n",
    "print(\"7 / 4 =\", 7 / 4)\n",
    "print(\"7 // 4 =\", 7 // 4)\n",
    "print(\"7 % 4 =\", 7 % 4)\n",
    "print(\"2 ** 3 =\", 2 ** 3)"
   ]
  },
  {
   "cell_type": "markdown",
   "metadata": {},
   "source": [
    "### The `input()` Type Issue for Calculations\n",
    "\n",
    "Let's try to build a simple calculator that takes two numbers from the user and multiplies them.\n",
    "\n",
    "**Desired Interaction:**\n",
    "```\n",
    "input the number: 30\n",
    "input the number: 40\n",
    "num1*num2 1200\n",
    "```\n",
    "\n",
    "Remember: `input()` **always** returns a string!"
   ]
  },
  {
   "cell_type": "code",
   "execution_count": 8,
   "metadata": {},
   "outputs": [
    {
     "name": "stdout",
     "output_type": "stream",
     "text": [
      "num1 is of type: <class 'str'>\n",
      "num2 is of type: <class 'str'>\n"
     ]
    },
    {
     "ename": "TypeError",
     "evalue": "can't multiply sequence by non-int of type 'str'",
     "output_type": "error",
     "traceback": [
      "\u001b[0;31m---------------------------------------------------------------------------\u001b[0m",
      "\u001b[0;31mTypeError\u001b[0m                                 Traceback (most recent call last)",
      "Cell \u001b[0;32mIn[8], line 11\u001b[0m\n\u001b[1;32m      7\u001b[0m \u001b[38;5;28mprint\u001b[39m(\u001b[38;5;124m\"\u001b[39m\u001b[38;5;124mnum2 is of type:\u001b[39m\u001b[38;5;124m\"\u001b[39m, \u001b[38;5;28mtype\u001b[39m(num2_str)) \u001b[38;5;66;03m# It's a string!\u001b[39;00m\n\u001b[1;32m      9\u001b[0m \u001b[38;5;66;03m# What happens if we try to multiply strings?\u001b[39;00m\n\u001b[1;32m     10\u001b[0m \u001b[38;5;66;03m# This will cause a TypeError!\u001b[39;00m\n\u001b[0;32m---> 11\u001b[0m result \u001b[38;5;241m=\u001b[39m \u001b[43mnum1_str\u001b[49m\u001b[43m \u001b[49m\u001b[38;5;241;43m*\u001b[39;49m\u001b[43m \u001b[49m\u001b[43mnum2_str\u001b[49m\n\u001b[1;32m     12\u001b[0m \u001b[38;5;28mprint\u001b[39m(\u001b[38;5;124m\"\u001b[39m\u001b[38;5;124mnum1_str * num2_str =\u001b[39m\u001b[38;5;124m\"\u001b[39m, result)\n",
      "\u001b[0;31mTypeError\u001b[0m: can't multiply sequence by non-int of type 'str'"
     ]
    }
   ],
   "source": [
    "# Attempting multiplication directly with input()\n",
    "\n",
    "num1_str = input(\"input the number: \")\n",
    "num2_str = input(\"input the number: \")\n",
    "\n",
    "print(\"num1 is of type:\", type(num1_str)) # It's a string!\n",
    "print(\"num2 is of type:\", type(num2_str)) # It's a string!\n",
    "\n",
    "# What happens if we try to multiply strings?\n",
    "# This will cause a TypeError!\n",
    "result = num1_str * num2_str\n",
    "print(\"num1_str * num2_str =\", result)"
   ]
  },
  {
   "cell_type": "markdown",
   "metadata": {},
   "source": [
    "### Type Conversion: `int()` and `float()`\n",
    "\n",
    "As we saw, the `input()` function gives us strings. To perform mathematical operations, we need to **convert** these strings into numerical types (like `int` or `float`).\n",
    "\n",
    "*   **`int(value)`:** Attempts to convert `value` into an integer. Works for strings containing only whole numbers (e.g., `int(\"123\")` becomes `123`). It will cause an error if the string has a decimal or non-numeric characters (e.g., `int(\"10.5\")` or `int(\"abc\")` will fail).\n",
    "*   **`float(value)`:** Attempts to convert `value` into a floating-point number. Works for strings containing integers or decimals (e.g., `float(\"123\")` becomes `123.0`, `float(\"10.5\")` becomes `10.5`). It will fail for non-numeric characters."
   ]
  },
  {
   "cell_type": "code",
   "execution_count": 9,
   "metadata": {},
   "outputs": [
    {
     "name": "stdout",
     "output_type": "stream",
     "text": [
      "Original type: <class 'str'>\n",
      "Converted value: 30\n",
      "Converted type: <class 'int'>\n",
      "\n",
      "Original type: <class 'str'>\n",
      "Converted value: 173.4\n",
      "Converted type: <class 'float'>\n"
     ]
    }
   ],
   "source": [
    "num_str = \"30\" # This is a string\n",
    "print(\"Original type:\", type(num_str))\n",
    "\n",
    "# Convert the string to an integer\n",
    "num_int = int(num_str)\n",
    "print(\"Converted value:\", num_int)\n",
    "print(\"Converted type:\", type(num_int))\n",
    "\n",
    "decimal_str = \"173.4\"\n",
    "print(\"\\nOriginal type:\", type(decimal_str))\n",
    "\n",
    "# Convert the string to a float\n",
    "num_float = float(decimal_str)\n",
    "print(\"Converted value:\", num_float)\n",
    "print(\"Converted type:\", type(num_float))"
   ]
  },
  {
   "cell_type": "markdown",
   "metadata": {},
   "source": [
    "### Exercise: Python as a Calculator (Corrected)\n",
    "\n",
    "Now, let's fix our calculator program by converting the input strings to integers before multiplying."
   ]
  },
  {
   "cell_type": "code",
   "execution_count": 10,
   "metadata": {},
   "outputs": [
    {
     "name": "stdout",
     "output_type": "stream",
     "text": [
      "num1 is now type: <class 'int'>\n",
      "num2 is now type: <class 'int'>\n",
      "num1 * num2 = 6\n"
     ]
    }
   ],
   "source": [
    "# Solution: Python as a Calculator\n",
    "\n",
    "# Get input and convert to integer immediately\n",
    "num1 = int(input(\"input the number: \"))\n",
    "num2 = int(input(\"input the number: \"))\n",
    "\n",
    "print(\"num1 is now type:\", type(num1)) # Check the type - should be int\n",
    "print(\"num2 is now type:\", type(num2)) # Check the type - should be int\n",
    "\n",
    "# Perform the multiplication\n",
    "product = num1 * num2\n",
    "\n",
    "# Print the result\n",
    "print(\"num1 * num2 =\", product)"
   ]
  },
  {
   "cell_type": "markdown",
   "metadata": {},
   "source": [
    "This covers the core concepts introduced in the slides! We can now store data, get input, display output, perform basic calculations, and understand data types."
   ]
  }
 ],
 "metadata": {
  "kernelspec": {
   "display_name": "McGill",
   "language": "python",
   "name": "python3"
  },
  "language_info": {
   "codemirror_mode": {
    "name": "ipython",
    "version": 3
   },
   "file_extension": ".py",
   "mimetype": "text/x-python",
   "name": "python",
   "nbconvert_exporter": "python",
   "pygments_lexer": "ipython3",
   "version": "3.12.4"
  }
 },
 "nbformat": 4,
 "nbformat_minor": 2
}
