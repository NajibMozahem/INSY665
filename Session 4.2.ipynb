{
 "cells": [
  {
   "cell_type": "markdown",
   "metadata": {},
   "source": [
    "# Loop (II): The `while` Statement, `break`, and `continue`\n",
    "\n",
    "Based on slides by Hyunji So, McGill Desautels."
   ]
  },
  {
   "cell_type": "markdown",
   "metadata": {},
   "source": [
    "## The `while` Statement\n",
    "\n",
    "The `while` loop repeatedly executes a block of code **as long as** a given condition remains `True`.\n",
    "\n",
    "**Syntax:**\n",
    "```python\n",
    "while condition:\n",
    "    # Code Block \n",
    "    # Executed repeatedly as long as 'condition' is True\n",
    "    statement_1\n",
    "    statement_2\n",
    "    # MUST include code that can eventually make the condition False!\n",
    "    ...\n",
    "```\n",
    "*   **`condition`**: A Boolean expression evaluated *before* each iteration. If `True`, the code block executes. If `False`, the loop terminates.\n",
    "*   **`:`**: Colon marks the end of the `while` condition line.\n",
    "*   **Indentation**: The code block to be repeated must be indented.\n",
    "*   **Loop Control:** Crucially, the code inside the loop usually needs to modify variables involved in the `condition` so that the condition eventually becomes `False`, allowing the loop to end."
   ]
  },
  {
   "cell_type": "markdown",
   "metadata": {},
   "source": [
    "### Example: Printing Numbers 1 to 5\n",
    "\n",
    "We need:\n",
    "1.  An initialization step (start value for our counter, outside the loop).\n",
    "2.  A condition to check (stop value).\n",
    "3.  An update step inside the loop (step value) to eventually make the condition false."
   ]
  },
  {
   "cell_type": "code",
   "execution_count": null,
   "metadata": {},
   "outputs": [],
   "source": [
    "num = 1 # 1. Initialize variable (Start Value)\n",
    "\n",
    "while num < 6: # 2. Condition (Stop Value: loop while num is less than 6)\n",
    "    # Code block\n",
    "    print(num)\n",
    "    # 3. Update statement (Step Value)\n",
    "    num += 1 # Equivalent to num = num + 1\n",
    "\n",
    "print(\"Loop finished\")"
   ]
  },
  {
   "cell_type": "markdown",
   "metadata": {},
   "source": [
    "### Infinite Loops Warning!\n",
    "\n",
    "What happens if you forget the update statement (`num += 1`) inside the `while` loop, or if the condition *never* becomes `False`?\n",
    "\n",
    "The loop will run forever, creating an **infinite loop**. This will freeze your program or kernel, and you'll likely need to interrupt or stop it manually.\n",
    "\n",
    "**Always ensure your `while` loop's condition can eventually become `False` based on the code inside the loop.**"
   ]
  },
  {
   "cell_type": "code",
   "execution_count": null,
   "metadata": {
    "tags": [
     "raises-exception"
    ]
   },
   "outputs": [],
   "source": [
    "# Example of an infinite loop (DO NOT RUN without knowing how to interrupt!)\n",
    "# num = 1\n",
    "# while num < 6: \n",
    "#    print(num)\n",
    "#    # Missing num += 1, so num always stays 1, and num < 6 is always True"
   ]
  },
  {
   "cell_type": "markdown",
   "metadata": {},
   "source": [
    "## Practice: Guess the Number Game\n",
    "\n",
    "**Goal:** Create a game where:\n",
    "1.  The computer selects a random number between 1 and 50.\n",
    "2.  The player repeatedly guesses the number.\n",
    "3.  After each guess, the computer provides feedback: \"Too small\", \"Too large\", or \"Correct!\".\n",
    "4.  The game continues **until** the player guesses correctly.\n",
    "\n",
    "This is a perfect scenario for a `while` loop because we don't know beforehand how many guesses the player will need."
   ]
  },
  {
   "cell_type": "markdown",
   "metadata": {},
   "source": [
    "### Using the `random` Module\n",
    "\n",
    "To generate the secret number, we need Python's built-in `random` module.\n",
    "\n",
    "1.  **Import the module:** `import random`\n",
    "2.  **Use `random.randint(a, b)`:** This function returns a random integer `N` such that `a <= N <= b` (inclusive)."
   ]
  },
  {
   "cell_type": "code",
   "execution_count": null,
   "metadata": {},
   "outputs": [],
   "source": [
    "import random\n",
    "\n",
    "# Generate 5 random integers between 1 and 10 (inclusive)\n",
    "print(\"Generating 5 random numbers (1-10):\")\n",
    "for i in range(5):\n",
    "    rand_int = random.randint(1, 10) \n",
    "    print(rand_int)"
   ]
  },
  {
   "cell_type": "markdown",
   "metadata": {},
   "source": [
    "### Guess the Number: Implementation Steps\n",
    "\n",
    "1.  **Outside the loop:**\n",
    "    *   Import the `random` module.\n",
    "    *   Generate the secret `answer` using `random.randint(1, 50)`.\n",
    "    *   Set up a boolean variable (e.g., `guess_correct = False`) to control the loop.\n",
    "\n",
    "2.  **Inside the `while` loop:** (Loop condition: `while not guess_correct:`)\n",
    "    *   Prompt the player to `input()` their guess (convert it to an integer using `int()`).\n",
    "    *   Use `if-elif-else` to compare the `user_guess` with the `answer`:\n",
    "        *   If `user_guess == answer`:\n",
    "            *   Print a "Correct!" message.\n",
    "            *   Set `guess_correct = True` to make the loop condition `False` and terminate the loop.\n",
    "        *   Else if `user_guess < answer`:\n",
    "            *   Print "Too small. Try again.".\n",
    "        *   Else (`user_guess > answer`):\n",
    "            *   Print "Too large. Try again."."
   ]
  },
  {
   "cell_type": "code",
   "execution_count": null,
   "metadata": {},
   "outputs": [],
   "source": [
    "import random\n",
    "\n",
    "# Outside the loop setup\n",
    "answer = random.randint(1, 50)\n",
    "guess_correct = False\n",
    "print(\"Guess the number between 1 and 50!\")\n",
    "\n",
    "# Game loop\n",
    "while not guess_correct:\n",
    "    try: # Add error handling for non-numeric input\n",
    "        user_guess = int(input(\"Enter your guess: \"))\n",
    "\n",
    "        if user_guess == answer:\n",
    "            print(\"Correct! You guessed the right number.\")\n",
    "            guess_correct = True # Terminate the loop\n",
    "        elif user_guess < answer:\n",
    "            print(\"Too small. Try again.\")\n",
    "        else: # user_guess > answer\n",
    "            print(\"Too large. Try again.\")\n",
    "            \n",
    "    except ValueError:\n",
    "        print(\"Invalid input. Please enter a number.\")\n",
    "        \n",
    "print(\"Game Over!\")"
   ]
  },
  {
   "cell_type": "markdown",
   "metadata": {},
   "source": [
    "## Practice: Generating a List of Random Numbers\n",
    "\n",
    "**Task:** Generate a list containing exactly 5 random integers, each ranging from 1 to 10.\n",
    "\n",
    "We can solve this using either a `while` loop or a `for` loop."
   ]
  },
  {
   "cell_type": "markdown",
   "metadata": {},
   "source": [
    "### Solution using `while` loop:"
   ]
  },
  {
   "cell_type": "code",
   "execution_count": null,
   "metadata": {},
   "outputs": [],
   "source": [
    "import random\n",
    "\n",
    "list_random_while = []\n",
    "\n",
    "# Loop until the list has 5 elements\n",
    "while len(list_random_while) < 5:\n",
    "    random_int = random.randint(1, 10)\n",
    "    list_random_while.append(random_int)\n",
    "\n",
    "print(\"Using while loop:\", list_random_while)"
   ]
  },
  {
   "cell_type": "markdown",
   "metadata": {},
   "source": [
    "### Solution using `for` loop (with `range`):\n",
    "\n",
    "Since we know exactly how many items we need (5), a `for` loop with `range(5)` is often considered more direct or 'Pythonic' for this specific task."
   ]
  },
  {
   "cell_type": "code",
   "execution_count": null,
   "metadata": {},
   "outputs": [],
   "source": [
    "import random\n",
    "\n",
    "list_random_for = []\n",
    "\n",
    "# Loop exactly 5 times\n",
    "for i in range(5):\n",
    "    random_int = random.randint(1, 10)\n",
    "    list_random_for.append(random_int)\n",
    "\n",
    "print(\"Using for loop:\", list_random_for)"
   ]
  },
  {
   "cell_type": "markdown",
   "metadata": {},
   "source": [
    "## `for` vs `while` Statements\n",
    "\n",
    "*   **`for` loops:**\n",
    "    *   **Use Case:** Best when you want to iterate over a known sequence (list, string, etc.) or when you know the exact number of iterations required (using `range()`).\n",
    "    *   **Control:** Iteration is controlled by the length of the sequence or the `range` object.\n",
    "    *   **Variable Update:** The loop variable is automatically updated with the next item in the sequence.\n",
    "\n",
    "*   **`while` loops:**\n",
    "    *   **Use Case:** Best when you need to repeat instructions *until* a specific condition is met, and you don't know beforehand how many iterations that will take (like the guessing game).\n",
    "    *   **Control:** Iteration is controlled by a Boolean condition.\n",
    "    *   **Variable Update:** You must explicitly include code within the loop to update variables involved in the condition to eventually make it `False` and avoid infinite loops."
   ]
  },
  {
   "cell_type": "markdown",
   "metadata": {},
   "source": [
    "## Summary Table: `for` vs `while`\n",
    "\n",
    "| Feature           | `for` Statement                                     | `while` Statement                                      |\n",
    "|-------------------|-----------------------------------------------------|--------------------------------------------------------|\n",
    "| **Purpose**       | Iterate over a sequence (list, string, range etc.)  | Repeat block based on a condition being `True`         |\n",
    "| **Interaction Ctrl**| Controlled by length of sequence/iterable          | Controlled by a Boolean condition                      |\n",
    "| **Initialization**| Loop variable auto-assigned each item             | Loop control variables initialized explicitly before loop|\n",
    "| **Loop Ctrl Var** | Auto-updated by loop mechanism                    | Must be explicitly updated within the loop body        |\n",
    "| **Termination**   | Stops after the last item is processed              | Stops when the condition becomes `False`               |\n",
    "| **Flexibility**   | Suitable when # iterations is known/predetermined | Suitable when # iterations is uncertain/condition-based|"
   ]
  },
  {
   "cell_type": "markdown",
   "metadata": {},
   "source": [
    "## Modifying Loop Control Flow: `break` and `continue`\n",
    "\n",
    "Sometimes you need to alter the normal execution flow *within* a loop (`for` or `while`).\n",
    "\n",
    "*   **`break` Statement:** Immediately **terminates** the entire loop prematurely. Execution jumps to the first statement *after* the loop block.\n",
    "*   **`continue` Statement:** Immediately **skips** the rest of the *current iteration* and jumps back to the beginning of the loop to start the **next iteration**."
   ]
  },
  {
   "cell_type": "markdown",
   "metadata": {},
   "source": [
    "### The `break` Statement\n",
    "\n",
    "When `break` is encountered inside a loop, the loop stops immediately, regardless of the loop's condition or remaining items in the sequence."
   ]
  },
  {
   "cell_type": "markdown",
   "metadata": {},
   "source": [
    "#### Practice: `break` - Online Shopping Cart\n",
    "\n",
    "**Goal:** Develop a simple application where users can add product IDs to a cart until they decide to stop.\n",
    "\n",
    "**Logic:**\n",
    "1.  Initialize an empty list `cart_items`.\n",
    "2.  Start an infinite loop (`while True:`).\n",
    "3.  Inside the loop, ask the user if they want to add an item (\"Add to Cart? Y/N : \").\n",
    "4.  If the answer (case-insensitive) is 'Y':\n",
    "    *   Ask for the Product ID.\n",
    "    *   Append the ID to the `cart_items` list.\n",
    "5.  If the answer is 'N' (or anything else):\n",
    "    *   Use `break` to exit the infinite loop.\n",
    "6.  After the loop finishes (due to `break`), print the final `cart_items`."
   ]
  },
  {
   "cell_type": "code",
   "execution_count": null,
   "metadata": {},
   "outputs": [],
   "source": [
    "cart_items = []\n",
    "\n",
    "while True:\n",
    "    add_to_cart = input(\"Add to Cart? Y/N : \").strip().upper()\n",
    "    \n",
    "    if add_to_cart == \"Y\":\n",
    "        product_id = input(\"Enter the Product ID to add to the cart: \").strip()\n",
    "        if product_id: # Basic check to ensure something was entered\n",
    "            cart_items.append(product_id)\n",
    "        else:\n",
    "            print(\"No product ID entered.\")\n",
    "    else: # Assumes 'N' or any other input means stop\n",
    "        print(\"Stopping adding items.\")\n",
    "        break # Exit the while loop\n",
    "        \n",
    "print(\"\\nProducts added to the cart:\", cart_items)"
   ]
  },
  {
   "cell_type": "markdown",
   "metadata": {},
   "source": [
    "### The `continue` Statement\n",
    "\n",
    "When `continue` is encountered, the current iteration stops, and the loop immediately proceeds to the next iteration (evaluating the condition again in a `while` loop, or getting the next item in a `for` loop)."
   ]
  },
  {
   "cell_type": "markdown",
   "metadata": {},
   "source": [
    "#### Practice: `continue` - Calculating Total Revenue (Skip Invalid Data)\n",
    "\n",
    "**Goal:** Calculate the total revenue from a dictionary of customer data, skipping any entries with negative or zero purchase amounts (invalid data).\n",
    "\n",
    "**Data:**\n",
    "```python\n",
    "customer_data = {\n",
    "    'mem_01': 50, 'mem_02': -30, 'mem_03': 400, 'mem_04': 1500,\n",
    "    'mem_05': 2000, 'mem_06': 5000, 'mem_07': 0, 'mem_08': 4000,\n",
    "    'mem_09': 1500, 'mem_10': 1200\n",
    "}\n",
    "```\n",
    "**Logic:**\n",
    "1.  Initialize `total_revenue = 0`.\n",
    "2.  Use a `for` loop to iterate through the keys (`mem_id`) of `customer_data`.\n",
    "3.  Inside the loop, get the purchase amount: `amount = customer_data[mem_id]`.\n",
    "4.  Check if the `amount` is invalid (e.g., `amount <= 0`).\n",
    "5.  If it's invalid, use `continue` to skip the rest of the current iteration (i.e., skip adding this amount) and move to the next customer.\n",
    "6.  If the amount is valid, add it to `total_revenue`.\n",
    "7.  After the loop, print the final `total_revenue`."
   ]
  },
  {
   "cell_type": "code",
   "execution_count": null,
   "metadata": {},
   "outputs": [],
   "source": [
    "customer_data = {\n",
    "    'mem_01': 50, 'mem_02': -30, 'mem_03': 400, 'mem_04': 1500,\n",
    "    'mem_05': 2000, 'mem_06': 5000, 'mem_07': 0, 'mem_08': 4000,\n",
    "    'mem_09': 1500, 'mem_10': 1200\n",
    "}\n",
    "\n",
    "total_revenue = 0\n",
    "for mem_id in customer_data:\n",
    "    amount = customer_data[mem_id]\n",
    "    \n",
    "    # Skip customers with no purchase amount or invalid data\n",
    "    if amount <= 0:\n",
    "        print(f\"Skipping {mem_id} due to invalid amount: {amount}\")\n",
    "        continue # Go to the next iteration (next mem_id)\n",
    "        \n",
    "    # If amount is valid, add to total revenue\n",
    "    # This line is only reached if 'continue' was not executed\n",
    "    total_revenue += amount \n",
    "    print(f\"Adding {amount} from {mem_id}. Current total: {total_revenue}\") # Optional: trace execution\n",
    "\n",
    "print(f\"\\nFinal Total Revenue: {total_revenue}\")"
   ]
  },
  {
   "cell_type": "markdown",
   "metadata": {},
   "source": [
    "## Summary: `break` vs `continue`\n",
    "\n",
    "*   `break`: Exits the entire loop immediately.\n",
    "*   `continue`: Skips the rest of the *current* iteration and proceeds to the *next* iteration."
   ]
  }
 ],
 "metadata": {
  "kernelspec": {
   "display_name": "Python 3 (ipykernel)",
   "language": "python",
   "name": "python3"
  },
  "language_info": {
   "codemirror_mode": {
    "name": "ipython",
    "version": 3
   },
   "file_extension": ".py",
   "mimetype": "text/x-python",
   "name": "python",
   "nbconvert_exporter": "python",
   "pygments_lexer": "ipython3",
   "version": "3.11.7"
  }
 },
 "nbformat": 4,
 "nbformat_minor": 2
}