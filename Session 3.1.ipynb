{
 "cells": [
  {
   "cell_type": "markdown",
   "metadata": {},
   "source": [
    "# Data Structure (1): Python Lists\n",
    "\n",
    "Based on slides by Hyunji So, McGill Desautels."
   ]
  },
  {
   "cell_type": "markdown",
   "metadata": {},
   "source": [
    "## What is a List?\n",
    "\n",
    "A **list** in Python is a fundamental data structure used to store an ordered collection of items (or elements).\n",
    "\n",
    "*   **List:** A type that deals with a sequence of data.\n",
    "*   **Element:** An individual data item within the list.\n",
    "*   **Index:** The position of an element within the list. Python uses zero-based indexing (the first element is at index 0)."
   ]
  },
  {
   "cell_type": "markdown",
   "metadata": {},
   "source": [
    "## Creating Lists\n",
    "\n",
    "*   Lists are defined using **square brackets `[]`**.\n",
    "*   Items (elements) within the list are separated by **commas `,`**."
   ]
  },
  {
   "cell_type": "code",
   "execution_count": null,
   "metadata": {},
   "outputs": [],
   "source": [
    "my_list = ['a', 'b', 'c']\n",
    "print(my_list)\n",
    "print(type(my_list))"
   ]
  },
  {
   "cell_type": "markdown",
   "metadata": {},
   "source": [
    "### List Characteristics\n",
    "\n",
    "*   **Empty Lists:** You can create a list with no elements.\n",
    "*   **Data Types:** Lists can contain items of various data types, including strings, integers, floats, booleans, and even other lists.\n",
    "*   **Mixed Types:** A single list can contain items of different data types."
   ]
  },
  {
   "cell_type": "code",
   "execution_count": null,
   "metadata": {},
   "outputs": [],
   "source": [
    "empty_list = []\n",
    "print(empty_list)\n",
    "\n",
    "letters = ['a', 'b', 'c', 'd']\n",
    "numbers = [2, 4, 5]\n",
    "print(letters)\n",
    "print(numbers)\n",
    "\n",
    "mixed = [4, 5, \"seconds\", True, 3.14]\n",
    "print(mixed)"
   ]
  },
  {
   "cell_type": "markdown",
   "metadata": {},
   "source": [
    "## Accessing List Elements (Indexing)\n",
    "\n",
    "To access a single element in a list, use its **index** inside square brackets `[]`.\n",
    "\n",
    "*   **Positive Indexing:** Starts from `0` for the first element.\n",
    "*   **Negative Indexing:** Starts from `-1` for the *last* element, `-2` for the second-to-last, and so on."
   ]
  },
  {
   "cell_type": "code",
   "execution_count": null,
   "metadata": {},
   "outputs": [],
   "source": [
    "Names = [\"Jim\", \"Micheal\", \"Pam\", \"Dwight\"]\n",
    "\n",
    "# Positive Indexing\n",
    "print(f\"First element (index 0): {Names[0]}\")\n",
    "print(f\"Third element (index 2): {Names[2]}\")\n",
    "\n",
    "# Negative Indexing\n",
    "print(f\"Last element (index -1): {Names[-1]}\")\n",
    "print(f\"Second to last element (index -2): {Names[-2]}\")"
   ]
  },
  {
   "cell_type": "markdown",
   "metadata": {},
   "source": [
    "## Accessing a Range of Elements (Slicing)\n",
    "\n",
    "**Slicing** allows you to extract a *subset* (a new list) from an existing list based on a range of indices.\n",
    "\n",
    "**Syntax:** `original_list[start:end:step]`\n",
    "\n",
    "*   `start`: The index of the first element to **include** (default: 0, the beginning).\n",
    "*   `end`: The index of the element *before which* the slice stops (**excluded**) (default: the end of the list).\n",
    "*   `step`: (Optional) The interval between elements to include (default: 1)."
   ]
  },
  {
   "cell_type": "code",
   "execution_count": null,
   "metadata": {},
   "outputs": [],
   "source": [
    "Names = [\"Jim\", \"Micheal\", \"Pam\", \"Dwight\", \"Angela\", \"Kevin\"]\n",
    "\n",
    "# Elements from index 1 up to (not including) index 3\n",
    "print(f\"Names[1:3]: {Names[1:3]}\") \n",
    "\n",
    "# Elements from the beginning up to (not including) index 3\n",
    "print(f\"Names[:3]: {Names[:3]}\") \n",
    "\n",
    "# Elements from index 2 to the end\n",
    "print(f\"Names[2:]: {Names[2:]}\") \n",
    "\n",
    "# Every second element from the beginning to the end\n",
    "print(f\"Names[::2]: {Names[::2]}\") \n",
    "\n",
    "# Elements from index 1 to index 5 (exclusive), step 2\n",
    "print(f\"Names[1:5:2]: {Names[1:5:2]}\") "
   ]
  },
  {
   "cell_type": "markdown",
   "metadata": {},
   "source": [
    "## Modifying List Elements\n",
    "\n",
    "Lists are **mutable**, meaning you can change their content after they are created.\n",
    "\n",
    "To modify an element, assign a new value to a specific index."
   ]
  },
  {
   "cell_type": "code",
   "execution_count": null,
   "metadata": {},
   "outputs": [],
   "source": [
    "Names = [\"Jim\", \"Micheal\", \"Pam\", \"Dwight\"]\n",
    "print(f\"Original list: {Names}\")\n",
    "\n",
    "# Change the element at index 1\n",
    "Names[1] = \"Andrew\" \n",
    "print(f\"Modified list: {Names}\")\n",
    "\n",
    "# Attempting to access or modify an index outside the valid range causes an IndexError\n",
    "try:\n",
    "    Names[10] = \"Stanley\"\n",
    "except IndexError as e:\n",
    "    print(f\"\\nError encountered: {e}\")"
   ]
  },
  {
   "cell_type": "markdown",
   "metadata": {},
   "source": [
    "## List Manipulation and Operations\n",
    "\n",
    "Python provides several built-in methods and operators for working with lists:\n",
    "\n",
    "*   **Add Elements:** `append()`, `insert()`\n",
    "*   **Remove Elements:** `pop()`, `remove()`\n",
    "*   **Check Existence:** `in`, `not in` operators\n",
    "*   **Combine Lists:** Concatenation (`+`), Repetition (`*`)\n",
    "*   **Check Length:** `len()` function"
   ]
  },
  {
   "cell_type": "markdown",
   "metadata": {},
   "source": [
    "### Adding Elements: `append()`\n",
    "\n",
    "The `append(element)` method adds a single `element` to the very **end** of the list."
   ]
  },
  {
   "cell_type": "code",
   "execution_count": null,
   "metadata": {},
   "outputs": [],
   "source": [
    "a = [1, 2, 3]\n",
    "print(f\"Original list a: {a}\")\n",
    "a.append(4)\n",
    "print(f\"List after a.append(4): {a}\")"
   ]
  },
  {
   "cell_type": "markdown",
   "metadata": {},
   "source": [
    "### Adding Elements: `insert()`\n",
    "\n",
    "The `insert(position, value)` method inserts the `value` at the specified `position` (index). Existing elements from that position onwards are shifted to the right."
   ]
  },
  {
   "cell_type": "code",
   "execution_count": null,
   "metadata": {},
   "outputs": [],
   "source": [
    "a = [1, 2, 3]\n",
    "print(f\"Original list a: {a}\")\n",
    "a.insert(0, 0) # Insert 0 at index 0\n",
    "print(f\"List after a.insert(0, 0): {a}\")"
   ]
  },
  {
   "cell_type": "markdown",
   "metadata": {},
   "source": [
    "#### Quiz: `insert()`\n",
    "\n",
    "What will be the output of the following code?\n",
    "```python\n",
    "a = [1, 2, 3]\n",
    "a.insert(1, 4)\n",
    "print(a)\n",
    "```"
   ]
  },
  {
   "cell_type": "code",
   "execution_count": null,
   "metadata": {},
   "outputs": [],
   "source": [
    "a = [1, 2, 3]\n",
    "a.insert(1, 4)\n",
    "print(a)"
   ]
  },
  {
   "cell_type": "markdown",
   "metadata": {},
   "source": [
    "### Deleting Elements: `pop()`\n",
    "\n",
    "The `pop(index)` method removes and *returns* the item at the specified `index`.\n",
    "*   If no `index` is specified, `pop()` removes and returns the **last** item in the list."
   ]
  },
  {
   "cell_type": "code",
   "execution_count": null,
   "metadata": {},
   "outputs": [],
   "source": [
    "list_a = [\"a\", \"b\", \"c\", \"d\"]\n",
    "print(f\"Original list_a: {list_a}\")\n",
    "\n",
    "removed_item_at_2 = list_a.pop(2) # Remove item at index 2 ('c')\n",
    "print(f\"Item removed using pop(2): {removed_item_at_2}\")\n",
    "print(f\"List after pop(2): {list_a}\")\n",
    "\n",
    "removed_last_item = list_a.pop() # Remove last item ('d')\n",
    "print(f\"Item removed using pop(): {removed_last_item}\")\n",
    "print(f\"List after pop(): {list_a}\")"
   ]
  },
  {
   "cell_type": "markdown",
   "metadata": {},
   "source": [
    "### Deleting Elements: `remove()`\n",
    "\n",
    "The `remove(value)` method searches for the **first occurrence** of the specified `value` and removes it from the list.\n",
    "*   It does *not* return the removed value.\n",
    "*   If the value is not found, it raises a `ValueError`."
   ]
  },
  {
   "cell_type": "code",
   "execution_count": null,
   "metadata": {},
   "outputs": [],
   "source": [
    "list_b = [\"a\", \"b\", \"c\", \"b\", \"d\"]\n",
    "print(f\"Original list_b: {list_b}\")\n",
    "\n",
    "list_b.remove(\"b\") # Removes the first 'b' found (at index 1)\n",
    "print(f\"List after remove('b'): {list_b}\")\n",
    "\n",
    "try:\n",
    "    list_b.remove(\"x\") # 'x' is not in the list\n",
    "except ValueError as e:\n",
    "    print(f\"\\nError trying to remove 'x': {e}\")"
   ]
  },
  {
   "cell_type": "markdown",
   "metadata": {},
   "source": [
    "#### `pop()` vs `remove()`\n",
    "\n",
    "*   Use `pop()` when you know the **index** of the item you want to remove, or if you want to remove the last item.\n",
    "*   Use `remove()` when you know the **value** of the item you want to remove (and you want to remove only the first instance of it)."
   ]
  },
  {
   "cell_type": "markdown",
   "metadata": {},
   "source": [
    "### Checking for Element Existence: `in` / `not in`\n",
    "\n",
    "The `in` and `not in` operators check if a particular element exists within a list. They return a Boolean value (`True` or `False`)."
   ]
  },
  {
   "cell_type": "code",
   "execution_count": null,
   "metadata": {},
   "outputs": [],
   "source": [
    "a = [1, 2, 3]\n",
    "print(f\"Is 4 in list a? {4 in a}\")\n",
    "print(f\"Is 3 in list a? {3 in a}\")\n",
    "print(f\"Is 4 not in list a? {4 not in a}\")\n",
    "print(f\"Is 3 not in list a? {3 not in a}\")"
   ]
  },
  {
   "cell_type": "markdown",
   "metadata": {},
   "source": [
    "### Combining Lists: Concatenation (`+`)\n",
    "\n",
    "The `+` operator can be used to combine two or more lists, creating a new list containing all elements from the original lists in order."
   ]
  },
  {
   "cell_type": "code",
   "execution_count": null,
   "metadata": {},
   "outputs": [],
   "source": [
    "list_1 = [1, 2, 3]\n",
    "list_2 = [4, 5, 6]\n",
    "\n",
    "list_1_2 = list_1 + list_2\n",
    "print(f\"Concatenated list: {list_1_2}\")"
   ]
  },
  {
   "cell_type": "markdown",
   "metadata": {},
   "source": [
    "### Combining Lists: Repetition (`*`)\n",
    "\n",
    "The `*` operator can be used to create a new list by repeating the elements of an existing list a specified number of times."
   ]
  },
  {
   "cell_type": "code",
   "execution_count": null,
   "metadata": {},
   "outputs": [],
   "source": [
    "list_1 = [1, 2, 3]\n",
    "\n",
    "list_1_rep = list_1 * 3\n",
    "print(f\"Repeated list: {list_1_rep}\")"
   ]
  },
  {
   "cell_type": "markdown",
   "metadata": {},
   "source": [
    "### Checking List Length: `len()`\n",
    "\n",
    "The built-in `len()` function returns the number of elements currently in a list."
   ]
  },
  {
   "cell_type": "code",
   "execution_count": null,
   "metadata": {},
   "outputs": [],
   "source": [
    "# Using list_1_rep from the previous example\n",
    "list_1_rep = [1, 2, 3, 1, 2, 3, 1, 2, 3]\n",
    "print(f\"The list is: {list_1_rep}\")\n",
    "print(f\"The length of the list is: {len(list_1_rep)}\")\n",
    "\n",
    "empty_list = []\n",
    "print(f\"The length of empty_list is: {len(empty_list)}\")"
   ]
  },
  {
   "cell_type": "markdown",
   "metadata": {},
   "source": [
    "## Summary of Lists\n",
    "\n",
    "*   **Ordered Collection:** Lists maintain the order of elements.\n",
    "*   **Syntax:** Defined with square brackets `[]`, elements separated by commas.\n",
    "*   **Mutable:** Elements can be changed after creation.\n",
    "*   **Heterogeneous:** Can store elements of different data types.\n",
    "*   **Indexing:** Access elements using zero-based index `[i]` (positive or negative).\n",
    "*   **Slicing:** Extract sub-lists using `[start:end:step]`.\n",
    "*   **Operations:** Support appending (`append`), inserting (`insert`), removing (`pop`, `remove`), checking membership (`in`), concatenation (`+`), repetition (`*`), and finding length (`len()`).\n",
    "*   **Versatile:** Used widely in Python for various tasks and as a basis for other data structures like stacks and queues."
   ]
  }
 ],
 "metadata": {
  "kernelspec": {
   "display_name": "Python 3 (ipykernel)",
   "language": "python",
   "name": "python3"
  },
  "language_info": {
   "codemirror_mode": {
    "name": "ipython",
    "version": 3
   },
   "file_extension": ".py",
   "mimetype": "text/x-python",
   "name": "python",
   "nbconvert_exporter": "python",
   "pygments_lexer": "ipython3",
   "version": "3.11.7"
  }
 },
 "nbformat": 4,
 "nbformat_minor": 2
}